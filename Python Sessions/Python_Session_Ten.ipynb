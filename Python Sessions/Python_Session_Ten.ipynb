{
  "nbformat": 4,
  "nbformat_minor": 0,
  "metadata": {
    "colab": {
      "provenance": []
    },
    "kernelspec": {
      "name": "python3",
      "display_name": "Python 3"
    },
    "language_info": {
      "name": "python"
    }
  },
  "cells": [
    {
      "cell_type": "markdown",
      "source": [
        "Unit Testing in Python\n",
        "**bold text**\n",
        "Unit Testing is the first level of software testing where the smallest testable parts of a software are tested. This is used to validate that each unit of the software performs as designed.\n",
        "\n",
        "White Box Testing method is used for Unit testing."
      ],
      "metadata": {
        "id": "LZdLk-qnRbJb"
      }
    },
    {
      "cell_type": "markdown",
      "source": [
        "**assertEqual()** – This statement is used to check if the result obtained is equal to the expected result.\n",
        "\n",
        "**assertNotEqual()** – This statement is used to check if the result obtained is not equal to the expected result.\n",
        "\n",
        "**assertTrue() / assertFalse()** – This statement is used to verify if a given statement is true or false.\n",
        "\n",
        "**assertRaises()** – This statement is used to raise a specific exception (web appln)."
      ],
      "metadata": {
        "id": "wu4Og6Kak5lZ"
      }
    },
    {
      "cell_type": "code",
      "source": [
        "pip install unittest #to install unittest package\n",
        "pip -u unittest # to update unittest package"
      ],
      "metadata": {
        "id": "Oi1_GmQaPLt5"
      },
      "execution_count": null,
      "outputs": []
    },
    {
      "cell_type": "code",
      "source": [
        "import unittest\n",
        "  \n",
        "class SimpleTest(unittest.TestCase):\n",
        "  \n",
        "    # Returns True or False. \n",
        "    def test(self):        \n",
        "        self.assertTrue(True)\n",
        "  \n",
        "if __name__ == '__main__':\n",
        "    unittest.main()"
      ],
      "metadata": {
        "colab": {
          "base_uri": "https://localhost:8080/",
          "height": 374
        },
        "id": "mRp7EtqER5VA",
        "outputId": "54660c31-1e05-4ffc-a699-e630225c8b24"
      },
      "execution_count": null,
      "outputs": [
        {
          "output_type": "error",
          "ename": "ModuleNotFoundError",
          "evalue": "ignored",
          "traceback": [
            "\u001b[0;31m---------------------------------------------------------------------------\u001b[0m",
            "\u001b[0;31mModuleNotFoundError\u001b[0m                       Traceback (most recent call last)",
            "\u001b[0;32m<ipython-input-1-9947d756e25f>\u001b[0m in \u001b[0;36m<module>\u001b[0;34m\u001b[0m\n\u001b[0;32m----> 1\u001b[0;31m \u001b[0;32mimport\u001b[0m \u001b[0munittest1\u001b[0m\u001b[0;34m\u001b[0m\u001b[0;34m\u001b[0m\u001b[0m\n\u001b[0m\u001b[1;32m      2\u001b[0m \u001b[0;34m\u001b[0m\u001b[0m\n\u001b[1;32m      3\u001b[0m \u001b[0;32mclass\u001b[0m \u001b[0mSimpleTest\u001b[0m\u001b[0;34m(\u001b[0m\u001b[0munittest\u001b[0m\u001b[0;34m.\u001b[0m\u001b[0mTestCase\u001b[0m\u001b[0;34m)\u001b[0m\u001b[0;34m:\u001b[0m\u001b[0;34m\u001b[0m\u001b[0;34m\u001b[0m\u001b[0m\n\u001b[1;32m      4\u001b[0m \u001b[0;34m\u001b[0m\u001b[0m\n\u001b[1;32m      5\u001b[0m     \u001b[0;31m# Returns True or False.\u001b[0m\u001b[0;34m\u001b[0m\u001b[0;34m\u001b[0m\u001b[0;34m\u001b[0m\u001b[0m\n",
            "\u001b[0;31mModuleNotFoundError\u001b[0m: No module named 'unittest1'",
            "",
            "\u001b[0;31m---------------------------------------------------------------------------\u001b[0;32m\nNOTE: If your import is failing due to a missing package, you can\nmanually install dependencies using either !pip or !apt.\n\nTo view examples of installing some common dependencies, click the\n\"Open Examples\" button below.\n\u001b[0;31m---------------------------------------------------------------------------\u001b[0m\n"
          ],
          "errorDetails": {
            "actions": [
              {
                "action": "open_url",
                "actionText": "Open Examples",
                "url": "/notebooks/snippets/importing_libraries.ipynb"
              }
            ]
          }
        }
      ]
    },
    {
      "cell_type": "code",
      "source": [
        "# Python code to demonstrate working of unittest\n",
        "import unittest\n",
        "import test_fns as fns\n",
        "\n",
        "class TestStringMethods(unittest.TestCase):\n",
        "\t\n",
        "\tdef setUp(self):\n",
        "\t\tpass\n",
        "\n",
        "\t# Returns True if the string contains 4 a.\n",
        "\tdef test_strings_a(self):\n",
        "\t\tresult = fns.fun1()\n",
        "\t\tself.assertEqual( 'a'*4, 'aaaa')\n",
        "\n",
        "\t# Returns True if the string is in upper case.\n",
        "\tdef test_upper(self):\t\t\n",
        "\t\tself.assertEqual('foo'.upper(), 'FOO')\n",
        "\n",
        "\t# Returns TRUE if the string is in uppercase\n",
        "\t# else returns False.\n",
        "\tdef test_isupper(self):\t\t\n",
        "\t\tself.assertTrue('FOO'.isupper())\n",
        "\t\tself.assertFalse('Foo'.isupper())\n",
        "\n",
        "\t# Returns true if the string is stripped and\n",
        "\t# matches the given output.\n",
        "\tdef test_strip(self):\t\t\n",
        "\t\ts = 'ArunMani'\n",
        "\t\tself.assertEqual(s.strip(' Arun'), 'sMani')\n",
        "\n",
        "\t# Returns true if the string splits and matches\n",
        "\t# the given output.\n",
        "\tdef test_split(self):\t\t\n",
        "\t\ts = 'hello world'\n",
        "\t\tself.assertEqual(s.split(), ['hello', 'world'])\n",
        "\t\twith self.assertRaises(TypeError):\n",
        "\t\t\ts.split(2)\n",
        "\n",
        "if __name__ == '__main__':\n",
        "\tunittest.main()\n"
      ],
      "metadata": {
        "colab": {
          "base_uri": "https://localhost:8080/",
          "height": 322
        },
        "id": "wFqlrlMWSZXh",
        "outputId": "5b3c0452-6f90-4cb3-a00d-f733b5221206"
      },
      "execution_count": null,
      "outputs": [
        {
          "output_type": "stream",
          "name": "stderr",
          "text": [
            "E\n",
            "======================================================================\n",
            "ERROR: /root/ (unittest.loader._FailedTest)\n",
            "----------------------------------------------------------------------\n",
            "AttributeError: module '__main__' has no attribute '/root/'\n",
            "\n",
            "----------------------------------------------------------------------\n",
            "Ran 1 test in 0.004s\n",
            "\n",
            "FAILED (errors=1)\n"
          ]
        },
        {
          "output_type": "error",
          "ename": "SystemExit",
          "evalue": "ignored",
          "traceback": [
            "An exception has occurred, use %tb to see the full traceback.\n",
            "\u001b[0;31mSystemExit\u001b[0m\u001b[0;31m:\u001b[0m True\n"
          ]
        },
        {
          "output_type": "stream",
          "name": "stderr",
          "text": [
            "/usr/local/lib/python3.8/dist-packages/IPython/core/interactiveshell.py:3334: UserWarning: To exit: use 'exit', 'quit', or Ctrl-D.\n",
            "  warn(\"To exit: use 'exit', 'quit', or Ctrl-D.\", stacklevel=1)\n"
          ]
        }
      ]
    },
    {
      "cell_type": "code",
      "source": [
        "s = 'hello world hello world'\n",
        "print(s.split())"
      ],
      "metadata": {
        "colab": {
          "base_uri": "https://localhost:8080/"
        },
        "id": "Eerx6aBaVnND",
        "outputId": "506385f6-953d-4cd4-d583-9320e43a9191"
      },
      "execution_count": null,
      "outputs": [
        {
          "output_type": "stream",
          "name": "stdout",
          "text": [
            "['hello', 'world', 'hello', 'world']\n"
          ]
        }
      ]
    },
    {
      "cell_type": "markdown",
      "source": [
        "**Python unittest – assertEqual() function three inputs**\n",
        "\n",
        "Syntax: assertEqual(firstValue, secondValue, message)\n",
        "\n",
        "Parameters: assertEqual() accept three parameter which are listed below with explanation:\n",
        "\n",
        "firstValue  variable of any type which is used in the comparison by function\n",
        "\n",
        "secondValue: variable of any type which is used in the comparison by function\n",
        "\n",
        "message: a string sentence as a message which got displayed when the test case got failed."
      ],
      "metadata": {
        "id": "XMPavkG5lNqr"
      }
    },
    {
      "cell_type": "code",
      "source": [
        "# unit test case\n",
        "import unittest\n",
        "\n",
        "class TestStringMethods(unittest.TestCase):\n",
        "\t# test function to test equality of two value\n",
        "\tdef test_negative(self):\n",
        "\t\tfirstValue = \"ravi\"\n",
        "\t\tsecondValue = \"raja\"\n",
        "\t\t# error message in case if test case got failed\n",
        "\t\tmessage = \"First value and second value are not equal !\"\n",
        "\t\t# assertEqual() to check equality of first & second value\n",
        "\t\tself.assertEqual(firstValue, secondValue, message)\n",
        "\n",
        "if __name__ == '__main__':\n",
        "\tunittest.main()\n"
      ],
      "metadata": {
        "colab": {
          "base_uri": "https://localhost:8080/",
          "height": 322
        },
        "id": "oc59WWAGlRLT",
        "outputId": "b4072d6d-add8-4c74-de76-55a242218e21"
      },
      "execution_count": null,
      "outputs": [
        {
          "output_type": "stream",
          "name": "stderr",
          "text": [
            "E\n",
            "======================================================================\n",
            "ERROR: /root/ (unittest.loader._FailedTest)\n",
            "----------------------------------------------------------------------\n",
            "AttributeError: module '__main__' has no attribute '/root/'\n",
            "\n",
            "----------------------------------------------------------------------\n",
            "Ran 1 test in 0.003s\n",
            "\n",
            "FAILED (errors=1)\n"
          ]
        },
        {
          "output_type": "error",
          "ename": "SystemExit",
          "evalue": "ignored",
          "traceback": [
            "An exception has occurred, use %tb to see the full traceback.\n",
            "\u001b[0;31mSystemExit\u001b[0m\u001b[0;31m:\u001b[0m True\n"
          ]
        },
        {
          "output_type": "stream",
          "name": "stderr",
          "text": [
            "/usr/local/lib/python3.8/dist-packages/IPython/core/interactiveshell.py:3334: UserWarning: To exit: use 'exit', 'quit', or Ctrl-D.\n",
            "  warn(\"To exit: use 'exit', 'quit', or Ctrl-D.\", stacklevel=1)\n"
          ]
        }
      ]
    },
    {
      "cell_type": "code",
      "source": [
        "# unit test case\n",
        "import unittest\n",
        "\n",
        "class TestStringMethods(unittest.TestCase):\n",
        "\t# test function to test equality of two value\n",
        "\tdef test_positive(self):\n",
        "\t\tfirstValue = \"eluri\"\n",
        "\t\tsecondValue = \"eluri\"\n",
        "\t\t# error message in case if test case got failed\n",
        "\t\tmessage = \"First value and second value are not equal !\"\n",
        "\t\t# assertEqual() to check equality of first & second value\n",
        "\t\tself.assertEqual(firstValue, secondValue, message)\n",
        "\n",
        "if __name__ == '__main__':\n",
        "\tunittest.main()\n"
      ],
      "metadata": {
        "colab": {
          "base_uri": "https://localhost:8080/",
          "height": 322
        },
        "id": "9viNG_lXnJav",
        "outputId": "e374b784-5259-436b-f810-f3c8c56f85f3"
      },
      "execution_count": null,
      "outputs": [
        {
          "output_type": "stream",
          "name": "stderr",
          "text": [
            "E\n",
            "======================================================================\n",
            "ERROR: /root/ (unittest.loader._FailedTest)\n",
            "----------------------------------------------------------------------\n",
            "AttributeError: module '__main__' has no attribute '/root/'\n",
            "\n",
            "----------------------------------------------------------------------\n",
            "Ran 1 test in 0.002s\n",
            "\n",
            "FAILED (errors=1)\n"
          ]
        },
        {
          "output_type": "error",
          "ename": "SystemExit",
          "evalue": "ignored",
          "traceback": [
            "An exception has occurred, use %tb to see the full traceback.\n",
            "\u001b[0;31mSystemExit\u001b[0m\u001b[0;31m:\u001b[0m True\n"
          ]
        },
        {
          "output_type": "stream",
          "name": "stderr",
          "text": [
            "/usr/local/lib/python3.8/dist-packages/IPython/core/interactiveshell.py:3334: UserWarning: To exit: use 'exit', 'quit', or Ctrl-D.\n",
            "  warn(\"To exit: use 'exit', 'quit', or Ctrl-D.\", stacklevel=1)\n"
          ]
        }
      ]
    },
    {
      "cell_type": "markdown",
      "source": [
        "**Python unittest – assertNotEqual() function**\n",
        "\n",
        "assertNotEqual() in Python is a unittest library function that is used in unit testing to check the inequality of two values. \n",
        "\n",
        "This function will take three parameters as input and return a boolean value depending upon the assert condition. \n",
        "\n",
        "If both input values are unequal assertNotEqual() will return true else return false."
      ],
      "metadata": {
        "id": "rzPB0cDSB-4B"
      }
    },
    {
      "cell_type": "markdown",
      "source": [
        "**firstValue:** variable of any type which is used in the comparison by function\n",
        "\n",
        "**secondValue:** variable of any type which is used in the comparison by function\n",
        "\n",
        "**message:** a string sentence as a message which got displayed when the test case got failed."
      ],
      "metadata": {
        "id": "SInlAICSDEsK"
      }
    },
    {
      "cell_type": "code",
      "source": [
        "# unit test case\n",
        "import unittest\n",
        "\n",
        "class TestStringMethods(unittest.TestCase):\n",
        "\t# test function to test not equality of two value\n",
        "\tdef test_positive(self):\n",
        "\t\tfirstValue = \"eluri\"\n",
        "\t\tsecondValue = \"eluri\"\n",
        "\t\t# error message in case if test case got failed\n",
        "\t\tmessage = \"First value and second value are equal !\"\n",
        "\t\t# assertEqual() to check not equality of first & second value\n",
        "\t\tself.assertNotEqual(firstValue, secondValue, message)\n",
        "\n",
        "if __name__ == '__main__':\n",
        "\tunittest.main()\n"
      ],
      "metadata": {
        "colab": {
          "base_uri": "https://localhost:8080/",
          "height": 322
        },
        "id": "4qyBSaO9CI-j",
        "outputId": "78e659d6-7d94-4d3c-f554-9088c4470a8e"
      },
      "execution_count": null,
      "outputs": [
        {
          "output_type": "stream",
          "name": "stderr",
          "text": [
            "E\n",
            "======================================================================\n",
            "ERROR: /root/ (unittest.loader._FailedTest)\n",
            "----------------------------------------------------------------------\n",
            "AttributeError: module '__main__' has no attribute '/root/'\n",
            "\n",
            "----------------------------------------------------------------------\n",
            "Ran 1 test in 0.006s\n",
            "\n",
            "FAILED (errors=1)\n"
          ]
        },
        {
          "output_type": "error",
          "ename": "SystemExit",
          "evalue": "ignored",
          "traceback": [
            "An exception has occurred, use %tb to see the full traceback.\n",
            "\u001b[0;31mSystemExit\u001b[0m\u001b[0;31m:\u001b[0m True\n"
          ]
        },
        {
          "output_type": "stream",
          "name": "stderr",
          "text": [
            "/usr/local/lib/python3.8/dist-packages/IPython/core/interactiveshell.py:3334: UserWarning: To exit: use 'exit', 'quit', or Ctrl-D.\n",
            "  warn(\"To exit: use 'exit', 'quit', or Ctrl-D.\", stacklevel=1)\n"
          ]
        }
      ]
    },
    {
      "cell_type": "code",
      "source": [
        "# unit test case\n",
        "import unittest\n",
        "\n",
        "class TestStringMethods(unittest.TestCase):\n",
        "\t# test function to test not equality of two value\n",
        "\tdef test_positive(self):\n",
        "\t\tfirstValue = \"eluri\"\n",
        "\t\tsecondValue = \"ram\"\n",
        "\t\t# error message in case if test case got failed\n",
        "\t\tmessage = \"First value and second value are equal !\"\n",
        "\t\t# assertEqual() to check not equality of first & second value\n",
        "\t\tself.assertNotEqual(firstValue, secondValue, message)\n",
        "\n",
        "if __name__ == '__main__':\n",
        "\tunittest.main()\n"
      ],
      "metadata": {
        "id": "z93RmQOcDlRd",
        "outputId": "76b93647-3824-443f-ab5a-df30256cadda",
        "colab": {
          "base_uri": "https://localhost:8080/",
          "height": 322
        }
      },
      "execution_count": null,
      "outputs": [
        {
          "output_type": "stream",
          "name": "stderr",
          "text": [
            "E\n",
            "======================================================================\n",
            "ERROR: /root/ (unittest.loader._FailedTest)\n",
            "----------------------------------------------------------------------\n",
            "AttributeError: module '__main__' has no attribute '/root/'\n",
            "\n",
            "----------------------------------------------------------------------\n",
            "Ran 1 test in 0.008s\n",
            "\n",
            "FAILED (errors=1)\n"
          ]
        },
        {
          "output_type": "error",
          "ename": "SystemExit",
          "evalue": "ignored",
          "traceback": [
            "An exception has occurred, use %tb to see the full traceback.\n",
            "\u001b[0;31mSystemExit\u001b[0m\u001b[0;31m:\u001b[0m True\n"
          ]
        },
        {
          "output_type": "stream",
          "name": "stderr",
          "text": [
            "/usr/local/lib/python3.8/dist-packages/IPython/core/interactiveshell.py:3334: UserWarning: To exit: use 'exit', 'quit', or Ctrl-D.\n",
            "  warn(\"To exit: use 'exit', 'quit', or Ctrl-D.\", stacklevel=1)\n"
          ]
        }
      ]
    },
    {
      "cell_type": "markdown",
      "source": [
        "**Python unittest – assertIn() function**\n",
        "\n",
        "Syntax: assertIn(key, container, message)\n",
        "\n",
        "Parameters: assertIn() accept three parameters which are listed below with explanation:\n",
        "\n",
        "key:  a string whose presence is checked in the given container\n",
        "\n",
        "container: a string in which key string is searched\n",
        "\n",
        "message: a string sentence as a message which got displayed when the test case got failed."
      ],
      "metadata": {
        "id": "SNRbeuPTnTUJ"
      }
    },
    {
      "cell_type": "code",
      "source": [
        "# test suite\n",
        "import unittest\n",
        "\n",
        "class TestStringMethods(unittest.TestCase):\n",
        "\t# test function to test whether key is present in container\n",
        "\tdef test_negative(self):\n",
        "\t\tkey = \"arun\"\n",
        "\t\tcontainer = \"arunkiraneluri\"\n",
        "\t\t# error message in case if test case got failed\n",
        "\t\tmessage = \"key is not in container.\"\n",
        "\t\t# assertIn() to check if key is in container\n",
        "\t\tself.assertIn(key, container, message)\n",
        "\n",
        "if __name__ == '__main__':\n",
        "\tunittest.main()\n"
      ],
      "metadata": {
        "colab": {
          "base_uri": "https://localhost:8080/",
          "height": 322
        },
        "id": "26ULF7J8nUpz",
        "outputId": "ae1ff4e3-7232-48b6-c289-1b480670b7a9"
      },
      "execution_count": null,
      "outputs": [
        {
          "output_type": "stream",
          "name": "stderr",
          "text": [
            "E\n",
            "======================================================================\n",
            "ERROR: /root/ (unittest.loader._FailedTest)\n",
            "----------------------------------------------------------------------\n",
            "AttributeError: module '__main__' has no attribute '/root/'\n",
            "\n",
            "----------------------------------------------------------------------\n",
            "Ran 1 test in 0.003s\n",
            "\n",
            "FAILED (errors=1)\n"
          ]
        },
        {
          "output_type": "error",
          "ename": "SystemExit",
          "evalue": "ignored",
          "traceback": [
            "An exception has occurred, use %tb to see the full traceback.\n",
            "\u001b[0;31mSystemExit\u001b[0m\u001b[0;31m:\u001b[0m True\n"
          ]
        },
        {
          "output_type": "stream",
          "name": "stderr",
          "text": [
            "/usr/local/lib/python3.8/dist-packages/IPython/core/interactiveshell.py:3334: UserWarning: To exit: use 'exit', 'quit', or Ctrl-D.\n",
            "  warn(\"To exit: use 'exit', 'quit', or Ctrl-D.\", stacklevel=1)\n"
          ]
        }
      ]
    },
    {
      "cell_type": "code",
      "source": [
        "# test suite\n",
        "import unittest\n",
        "\n",
        "\n",
        "class TestStringMethods(unittest.TestCase):\n",
        "\t# test function to test whether key is present in container\n",
        "\tdef test_positive(self):\n",
        "\t\tkey = \"Hello\"\n",
        "\t\tcontainer = \"hi hello world\"\n",
        "\t\t# error message in case if test case got failed\n",
        "\t\tmessage = \"key is not in container.\"\n",
        "\t\t# assertIn() to check if key is in container\n",
        "\t\tself.assertIn(key, container, message)\n",
        "\n",
        "\n",
        "if __name__ == '__main__':\n",
        "\tunittest.main()\n"
      ],
      "metadata": {
        "colab": {
          "base_uri": "https://localhost:8080/",
          "height": 322
        },
        "id": "KoQFyeYSni3R",
        "outputId": "27970980-c408-44a7-90c9-fcfba7b4e8f9"
      },
      "execution_count": null,
      "outputs": [
        {
          "output_type": "stream",
          "name": "stderr",
          "text": [
            "E\n",
            "======================================================================\n",
            "ERROR: /root/ (unittest.loader._FailedTest)\n",
            "----------------------------------------------------------------------\n",
            "AttributeError: module '__main__' has no attribute '/root/'\n",
            "\n",
            "----------------------------------------------------------------------\n",
            "Ran 1 test in 0.007s\n",
            "\n",
            "FAILED (errors=1)\n"
          ]
        },
        {
          "output_type": "error",
          "ename": "SystemExit",
          "evalue": "ignored",
          "traceback": [
            "An exception has occurred, use %tb to see the full traceback.\n",
            "\u001b[0;31mSystemExit\u001b[0m\u001b[0;31m:\u001b[0m True\n"
          ]
        },
        {
          "output_type": "stream",
          "name": "stderr",
          "text": [
            "/usr/local/lib/python3.8/dist-packages/IPython/core/interactiveshell.py:3334: UserWarning: To exit: use 'exit', 'quit', or Ctrl-D.\n",
            "  warn(\"To exit: use 'exit', 'quit', or Ctrl-D.\", stacklevel=1)\n"
          ]
        }
      ]
    },
    {
      "cell_type": "markdown",
      "source": [
        "**response.raise_for_status() – Python requests**\n",
        "\n",
        "response.raise_for_status() returns an HTTPError object if an error has occurred during the process. It is used for debugging the requests module and is an integral part of Python requests. Python requests are generally used to fetch the content from a particular resource URL."
      ],
      "metadata": {
        "id": "G-W9aLokntUK"
      }
    },
    {
      "cell_type": "code",
      "source": [
        "# import requests module\n",
        "import requests\n",
        "\n",
        "# Making a get request\n",
        "response = requests.get('https://api.github.com/')\n",
        "\n",
        "# print response\n",
        "print(response)\n",
        "\n",
        "# print check if an error has occurred\n",
        "print(response.raise_for_status())\n",
        "\n",
        "# ping an incorrect url\n",
        "response = requests.get('https://mail.google.com/')\n",
        "\n",
        "# print check if an error has occurred\n",
        "print(response.raise_for_status())\n"
      ],
      "metadata": {
        "colab": {
          "base_uri": "https://localhost:8080/",
          "height": 357
        },
        "id": "voiYSTx5n2QM",
        "outputId": "ed03a683-849f-4d56-f822-307a3e8f4e3f"
      },
      "execution_count": null,
      "outputs": [
        {
          "output_type": "stream",
          "name": "stdout",
          "text": [
            "<Response [200]>\n",
            "None\n"
          ]
        },
        {
          "output_type": "error",
          "ename": "HTTPError",
          "evalue": "ignored",
          "traceback": [
            "\u001b[0;31m---------------------------------------------------------------------------\u001b[0m",
            "\u001b[0;31mHTTPError\u001b[0m                                 Traceback (most recent call last)",
            "\u001b[0;32m<ipython-input-5-1d79b9f81ffd>\u001b[0m in \u001b[0;36m<module>\u001b[0;34m\u001b[0m\n\u001b[1;32m     15\u001b[0m \u001b[0;34m\u001b[0m\u001b[0m\n\u001b[1;32m     16\u001b[0m \u001b[0;31m# print check if an error has occurred\u001b[0m\u001b[0;34m\u001b[0m\u001b[0;34m\u001b[0m\u001b[0;34m\u001b[0m\u001b[0m\n\u001b[0;32m---> 17\u001b[0;31m \u001b[0mprint\u001b[0m\u001b[0;34m(\u001b[0m\u001b[0mresponse\u001b[0m\u001b[0;34m.\u001b[0m\u001b[0mraise_for_status\u001b[0m\u001b[0;34m(\u001b[0m\u001b[0;34m)\u001b[0m\u001b[0;34m)\u001b[0m\u001b[0;34m\u001b[0m\u001b[0;34m\u001b[0m\u001b[0m\n\u001b[0m",
            "\u001b[0;32m/usr/local/lib/python3.8/dist-packages/requests/models.py\u001b[0m in \u001b[0;36mraise_for_status\u001b[0;34m(self)\u001b[0m\n\u001b[1;32m    939\u001b[0m \u001b[0;34m\u001b[0m\u001b[0m\n\u001b[1;32m    940\u001b[0m         \u001b[0;32mif\u001b[0m \u001b[0mhttp_error_msg\u001b[0m\u001b[0;34m:\u001b[0m\u001b[0;34m\u001b[0m\u001b[0;34m\u001b[0m\u001b[0m\n\u001b[0;32m--> 941\u001b[0;31m             \u001b[0;32mraise\u001b[0m \u001b[0mHTTPError\u001b[0m\u001b[0;34m(\u001b[0m\u001b[0mhttp_error_msg\u001b[0m\u001b[0;34m,\u001b[0m \u001b[0mresponse\u001b[0m\u001b[0;34m=\u001b[0m\u001b[0mself\u001b[0m\u001b[0;34m)\u001b[0m\u001b[0;34m\u001b[0m\u001b[0;34m\u001b[0m\u001b[0m\n\u001b[0m\u001b[1;32m    942\u001b[0m \u001b[0;34m\u001b[0m\u001b[0m\n\u001b[1;32m    943\u001b[0m     \u001b[0;32mdef\u001b[0m \u001b[0mclose\u001b[0m\u001b[0;34m(\u001b[0m\u001b[0mself\u001b[0m\u001b[0;34m)\u001b[0m\u001b[0;34m:\u001b[0m\u001b[0;34m\u001b[0m\u001b[0;34m\u001b[0m\u001b[0m\n",
            "\u001b[0;31mHTTPError\u001b[0m: 404 Client Error: Not Found for url: https://www.geeksforgeeks.org/naveen/"
          ]
        }
      ]
    },
    {
      "cell_type": "code",
      "source": [
        "a = 'ram'\n",
        "b = 5\n",
        "print(type(a))"
      ],
      "metadata": {
        "id": "_-Ee5bKBaYmi",
        "outputId": "fb874940-5bb7-477f-cd02-aa34dda94178",
        "colab": {
          "base_uri": "https://localhost:8080/"
        }
      },
      "execution_count": null,
      "outputs": [
        {
          "output_type": "stream",
          "name": "stdout",
          "text": [
            "<class 'str'>\n"
          ]
        }
      ]
    }
  ]
}