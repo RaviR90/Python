{
  "nbformat": 4,
  "nbformat_minor": 0,
  "metadata": {
    "colab": {
      "provenance": []
    },
    "kernelspec": {
      "name": "python3",
      "display_name": "Python 3"
    },
    "language_info": {
      "name": "python"
    }
  },
  "cells": [
    {
      "cell_type": "markdown",
      "source": [
        "# Python - Tuples"
      ],
      "metadata": {
        "id": "o5LO0ZN4BCNP"
      }
    },
    {
      "cell_type": "markdown",
      "source": [
        "\n",
        "*   Tuples are defined by enclosing elements in parentheses (), separated by a comma.\n",
        "\n",
        "*   It is an ordered collection.\n",
        "\n",
        "*   Tuple is an immutable (unchangeable) collection of elements of different data types.\n",
        "\n",
        "*   It's allowing Duplicates"
      ],
      "metadata": {
        "id": "kXe0e_DQBF08"
      }
    },
    {
      "cell_type": "markdown",
      "source": [
        " **Tuple Variable Declaration**"
      ],
      "metadata": {
        "id": "EgdmqHnfDbW1"
      }
    },
    {
      "cell_type": "code",
      "source": [
        "tpl = () # empty tuple\n",
        "print(tpl)\n",
        "emp_tupl = tuple() # empty tuple\n",
        "\n",
        "names = ('Raja', 'Ram', 'Anbu', 'Murugan') # string tuple\n",
        "print(names)\n",
        "\n",
        "nums = (1, 2, 3, 4, 5) # int tuple\n",
        "print(nums)\n",
        "\n",
        "emp = (1, 'Ram', True, 50.00, 10000)  # heterogeneous data tuple\n",
        "print(emp)\n",
        "\n",
        "tuple_bool = (True, False, False)\n",
        "print(tuple_bool)"
      ],
      "metadata": {
        "colab": {
          "base_uri": "https://localhost:8080/"
        },
        "id": "6liIFTOBDhGi",
        "outputId": "5a27f9a1-df55-4f10-98e7-aa093e966853"
      },
      "execution_count": null,
      "outputs": [
        {
          "output_type": "stream",
          "name": "stdout",
          "text": [
            "()\n",
            "('Raja', 'Ram', 'Anbu', 'Murugan')\n",
            "(1, 2, 3, 4, 5)\n",
            "(1, 'Ram', True, 50.0, 10000)\n",
            "(True, False, False)\n"
          ]
        }
      ]
    },
    {
      "cell_type": "code",
      "source": [
        "lst = []\n",
        "lst1 = list()"
      ],
      "metadata": {
        "id": "VD_nKfwTpbIn"
      },
      "execution_count": null,
      "outputs": []
    },
    {
      "cell_type": "code",
      "source": [
        "a = ['s']\n",
        "print(type(a))\n",
        "b = ('2')\n",
        "print(type(b))"
      ],
      "metadata": {
        "colab": {
          "base_uri": "https://localhost:8080/"
        },
        "id": "rwRSoMv6LGC2",
        "outputId": "270b6c38-cbe6-4b55-a1c3-cca4aa24938f"
      },
      "execution_count": 2,
      "outputs": [
        {
          "output_type": "stream",
          "name": "stdout",
          "text": [
            "<class 'list'>\n",
            "<class 'str'>\n"
          ]
        }
      ]
    },
    {
      "cell_type": "markdown",
      "source": [
        "**Tuple With One Item**"
      ],
      "metadata": {
        "id": "dDgUKOOrD49u"
      }
    },
    {
      "cell_type": "code",
      "source": [
        "a = 'abc'\n",
        "\n",
        "name = ('Raja') # considered as string type\n",
        "print(name)\n",
        "print(type(name))\n",
        "\n",
        "names = ('Ram',) # tuple with single element\n",
        "print(names)\n",
        "print(type(names))\n",
        "\n",
        "names = 'Ram', 'Raja'\n",
        "names1 = 'Ram',\n",
        "print(names)\n",
        "print(names1)\n",
        "print(type(names))"
      ],
      "metadata": {
        "id": "_SAErapARp_O",
        "colab": {
          "base_uri": "https://localhost:8080/"
        },
        "outputId": "f7287951-ad54-4267-85e7-1a0e0122d9f1"
      },
      "execution_count": 7,
      "outputs": [
        {
          "output_type": "stream",
          "name": "stdout",
          "text": [
            "Raja\n",
            "<class 'str'>\n",
            "('Ram',)\n",
            "<class 'tuple'>\n",
            "('Ram', 'Raja')\n",
            "('Ram',)\n",
            "<class 'tuple'>\n"
          ]
        }
      ]
    },
    {
      "cell_type": "markdown",
      "source": [
        "\n",
        "**Tuple Length**"
      ],
      "metadata": {
        "id": "qOfUIdMwQar8"
      }
    },
    {
      "cell_type": "code",
      "source": [
        "tuple_length = (\"Kumar\", \"Mani\", \"Anbu\")\n",
        "print(len(tuple_length))\n",
        "\n",
        "lst = [1, 2, 'a', 'b']\n",
        "print(len(lst))"
      ],
      "metadata": {
        "colab": {
          "base_uri": "https://localhost:8080/"
        },
        "id": "H4mrfpqqEtAa",
        "outputId": "00c1f643-286c-4363-946f-db79584c31cb"
      },
      "execution_count": null,
      "outputs": [
        {
          "output_type": "stream",
          "name": "stdout",
          "text": [
            "3\n",
            "4\n"
          ]
        }
      ]
    },
    {
      "cell_type": "code",
      "source": [
        "c = '12345'\n",
        "print(len(c))"
      ],
      "metadata": {
        "colab": {
          "base_uri": "https://localhost:8080/"
        },
        "id": "xSCwa1gBLx2i",
        "outputId": "3a7dd9da-73d5-4252-82b2-424b0e6ce651"
      },
      "execution_count": 4,
      "outputs": [
        {
          "output_type": "stream",
          "name": "stdout",
          "text": [
            "5\n"
          ]
        }
      ]
    },
    {
      "cell_type": "markdown",
      "source": [
        "**Access Tuple Elements**\n",
        "\n",
        "Each element in the tuple is accessed by the index in the square brackets []."
      ],
      "metadata": {
        "id": "RNRJvwJfFM5A"
      }
    },
    {
      "cell_type": "code",
      "source": [
        "vegetables = ('carrot', 'radish', 'onion', 'tomato')\n",
        "print(vegetables[0]) # prints 'carrot'\n",
        "print(vegetables[1]) # prints 'radish'\n",
        "print(vegetables[2]) # prints 'onion'\n",
        "print(vegetables[3]) # prints 'tomato'\n",
        "\n",
        "nums = (1, 2, 3, 4, 5)\n",
        "print(nums[0]) # prints 1\n",
        "print(nums[1]) # prints 2\n",
        "print(nums[4]) # prints 5"
      ],
      "metadata": {
        "colab": {
          "base_uri": "https://localhost:8080/"
        },
        "id": "WO_3xGJgFjjd",
        "outputId": "1914388d-893f-43fc-a8fa-a57f63d41f0f"
      },
      "execution_count": null,
      "outputs": [
        {
          "output_type": "stream",
          "name": "stdout",
          "text": [
            "carrot\n",
            "radish\n",
            "onion\n",
            "tomato\n",
            "1\n",
            "2\n",
            "5\n"
          ]
        }
      ]
    },
    {
      "cell_type": "markdown",
      "source": [
        "**Negative Indexing**"
      ],
      "metadata": {
        "id": "Rt1h-S5zGutt"
      }
    },
    {
      "cell_type": "code",
      "source": [
        "vegetables = ('carrot', 'radish', 'onion', 'tomato')\n",
        "print(vegetables[-4]) # prints 'carrot'\n",
        "print(vegetables[-3]) # prints 'radish'\n",
        "print(vegetables[-2]) # prints 'onion'\n",
        "print(vegetables[-1]) # prints 'tomato'"
      ],
      "metadata": {
        "id": "L5HVlF-oGsTp"
      },
      "execution_count": null,
      "outputs": []
    },
    {
      "cell_type": "markdown",
      "source": [
        "**type()**"
      ],
      "metadata": {
        "id": "4dhBxmfWF_0f"
      }
    },
    {
      "cell_type": "code",
      "source": [
        "vegetables = ('carrot', 'radish', 'onion', 'tomato')\n",
        "\n",
        "print(type(vegetables))"
      ],
      "metadata": {
        "colab": {
          "base_uri": "https://localhost:8080/"
        },
        "id": "19-hX8THGEGW",
        "outputId": "aae55e67-d417-4c5e-e05b-98eed85a3cda"
      },
      "execution_count": null,
      "outputs": [
        {
          "output_type": "stream",
          "name": "stdout",
          "text": [
            "<class 'tuple'>\n"
          ]
        }
      ]
    },
    {
      "cell_type": "markdown",
      "source": [
        "**tuple() Constructor**"
      ],
      "metadata": {
        "id": "4CddrAk8GL_M"
      }
    },
    {
      "cell_type": "code",
      "source": [
        "vegetables = ['carrot', 'radish', 'onion', 'tomato']\n",
        "print(type(vegetables))\n",
        "\n",
        "veg = tuple(vegetables)\n",
        "print(veg)\n",
        "print(type(veg))\n",
        "\n",
        "tpl = tuple('Hello') # converts string to tuple\n",
        "print(tpl)\n",
        "tpl = tuple([1,2,3,4,5]) # converts list to tuple\n",
        "print(tpl)\n",
        "tpl = tuple({1,2,3,4,5}) # converts set to tuple\n",
        "print(tpl)\n",
        "tpl = tuple({1:\"One\",2:\"Two\"}) # converts dictionary to tuple\n",
        "print(tpl)"
      ],
      "metadata": {
        "colab": {
          "base_uri": "https://localhost:8080/"
        },
        "id": "c7EumudSGNpe",
        "outputId": "1378b06e-8651-4cb6-a173-e4b662fa6b53"
      },
      "execution_count": 5,
      "outputs": [
        {
          "output_type": "stream",
          "name": "stdout",
          "text": [
            "<class 'list'>\n",
            "('carrot', 'radish', 'onion', 'tomato')\n",
            "<class 'tuple'>\n",
            "('H', 'e', 'l', 'l', 'o')\n",
            "(1, 2, 3, 4, 5)\n",
            "(1, 2, 3, 4, 5)\n",
            "(1, 2)\n"
          ]
        }
      ]
    },
    {
      "cell_type": "code",
      "source": [
        "vegetables = ('carrot', 'radish', 'onion', 'tomato')\n",
        "print(vegetables[1:2])\n",
        "print(vegetables[1])\n",
        "print(vegetables[:3])\n",
        "print(vegetables[1:])"
      ],
      "metadata": {
        "colab": {
          "base_uri": "https://localhost:8080/"
        },
        "id": "tVZKnKotKCU1",
        "outputId": "bef08429-d137-4369-ef35-ccc2173cbd6b"
      },
      "execution_count": null,
      "outputs": [
        {
          "output_type": "stream",
          "name": "stdout",
          "text": [
            "('radish',)\n",
            "radish\n",
            "('carrot', 'radish', 'onion')\n",
            "('radish', 'onion', 'tomato')\n"
          ]
        }
      ]
    },
    {
      "cell_type": "code",
      "source": [
        "vegetables = ('carrot', 'radish', 'onion', 'tomato')\n",
        "a, b, c, d = vegetables # unpack tuple\n",
        "print(a, b, c, d)\n",
        "\n",
        "#Using Asterisk*\n",
        "(a, b, *c) = vegetables\n",
        "print(*c)"
      ],
      "metadata": {
        "colab": {
          "base_uri": "https://localhost:8080/"
        },
        "id": "WANiWoEuKSdI",
        "outputId": "e536c9f0-53a0-467b-b2ba-1e62be8b5298"
      },
      "execution_count": null,
      "outputs": [
        {
          "output_type": "stream",
          "name": "stdout",
          "text": [
            "carrot radish onion tomato\n",
            "onion tomato\n"
          ]
        }
      ]
    },
    {
      "cell_type": "markdown",
      "source": [
        "**Update or Delete Tuple Elements**"
      ],
      "metadata": {
        "id": "ZiYc-kD2Ke67"
      }
    },
    {
      "cell_type": "code",
      "source": [
        "vegetables = ('carrot', 'radish', 'onion', 'tomato')\n",
        "vegetables[0] = 'cabbage'\n",
        "del vegetables[0]"
      ],
      "metadata": {
        "colab": {
          "base_uri": "https://localhost:8080/",
          "height": 201
        },
        "id": "CCdq034DKiyj",
        "outputId": "03dc9b70-4d72-4745-c505-1900e04b4b2f"
      },
      "execution_count": null,
      "outputs": [
        {
          "output_type": "error",
          "ename": "TypeError",
          "evalue": "ignored",
          "traceback": [
            "\u001b[0;31m---------------------------------------------------------------------------\u001b[0m",
            "\u001b[0;31mTypeError\u001b[0m                                 Traceback (most recent call last)",
            "\u001b[0;32m<ipython-input-4-b270e9f12939>\u001b[0m in \u001b[0;36m<module>\u001b[0;34m\u001b[0m\n\u001b[1;32m      1\u001b[0m \u001b[0mvegetables\u001b[0m \u001b[0;34m=\u001b[0m \u001b[0;34m(\u001b[0m\u001b[0;34m'carrot'\u001b[0m\u001b[0;34m,\u001b[0m \u001b[0;34m'radish'\u001b[0m\u001b[0;34m,\u001b[0m \u001b[0;34m'onion'\u001b[0m\u001b[0;34m,\u001b[0m \u001b[0;34m'tomato'\u001b[0m\u001b[0;34m)\u001b[0m\u001b[0;34m\u001b[0m\u001b[0;34m\u001b[0m\u001b[0m\n\u001b[0;32m----> 2\u001b[0;31m \u001b[0mvegetables\u001b[0m\u001b[0;34m[\u001b[0m\u001b[0;36m0\u001b[0m\u001b[0;34m]\u001b[0m \u001b[0;34m=\u001b[0m \u001b[0;34m'cabbage'\u001b[0m\u001b[0;34m\u001b[0m\u001b[0;34m\u001b[0m\u001b[0m\n\u001b[0m\u001b[1;32m      3\u001b[0m \u001b[0;32mdel\u001b[0m \u001b[0mvegetables\u001b[0m\u001b[0;34m[\u001b[0m\u001b[0;36m0\u001b[0m\u001b[0;34m]\u001b[0m\u001b[0;34m\u001b[0m\u001b[0;34m\u001b[0m\u001b[0m\n",
            "\u001b[0;31mTypeError\u001b[0m: 'tuple' object does not support item assignment"
          ]
        }
      ]
    },
    {
      "cell_type": "markdown",
      "source": [
        "**Tuple with Operators**"
      ],
      "metadata": {
        "id": "gUQgEsrbLGn0"
      }
    },
    {
      "cell_type": "code",
      "source": [
        "t1=(10,20,30)\n",
        "t2=(40,50,60)\n",
        "print(t1+t2)\n",
        "print(t1*4)\n",
        "\n",
        "print(60 in t1)\n",
        "print(30 in t1)\n",
        "\n",
        "print(60 not in t1)\n",
        "print(30 not in t1)"
      ],
      "metadata": {
        "colab": {
          "base_uri": "https://localhost:8080/"
        },
        "id": "wV9Gaq_BLKoL",
        "outputId": "304aefc3-34f9-415b-9084-1440299478da"
      },
      "execution_count": null,
      "outputs": [
        {
          "output_type": "stream",
          "name": "stdout",
          "text": [
            "(10, 20, 30, 40, 50, 60)\n",
            "(10, 20, 30, 10, 20, 30, 10, 20, 30, 10, 20, 30)\n",
            "False\n",
            "True\n",
            "True\n",
            "False\n"
          ]
        }
      ]
    },
    {
      "cell_type": "code",
      "source": [
        "vegetables = ('carrot', 'radish', 'onion', 'tomato')\n",
        "if \"carrot\" in vegetables:\n",
        "  print(\"Yes, 'carrot' is in the vegetables tuple\")\n",
        "\n",
        "print(\"carrot\" in vegetables)"
      ],
      "metadata": {
        "colab": {
          "base_uri": "https://localhost:8080/"
        },
        "id": "7DkvKdapLm1S",
        "outputId": "e0aa99b7-af88-4de0-c86c-8de5c67d9394"
      },
      "execution_count": null,
      "outputs": [
        {
          "output_type": "stream",
          "name": "stdout",
          "text": [
            "Yes, 'carrot' is in the vegetables tuple\n",
            "True\n"
          ]
        }
      ]
    },
    {
      "cell_type": "code",
      "source": [
        "vegetables = ('carrot', 'radish', 'onion', 'tomato')\n",
        "i = 0\n",
        "while i < len(vegetables):#0<4\n",
        "  print(vegetables[i])\n",
        "  i = i + 1\n",
        "  #i = 0 + 1"
      ],
      "metadata": {
        "colab": {
          "base_uri": "https://localhost:8080/"
        },
        "id": "zHa_LM8cNsjz",
        "outputId": "8038ff51-7e37-4283-ef83-620ca91cfc02"
      },
      "execution_count": null,
      "outputs": [
        {
          "output_type": "stream",
          "name": "stdout",
          "text": [
            "carrot\n",
            "radish\n",
            "onion\n",
            "tomato\n"
          ]
        }
      ]
    },
    {
      "cell_type": "code",
      "source": [
        "vegetables = ('carrot', 'radish', 'onion', 'tomato')\n",
        "for i in range(len(vegetables)):\n",
        "#for i in range(4):\n",
        "#0, 1, 2, 3\n",
        "  print(vegetables[i])"
      ],
      "metadata": {
        "colab": {
          "base_uri": "https://localhost:8080/"
        },
        "id": "ci60nMbmNyjv",
        "outputId": "f077ecf3-d492-4155-9da7-816aefb19486"
      },
      "execution_count": null,
      "outputs": [
        {
          "output_type": "stream",
          "name": "stdout",
          "text": [
            "carrot\n",
            "radish\n",
            "onion\n",
            "tomato\n"
          ]
        }
      ]
    },
    {
      "cell_type": "code",
      "source": [
        "vegetables = ('carrot', 'radish', 'onion', 'tomato')\n",
        "print(vegetables[0])"
      ],
      "metadata": {
        "colab": {
          "base_uri": "https://localhost:8080/"
        },
        "id": "ikY4-ED0sdwg",
        "outputId": "1602eaba-38b8-4cf6-d916-d6be100f13e0"
      },
      "execution_count": null,
      "outputs": [
        {
          "output_type": "stream",
          "name": "stdout",
          "text": [
            "carrot\n"
          ]
        }
      ]
    },
    {
      "cell_type": "code",
      "source": [
        "for i in range(4):\n",
        "  print(i)"
      ],
      "metadata": {
        "colab": {
          "base_uri": "https://localhost:8080/"
        },
        "id": "qUwos6W14P7R",
        "outputId": "06ac5cdc-bfb3-48d0-d349-d0c82dfd3a1d"
      },
      "execution_count": null,
      "outputs": [
        {
          "output_type": "stream",
          "name": "stdout",
          "text": [
            "0\n",
            "1\n",
            "2\n",
            "3\n"
          ]
        }
      ]
    },
    {
      "cell_type": "code",
      "source": [
        "vegetables = ('carrot', 'radish', 'onion', 'tomato')\n",
        "for i in vegetables:\n",
        "  print(i)"
      ],
      "metadata": {
        "colab": {
          "base_uri": "https://localhost:8080/"
        },
        "id": "z_SFUO7WGR3w",
        "outputId": "9d76d55d-abde-441a-9e46-19ae07fcbe09"
      },
      "execution_count": null,
      "outputs": [
        {
          "output_type": "stream",
          "name": "stdout",
          "text": [
            "carrot\n",
            "radish\n",
            "onion\n",
            "tomato\n"
          ]
        }
      ]
    },
    {
      "cell_type": "code",
      "source": [
        "for i in range(4):\n",
        "  print(i)"
      ],
      "metadata": {
        "colab": {
          "base_uri": "https://localhost:8080/"
        },
        "id": "ie2FItDQk62-",
        "outputId": "8818eb77-77fb-4038-9ec4-de663946ec24"
      },
      "execution_count": null,
      "outputs": [
        {
          "output_type": "stream",
          "name": "stdout",
          "text": [
            "0\n",
            "1\n",
            "2\n",
            "3\n"
          ]
        }
      ]
    },
    {
      "cell_type": "markdown",
      "source": [
        "# **Python - Set**"
      ],
      "metadata": {
        "id": "NTaCygxNOR2P"
      }
    },
    {
      "cell_type": "markdown",
      "source": [
        "A set is a mutable collection of distinct hashable objects, same as the list and tuple.\n",
        "\n",
        "It is an unordered collection of objects, meaning it does not record element position or order of insertion and so cannot access elements using indexes.\n",
        "\n",
        "\n",
        "The set is a Python implementation of the set in Mathematics.\n",
        "\n",
        "A set object has suitable methods to perform mathematical set operations like union, intersection, difference, etc."
      ],
      "metadata": {
        "id": "LGJzvnECOU5g"
      }
    },
    {
      "cell_type": "code",
      "source": [
        "nums = {1, 2, 3, 4, 5} # set with numbers\n",
        "print(nums)\n",
        "emp = {10, 'Raja', 100.5, True} # set of different objects\n",
        "print(emp)"
      ],
      "metadata": {
        "id": "0Rx0bvycOlrh",
        "colab": {
          "base_uri": "https://localhost:8080/"
        },
        "outputId": "c95eaf38-f40f-4682-845a-45389c3953a3"
      },
      "execution_count": null,
      "outputs": [
        {
          "output_type": "stream",
          "name": "stdout",
          "text": [
            "{1, 2, 3, 4, 5}\n",
            "{True, 10, 100.5, 'Raja'}\n"
          ]
        }
      ]
    },
    {
      "cell_type": "code",
      "source": [
        "nums = {1, 2, 2, 3, 4, 4, 5, 5, 5}\n",
        "print(nums)"
      ],
      "metadata": {
        "colab": {
          "base_uri": "https://localhost:8080/"
        },
        "id": "h1g60x7cO0xF",
        "outputId": "0bc4227f-5f75-4602-8a6d-ce5e59c4eccd"
      },
      "execution_count": null,
      "outputs": [
        {
          "output_type": "stream",
          "name": "stdout",
          "text": [
            "{1, 2, 3, 4, 5}\n"
          ]
        }
      ]
    },
    {
      "cell_type": "code",
      "source": [
        "ex_set = {(10,10), 10, 20} # valid\n",
        "print(ex_set)"
      ],
      "metadata": {
        "colab": {
          "base_uri": "https://localhost:8080/"
        },
        "id": "URl0Jd0_Rsj2",
        "outputId": "8b857a62-d9fc-41ae-ca9a-b927699fe793"
      },
      "execution_count": null,
      "outputs": [
        {
          "output_type": "stream",
          "name": "stdout",
          "text": [
            "{(10, 10), 10, 20}\n"
          ]
        }
      ]
    },
    {
      "cell_type": "code",
      "source": [
        "#Set Elements\n",
        "\n",
        "ex_set = {[10, 10], 10, 20}  # can't add a list\n"
      ],
      "metadata": {
        "colab": {
          "base_uri": "https://localhost:8080/",
          "height": 201
        },
        "id": "iSwwDnPGRSeh",
        "outputId": "1c39b702-10b3-4d96-9eb0-5279a629a3f8"
      },
      "execution_count": null,
      "outputs": [
        {
          "output_type": "error",
          "ename": "TypeError",
          "evalue": "ignored",
          "traceback": [
            "\u001b[0;31m---------------------------------------------------------------------------\u001b[0m",
            "\u001b[0;31mTypeError\u001b[0m                                 Traceback (most recent call last)",
            "\u001b[0;32m<ipython-input-8-7a2dd58616ce>\u001b[0m in \u001b[0;36m<module>\u001b[0;34m\u001b[0m\n\u001b[1;32m      1\u001b[0m \u001b[0;31m#Set Elements\u001b[0m\u001b[0;34m\u001b[0m\u001b[0;34m\u001b[0m\u001b[0;34m\u001b[0m\u001b[0m\n\u001b[1;32m      2\u001b[0m \u001b[0;34m\u001b[0m\u001b[0m\n\u001b[0;32m----> 3\u001b[0;31m \u001b[0mex_set\u001b[0m \u001b[0;34m=\u001b[0m \u001b[0;34m{\u001b[0m\u001b[0;34m[\u001b[0m\u001b[0;36m10\u001b[0m\u001b[0;34m,\u001b[0m \u001b[0;36m10\u001b[0m\u001b[0;34m]\u001b[0m\u001b[0;34m,\u001b[0m \u001b[0;36m10\u001b[0m\u001b[0;34m,\u001b[0m \u001b[0;36m20\u001b[0m\u001b[0;34m}\u001b[0m  \u001b[0;31m# can't add a list\u001b[0m\u001b[0;34m\u001b[0m\u001b[0;34m\u001b[0m\u001b[0m\n\u001b[0m",
            "\u001b[0;31mTypeError\u001b[0m: unhashable type: 'list'"
          ]
        }
      ]
    },
    {
      "cell_type": "code",
      "source": [
        "ex_set = { {10, 10}, 10, 20} # can't add a set"
      ],
      "metadata": {
        "colab": {
          "base_uri": "https://localhost:8080/",
          "height": 166
        },
        "id": "NQNaEEsXRmxL",
        "outputId": "a36aefbf-7e5d-4e36-90b2-1c279375240f"
      },
      "execution_count": null,
      "outputs": [
        {
          "output_type": "error",
          "ename": "TypeError",
          "evalue": "ignored",
          "traceback": [
            "\u001b[0;31m---------------------------------------------------------------------------\u001b[0m",
            "\u001b[0;31mTypeError\u001b[0m                                 Traceback (most recent call last)",
            "\u001b[0;32m<ipython-input-7-67ea9ec0c569>\u001b[0m in \u001b[0;36m<module>\u001b[0;34m\u001b[0m\n\u001b[0;32m----> 1\u001b[0;31m \u001b[0mex_set\u001b[0m \u001b[0;34m=\u001b[0m \u001b[0;34m{\u001b[0m \u001b[0;34m{\u001b[0m\u001b[0;36m10\u001b[0m\u001b[0;34m,\u001b[0m \u001b[0;36m10\u001b[0m\u001b[0;34m}\u001b[0m\u001b[0;34m,\u001b[0m \u001b[0;36m10\u001b[0m\u001b[0;34m,\u001b[0m \u001b[0;36m20\u001b[0m\u001b[0;34m}\u001b[0m \u001b[0;31m# can't add a set\u001b[0m\u001b[0;34m\u001b[0m\u001b[0;34m\u001b[0m\u001b[0m\n\u001b[0m",
            "\u001b[0;31mTypeError\u001b[0m: unhashable type: 'set'"
          ]
        }
      ]
    },
    {
      "cell_type": "markdown",
      "source": [
        "**Creating an Empty Set**"
      ],
      "metadata": {
        "id": "ygWWlZKDPqCM"
      }
    },
    {
      "cell_type": "code",
      "source": [
        "emp = {} # creates an empty dictionary\n",
        "emp_dict = dict()\n",
        "print(type(emp))\n",
        "\n",
        "\n",
        "lst = []\n",
        "lst1 = list()\n",
        "\n",
        "tpl = ()\n",
        "tpl1 = tuple()\n",
        "\n",
        "emp_set = set() # creates an empty set\n",
        "print(type(emp_set))\n"
      ],
      "metadata": {
        "colab": {
          "base_uri": "https://localhost:8080/"
        },
        "id": "AkmJNMJ6Ptal",
        "outputId": "629a9184-e8e8-4116-a633-d308e2d396d5"
      },
      "execution_count": null,
      "outputs": [
        {
          "output_type": "stream",
          "name": "stdout",
          "text": [
            "<class 'dict'>\n",
            "<class 'set'>\n"
          ]
        }
      ]
    },
    {
      "cell_type": "markdown",
      "source": [
        "**The set() Constructor**"
      ],
      "metadata": {
        "id": "C5-3aC7AQG4C"
      }
    },
    {
      "cell_type": "code",
      "source": [
        "veg_set = set(('carrot', 'radish', 'onion', 'tomato')) # note the double round-brackets\n",
        "print(veg_set)\n",
        "\n",
        "\n",
        "str_set = set('Hello') # converts string to set\n",
        "print(str_set)\n",
        "\n",
        "int_set = set((1,2,3,4,5)) # converts tuple to set\n",
        "print(int_set)\n",
        "\n",
        "dict_set = {1:'One', 2: 'Two'}\n",
        "dict_set = set(dict_set) # converts dict to set\n",
        "print(dict_set)\n"
      ],
      "metadata": {
        "colab": {
          "base_uri": "https://localhost:8080/"
        },
        "id": "3wR2DUtGQIU_",
        "outputId": "c8f2e52c-200c-4a8d-b9dd-cd1ecd0597bd"
      },
      "execution_count": null,
      "outputs": [
        {
          "output_type": "stream",
          "name": "stdout",
          "text": [
            "{'onion', 'carrot', 'tomato', 'radish'}\n",
            "{'o', 'e', 'l', 'H'}\n",
            "{1, 2, 3, 4, 5}\n",
            "{1, 2}\n"
          ]
        }
      ]
    },
    {
      "cell_type": "code",
      "source": [
        "set_ex = {'o', 'e', 'H', 'l'}\n",
        "print(set_ex)"
      ],
      "metadata": {
        "colab": {
          "base_uri": "https://localhost:8080/"
        },
        "id": "JMfmexiw12j7",
        "outputId": "a11b54fb-fa81-445b-c6ca-abdaed367d80"
      },
      "execution_count": null,
      "outputs": [
        {
          "output_type": "stream",
          "name": "stdout",
          "text": [
            "{'o', 'l', 'H', 'e'}\n"
          ]
        }
      ]
    },
    {
      "cell_type": "markdown",
      "source": [
        "**Set Iterations**"
      ],
      "metadata": {
        "id": "wJRDLkCeTRw9"
      }
    },
    {
      "cell_type": "code",
      "source": [
        "veg_set = {'carrot', 'radish', 'onion', 'tomato'}\n",
        "for i in veg_set:\n",
        "  print(i)"
      ],
      "metadata": {
        "colab": {
          "base_uri": "https://localhost:8080/"
        },
        "id": "x_D7gtyIS0ju",
        "outputId": "ed77ee72-c8ee-459c-e01d-01277ac7ec3b"
      },
      "execution_count": null,
      "outputs": [
        {
          "output_type": "stream",
          "name": "stdout",
          "text": [
            "tomato\n",
            "radish\n",
            "carrot\n",
            "onion\n"
          ]
        }
      ]
    },
    {
      "cell_type": "code",
      "source": [
        "veg_set = {'carrot', 'radish', 'onion', 'tomato'}\n",
        "print(len(veg_set))\n",
        "for i in range(len(veg_set)):\n",
        "  print(veg_set[i])"
      ],
      "metadata": {
        "colab": {
          "base_uri": "https://localhost:8080/",
          "height": 218
        },
        "id": "HlW9wantTB3w",
        "outputId": "3ab85db4-01d0-4364-eccb-7da877abb98b"
      },
      "execution_count": null,
      "outputs": [
        {
          "output_type": "stream",
          "name": "stdout",
          "text": [
            "4\n"
          ]
        },
        {
          "output_type": "error",
          "ename": "TypeError",
          "evalue": "ignored",
          "traceback": [
            "\u001b[0;31m---------------------------------------------------------------------------\u001b[0m",
            "\u001b[0;31mTypeError\u001b[0m                                 Traceback (most recent call last)",
            "\u001b[0;32m<ipython-input-10-95157cfd598c>\u001b[0m in \u001b[0;36m<module>\u001b[0;34m\u001b[0m\n\u001b[1;32m      2\u001b[0m \u001b[0mprint\u001b[0m\u001b[0;34m(\u001b[0m\u001b[0mlen\u001b[0m\u001b[0;34m(\u001b[0m\u001b[0mveg_set\u001b[0m\u001b[0;34m)\u001b[0m\u001b[0;34m)\u001b[0m\u001b[0;34m\u001b[0m\u001b[0;34m\u001b[0m\u001b[0m\n\u001b[1;32m      3\u001b[0m \u001b[0;32mfor\u001b[0m \u001b[0mi\u001b[0m \u001b[0;32min\u001b[0m \u001b[0mrange\u001b[0m\u001b[0;34m(\u001b[0m\u001b[0mlen\u001b[0m\u001b[0;34m(\u001b[0m\u001b[0mveg_set\u001b[0m\u001b[0;34m)\u001b[0m\u001b[0;34m)\u001b[0m\u001b[0;34m:\u001b[0m\u001b[0;34m\u001b[0m\u001b[0;34m\u001b[0m\u001b[0m\n\u001b[0;32m----> 4\u001b[0;31m   \u001b[0mprint\u001b[0m\u001b[0;34m(\u001b[0m\u001b[0mveg_set\u001b[0m\u001b[0;34m[\u001b[0m\u001b[0mi\u001b[0m\u001b[0;34m]\u001b[0m\u001b[0;34m)\u001b[0m\u001b[0;34m\u001b[0m\u001b[0;34m\u001b[0m\u001b[0m\n\u001b[0m",
            "\u001b[0;31mTypeError\u001b[0m: 'set' object is not subscriptable"
          ]
        }
      ]
    },
    {
      "cell_type": "code",
      "source": [
        "veg_set = {'carrot', 'radish', 'onion', 'tomato'}\n",
        "if 'carrot' in veg_set:\n",
        "  print(\"carrot\" in veg_set)"
      ],
      "metadata": {
        "colab": {
          "base_uri": "https://localhost:8080/"
        },
        "id": "VaS_q18iTYWQ",
        "outputId": "0fec46ad-6b39-4258-ae37-98bea4474dab"
      },
      "execution_count": null,
      "outputs": [
        {
          "output_type": "stream",
          "name": "stdout",
          "text": [
            "True\n"
          ]
        }
      ]
    },
    {
      "cell_type": "markdown",
      "source": [
        "**Change Set Elements**\n",
        "\n",
        "Set items are unchangeable, but you can remove items and add new items."
      ],
      "metadata": {
        "id": "lVmbfILoV0zi"
      }
    },
    {
      "cell_type": "code",
      "source": [
        "num_set = set() # creates an empty set\n",
        "num_set.add(10) # add an element\n",
        "num_set.add(20)\n",
        "num_set.add(30)\n",
        "print(num_set)\n",
        "\n",
        "primeNums = {10, 2, 3, 5, 7}\n",
        "num_set.update(primeNums) # update set with another set\n",
        "\n",
        "print(num_set)\n",
        "\n",
        "num_set.remove(2) # remove an element\n",
        "print(num_set)"
      ],
      "metadata": {
        "colab": {
          "base_uri": "https://localhost:8080/"
        },
        "id": "WFmKaI7IVwoC",
        "outputId": "1b21d2d4-0ee3-499e-96fe-d5261168a67f"
      },
      "execution_count": null,
      "outputs": [
        {
          "output_type": "stream",
          "name": "stdout",
          "text": [
            "{10, 20, 30}\n",
            "{2, 3, 5, 7, 10, 20, 30}\n",
            "{3, 5, 7, 10, 20, 30}\n"
          ]
        }
      ]
    },
    {
      "cell_type": "markdown",
      "source": [
        "**Add Set Items**"
      ],
      "metadata": {
        "id": "-azYDqicTvi-"
      }
    },
    {
      "cell_type": "code",
      "source": [
        "veg_set = {'carrot', 'radish', 'onion', 'tomato'}\n",
        "veg_set.add(\"cabbage\")\n",
        "print(veg_set)"
      ],
      "metadata": {
        "colab": {
          "base_uri": "https://localhost:8080/"
        },
        "id": "cc21iS8VTwp_",
        "outputId": "8ad6672a-6390-43e5-b3ab-4fc7bb199659"
      },
      "execution_count": null,
      "outputs": [
        {
          "output_type": "stream",
          "name": "stdout",
          "text": [
            "{'radish', 'cabbage', 'onion', 'carrot', 'tomato'}\n"
          ]
        }
      ]
    },
    {
      "cell_type": "markdown",
      "source": [
        "**Set Update**"
      ],
      "metadata": {
        "id": "B3eNabd7Vas9"
      }
    },
    {
      "cell_type": "code",
      "source": [
        "veg_set = {'carrot', 'radish', 'onion', 'tomato'}\n",
        "veg_set1 = {'cabbage', 'ginger', 'chilli', 'beans', 'tomato'}\n",
        "\n",
        "veg_set.update(veg_set1)\n",
        "\n",
        "print(veg_set)"
      ],
      "metadata": {
        "colab": {
          "base_uri": "https://localhost:8080/"
        },
        "id": "l2N2UimmUTlF",
        "outputId": "b05d1835-6519-430a-d12d-abc2fa7517a5"
      },
      "execution_count": null,
      "outputs": [
        {
          "output_type": "stream",
          "name": "stdout",
          "text": [
            "{'radish', 'chilli', 'cabbage', 'ginger', 'onion', 'carrot', 'tomato', 'beans'}\n"
          ]
        }
      ]
    },
    {
      "cell_type": "code",
      "source": [
        "veg_set = {'carrot', 'radish', 'onion', 'tomato'}\n",
        "veg_set1 = ['cabbage', 'ginger', 'chilli', 'beans']#(tuples, lists, dictionaries).\n",
        "veg_set.update(veg_set1)\n",
        "\n",
        "print(veg_set)"
      ],
      "metadata": {
        "colab": {
          "base_uri": "https://localhost:8080/"
        },
        "id": "Xsr9xPrjU1Jh",
        "outputId": "616a1e18-bf98-4836-a0fd-33df5b918c15"
      },
      "execution_count": null,
      "outputs": [
        {
          "output_type": "stream",
          "name": "stdout",
          "text": [
            "{'radish', 'chilli', 'cabbage', 'ginger', 'onion', 'carrot', 'tomato', 'beans'}\n"
          ]
        }
      ]
    },
    {
      "cell_type": "markdown",
      "source": [
        "**Remove Item from set**"
      ],
      "metadata": {
        "id": "l5s4XssdVZOx"
      }
    },
    {
      "cell_type": "code",
      "source": [
        "veg_set = {'carrot', 'radish', 'onion', 'tomato', 'cabbage', 'beans'}\n",
        "veg_set.remove(\"carrot\")\n",
        "print(veg_set)\n",
        "\n",
        "veg_set.discard(\"radish\")\n",
        "print(veg_set)\n",
        "\n",
        "\n",
        "print(veg_set.pop())\n",
        "print(veg_set)"
      ],
      "metadata": {
        "colab": {
          "base_uri": "https://localhost:8080/"
        },
        "id": "GyFAEjNvUkzS",
        "outputId": "103ce270-2cef-427c-f1bf-939fea297dd8"
      },
      "execution_count": null,
      "outputs": [
        {
          "output_type": "stream",
          "name": "stdout",
          "text": [
            "{'radish', 'cabbage', 'onion', 'tomato', 'beans'}\n",
            "{'cabbage', 'onion', 'tomato', 'beans'}\n",
            "cabbage\n",
            "{'onion', 'tomato', 'beans'}\n"
          ]
        }
      ]
    },
    {
      "cell_type": "code",
      "source": [
        "veg_set = {'carrot', 'radish', 'onion', 'tomato', 'cabbage', 'beans'}\n",
        "veg_set.clear()\n",
        "print(veg_set)\n",
        "\n",
        "del veg_set\n",
        "\n",
        "print(veg_set)"
      ],
      "metadata": {
        "colab": {
          "base_uri": "https://localhost:8080/",
          "height": 218
        },
        "id": "XN0wGOwhWv_Q",
        "outputId": "15c072f0-5662-4683-ff28-540e46230710"
      },
      "execution_count": null,
      "outputs": [
        {
          "output_type": "stream",
          "name": "stdout",
          "text": [
            "set()\n"
          ]
        },
        {
          "output_type": "error",
          "ename": "NameError",
          "evalue": "ignored",
          "traceback": [
            "\u001b[0;31m---------------------------------------------------------------------------\u001b[0m",
            "\u001b[0;31mNameError\u001b[0m                                 Traceback (most recent call last)",
            "\u001b[0;32m<ipython-input-21-9811b215e25e>\u001b[0m in \u001b[0;36m<module>\u001b[0;34m\u001b[0m\n\u001b[1;32m      5\u001b[0m \u001b[0;32mdel\u001b[0m \u001b[0mveg_set\u001b[0m\u001b[0;34m\u001b[0m\u001b[0;34m\u001b[0m\u001b[0m\n\u001b[1;32m      6\u001b[0m \u001b[0;34m\u001b[0m\u001b[0m\n\u001b[0;32m----> 7\u001b[0;31m \u001b[0mprint\u001b[0m\u001b[0;34m(\u001b[0m\u001b[0mveg_set\u001b[0m\u001b[0;34m)\u001b[0m\u001b[0;34m\u001b[0m\u001b[0;34m\u001b[0m\u001b[0m\n\u001b[0m",
            "\u001b[0;31mNameError\u001b[0m: name 'veg_set' is not defined"
          ]
        }
      ]
    },
    {
      "cell_type": "markdown",
      "source": [
        "**Set with Operators**\n",
        "\n",
        "\n",
        "*   Union: Returns a new set with elements from both the sets.\n",
        "*   Intersection: Returns a new set containing elements common to both sets.\n",
        "*   Difference: Returns a set containing elements only in the first set, but not in the second set.\n",
        "*   Symmetric Difference: Returns a set consisting of elements in both sets, excluding the common elements.\n",
        "\n",
        "\n",
        "\n",
        "\n",
        "\n"
      ],
      "metadata": {
        "id": "CIJTtkLeV4MI"
      }
    },
    {
      "cell_type": "code",
      "source": [
        "#Union\n",
        "veg_set = {'carrot', 'radish', 'onion', 'tomato'}\n",
        "veg_set1 = {'cabbage', 'ginger', 'chilli', 'beans', 'tomato'}\n",
        "print(veg_set | veg_set1)\n",
        "print(veg_set.union(veg_set1))\n"
      ],
      "metadata": {
        "colab": {
          "base_uri": "https://localhost:8080/"
        },
        "id": "ae0L8uajV6wn",
        "outputId": "6a896fc5-c9d4-4d36-d91b-095f3fa2512d"
      },
      "execution_count": null,
      "outputs": [
        {
          "output_type": "stream",
          "name": "stdout",
          "text": [
            "{'radish', 'chilli', 'cabbage', 'ginger', 'onion', 'carrot', 'tomato', 'beans'}\n",
            "{'radish', 'chilli', 'cabbage', 'ginger', 'onion', 'carrot', 'tomato', 'beans'}\n"
          ]
        }
      ]
    },
    {
      "cell_type": "code",
      "source": [
        "#Intersection\n",
        "veg_set = {'carrot', 'radish', 'onion', 'tomato'}\n",
        "veg_set1 = {'cabbage', 'ginger', 'chilli', 'beans', 'tomato'}\n",
        "print(veg_set & veg_set1)\n",
        "print(veg_set.intersection(veg_set1))"
      ],
      "metadata": {
        "colab": {
          "base_uri": "https://localhost:8080/"
        },
        "id": "oBfOOJpLXeyG",
        "outputId": "9b86a1ab-1dd8-4ee4-c86a-108186a7794d"
      },
      "execution_count": null,
      "outputs": [
        {
          "output_type": "stream",
          "name": "stdout",
          "text": [
            "{'tomato'}\n",
            "{'tomato'}\n"
          ]
        }
      ]
    },
    {
      "cell_type": "code",
      "source": [
        "#Difference\n",
        "a = {'carrot', 'radish', 'onion', 'tomato'}\n",
        "b = {'cabbage', 'ginger', 'chilli', 'beans', 'tomato'}\n",
        "print(a - b)\n",
        "print(b.difference(a))"
      ],
      "metadata": {
        "colab": {
          "base_uri": "https://localhost:8080/"
        },
        "id": "6kwMCjpOXomF",
        "outputId": "593bcfd1-f366-4504-f018-58a3722701a5"
      },
      "execution_count": null,
      "outputs": [
        {
          "output_type": "stream",
          "name": "stdout",
          "text": [
            "{'radish', 'carrot', 'onion'}\n",
            "{'beans', 'cabbage', 'ginger', 'chilli'}\n"
          ]
        }
      ]
    },
    {
      "cell_type": "code",
      "source": [
        "#Symmetric Difference\n",
        "veg_set = {'carrot', 'radish', 'onion', 'tomato'}\n",
        "veg_set1 = {'cabbage', 'ginger', 'chilli', 'beans', 'tomato'}\n",
        "print(veg_set^veg_set1)\n",
        "print(veg_set1.symmetric_difference(veg_set))"
      ],
      "metadata": {
        "colab": {
          "base_uri": "https://localhost:8080/"
        },
        "id": "qWQ0zJFlX1en",
        "outputId": "e62bff4f-2949-43b2-9927-c97f37b59953"
      },
      "execution_count": null,
      "outputs": [
        {
          "output_type": "stream",
          "name": "stdout",
          "text": [
            "{'radish', 'carrot', 'onion', 'chilli', 'cabbage', 'ginger', 'beans'}\n",
            "{'radish', 'chilli', 'cabbage', 'ginger', 'onion', 'carrot', 'beans'}\n"
          ]
        }
      ]
    }
  ]
}