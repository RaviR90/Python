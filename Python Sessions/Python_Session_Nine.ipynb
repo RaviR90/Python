{
  "nbformat": 4,
  "nbformat_minor": 0,
  "metadata": {
    "colab": {
      "provenance": []
    },
    "kernelspec": {
      "name": "python3",
      "display_name": "Python 3"
    },
    "language_info": {
      "name": "python"
    }
  },
  "cells": [
    {
      "cell_type": "markdown",
      "source": [
        "**Exception Handling in Python**\n",
        "\n",
        "**Syntax Error:** This error is caused by the wrong syntax in the code. It leads to the termination of the program.\n",
        "\n",
        "\n",
        "**Exceptions:** Exceptions are raised when the program is syntactically correct, but the code resulted in an error. This error does not stop the execution of the program, however, it changes the normal flow of the program.\n"
      ],
      "metadata": {
        "id": "OKlDkBjuhho4"
      }
    },
    {
      "cell_type": "code",
      "source": [
        "#Syntax Error\n",
        "\n",
        "print \"Hello World\""
      ],
      "metadata": {
        "colab": {
          "base_uri": "https://localhost:8080/",
          "height": 131
        },
        "id": "_SUQo-_7iVz1",
        "outputId": "eb55a849-401f-4da3-b50d-bd271e777f18"
      },
      "execution_count": null,
      "outputs": [
        {
          "output_type": "error",
          "ename": "SyntaxError",
          "evalue": "ignored",
          "traceback": [
            "\u001b[0;36m  File \u001b[0;32m\"<ipython-input-1-b9a7f08c32c5>\"\u001b[0;36m, line \u001b[0;32m3\u001b[0m\n\u001b[0;31m    print \"Hello World\"\u001b[0m\n\u001b[0m          ^\u001b[0m\n\u001b[0;31mSyntaxError\u001b[0m\u001b[0;31m:\u001b[0m Missing parentheses in call to 'print'. Did you mean print(\"Hello World\")?\n"
          ]
        }
      ]
    },
    {
      "cell_type": "code",
      "source": [
        "#Exception Error\n",
        "\n",
        "# initialize the amount variable\n",
        "marks = 10000\n",
        "\n",
        "# perform division with 0\n",
        "a = marks / 0\n",
        "print(a)\n"
      ],
      "metadata": {
        "colab": {
          "base_uri": "https://localhost:8080/",
          "height": 218
        },
        "id": "BSIw35UEvo_H",
        "outputId": "6ed29593-2877-42fe-fb4b-857b2fb34a8b"
      },
      "execution_count": null,
      "outputs": [
        {
          "output_type": "error",
          "ename": "ZeroDivisionError",
          "evalue": "ignored",
          "traceback": [
            "\u001b[0;31m---------------------------------------------------------------------------\u001b[0m",
            "\u001b[0;31mZeroDivisionError\u001b[0m                         Traceback (most recent call last)",
            "\u001b[0;32m<ipython-input-1-1284ee844c9b>\u001b[0m in \u001b[0;36m<cell line: 7>\u001b[0;34m()\u001b[0m\n\u001b[1;32m      5\u001b[0m \u001b[0;34m\u001b[0m\u001b[0m\n\u001b[1;32m      6\u001b[0m \u001b[0;31m# perform division with 0\u001b[0m\u001b[0;34m\u001b[0m\u001b[0;34m\u001b[0m\u001b[0m\n\u001b[0;32m----> 7\u001b[0;31m \u001b[0ma\u001b[0m \u001b[0;34m=\u001b[0m \u001b[0mmarks\u001b[0m \u001b[0;34m/\u001b[0m \u001b[0;36m0\u001b[0m\u001b[0;34m\u001b[0m\u001b[0;34m\u001b[0m\u001b[0m\n\u001b[0m\u001b[1;32m      8\u001b[0m \u001b[0mprint\u001b[0m\u001b[0;34m(\u001b[0m\u001b[0ma\u001b[0m\u001b[0;34m)\u001b[0m\u001b[0;34m\u001b[0m\u001b[0;34m\u001b[0m\u001b[0m\n",
            "\u001b[0;31mZeroDivisionError\u001b[0m: division by zero"
          ]
        }
      ]
    },
    {
      "cell_type": "markdown",
      "source": [
        "# Built-in exceptions in Python\n",
        "\n",
        "**AssertionError**\tRaised when the assert statement fails.\n",
        "\n",
        "**AttributeError**\tRaised on the attribute assignment or reference fails.\n",
        "\n",
        "**EOFError**\tRaised when the input() function hits the end-of-file condition.\n",
        "\n",
        "**FloatingPointError**\tRaised when a floating point operation fails.\n",
        "\n",
        "**GeneratorExit**\tRaised when a generator's close() method is called.\n",
        "\n",
        "**ImportError**\tRaised when the imported module is not found.\n",
        "\n",
        "**IndexError**\tRaised when the index of a sequence is out of range.\n",
        "\n",
        "**KeyError**\tRaised when a key is not found in a dictionary.\n",
        "\n",
        "**KeyboardInterrupt**\tRaised when the user hits the interrupt key (Ctrl+c or delete).\n",
        "\n",
        "**MemoryError**\tRaised when an operation runs out of memory.\n",
        "\n",
        "**NameError**\tRaised when a variable is not found in the local or global scope.\n",
        "\n",
        "**NotImplementedError**\tRaised by abstract methods.\n",
        "\n",
        "**OSError**\tRaised when a system operation causes a system-related error.\n",
        "\n",
        "**OverflowError**\tRaised when the result of an arithmetic operation is too large to be represented.\n",
        "\n",
        "**ReferenceError**\tRaised when a weak reference proxy is used to access a garbage collected referent.\n",
        "\n",
        "**RuntimeError**\tRaised when an error does not fall under any other category.\n",
        "\n",
        "**StopIteration**\tRaised by the next() function to indicate that there is no further item to be returned by the iterator.\n",
        "\n",
        "**SyntaxError**\tRaised by the parser when a syntax error is encountered.\n",
        "\n",
        "**IndentationError**\tRaised when there is an incorrect indentation.\n",
        "\n",
        "**TabError**\tRaised when the indentation consists of inconsistent tabs and spaces.\n",
        "\n",
        "**SystemError**\tRaised when the interpreter detects internal error.\n",
        "\n",
        "**SystemExit**\tRaised by the sys.exit() function.\n",
        "\n",
        "**TypeError**\tRaised when a function or operation is applied to an object of an incorrect type.\n",
        "\n",
        "**UnboundLocalError**\tRaised when a reference is made to a local variable in a function or method, but no value has been bound to that variable.\n",
        "\n",
        "**UnicodeError**\tRaised when a Unicode-related encoding or decoding error occurs.\n",
        "\n",
        "**UnicodeEncodeError**\tRaised when a Unicode-related error occurs during encoding.\n",
        "\n",
        "**UnicodeDecodeError**\tRaised when a Unicode-related error occurs during decoding.\n",
        "\n",
        "**UnicodeTranslateError**\tRaised when a Unicode-related error occurs during translation.\n",
        "\n",
        "**ValueError**\tRaised when a function gets an argument of correct type but improper value.\n",
        "\n",
        "**ZeroDivisionError**\tRaised when the second operand of a division or module operation is zero."
      ],
      "metadata": {
        "id": "29HWGFLq2YdY"
      }
    },
    {
      "cell_type": "markdown",
      "source": [
        "**# Exception hierarchy in Python**\n",
        "\n",
        "BaseException\n",
        " +-- SystemExit\n",
        " +-- KeyboardInterrupt\n",
        " +-- GeneratorExit\n",
        " +-- Exception\n",
        "      +-- StopIteration\n",
        "      +-- StandardError\n",
        "      |    +-- BufferError\n",
        "      |    +-- ArithmeticError\n",
        "      |    |    +-- FloatingPointError\n",
        "      |    |    +-- OverflowError\n",
        "      |    |    +-- ZeroDivisionError\n",
        "      |    +-- AssertionError\n",
        "      |    +-- AttributeError\n",
        "      |    +-- EnvironmentError\n",
        "      |    |    +-- IOError\n",
        "      |    |    +-- OSError\n",
        "      |    |         +-- WindowsError (Windows)\n",
        "      |    |         +-- VMSError (VMS)\n",
        "      |    +-- EOFError\n",
        "      |    +-- ImportError\n",
        "      |    +-- LookupError\n",
        "      |    |    +-- IndexError\n",
        "      |    |    +-- KeyError\n",
        "      |    +-- MemoryError\n",
        "      |    +-- NameError\n",
        "      |    |    +-- UnboundLocalError\n",
        "      |    +-- ReferenceError\n",
        "      |    +-- RuntimeError\n",
        "      |    |    +-- NotImplementedError\n",
        "      |    +-- SyntaxError\n",
        "      |    |    +-- IndentationError\n",
        "      |    |         +-- TabError\n",
        "      |    +-- SystemError\n",
        "      |    +-- TypeError\n",
        "      |    +-- ValueError\n",
        "      |         +-- UnicodeError\n",
        "      |              +-- UnicodeDecodeError\n",
        "      |              +-- UnicodeEncodeError\n",
        "      |              +-- UnicodeTranslateError\n",
        "      +-- Warning\n",
        "           +-- DeprecationWarning\n",
        "           +-- PendingDeprecationWarning\n",
        "           +-- RuntimeWarning\n",
        "           +-- SyntaxWarning\n",
        "           +-- UserWarning\n",
        "           +-- FutureWarning\n",
        "\t   +-- ImportWarning\n",
        "\t   +-- UnicodeWarning\n",
        "\t   +-- BytesWarning"
      ],
      "metadata": {
        "id": "YdK0VO-ovoLR"
      }
    },
    {
      "cell_type": "markdown",
      "source": [
        "\n",
        "**Try and Except Statement – Catching Exceptions**\n",
        "\n",
        "\n",
        "*   try and except statements are used to catch and handle exceptions in Python.\n",
        "\n",
        "*   A single try block may have multiple except blocks.\n",
        "\n",
        "*   keywords else and finally can also be used along with the try and except clauses.\n",
        "\n",
        "*   first try clause is executed i.e. the code between try and except clause.\n",
        "\n",
        "*   If there is no exception in try block then, except block will not get executed.\n",
        "\n",
        "*   If any exception occurs, the try block will be skipped and except block will run.\n",
        "\n",
        "*   If any exception occurs, but the except block within the code doesn’t handle it, it is passed on to the outer try statements. If the exception is left unhandled, then the execution stops.\n"
      ],
      "metadata": {
        "id": "sops-Z2O0W-C"
      }
    },
    {
      "cell_type": "markdown",
      "source": [
        "try:\n",
        "    #statements in try block\n",
        "except:\n",
        "    #executed when error in try block\n",
        "else:\n",
        "    #executed if try block is error-free\n",
        "finally:\n",
        "    #executed irrespective of exception occured or not"
      ],
      "metadata": {
        "id": "uION6suG85YZ"
      }
    },
    {
      "cell_type": "markdown",
      "source": [
        "**Python try...except Block**\n",
        "\n",
        "try:\n",
        "    # code that may cause exception\n",
        "except:\n",
        "    # code to run when exception occurs"
      ],
      "metadata": {
        "id": "BHBFStmXrlmR"
      }
    },
    {
      "cell_type": "code",
      "source": [
        "#try catch Example with error\n",
        "try:\n",
        "    numerator = 10\n",
        "    denominator = 0\n",
        "\n",
        "    result = numerator/denominator\n",
        "\n",
        "    print(result)\n",
        "except:\n",
        "    print(\"Error: Denominator cannot be 0.\")\n",
        "\n",
        "# Output: Error: Denominator cannot be 0."
      ],
      "metadata": {
        "colab": {
          "base_uri": "https://localhost:8080/"
        },
        "id": "VGhc9hkOrrsM",
        "outputId": "88150908-83e3-4a8a-8964-c0c743c4a77c"
      },
      "execution_count": null,
      "outputs": [
        {
          "output_type": "stream",
          "name": "stdout",
          "text": [
            "Error: Denominator cannot be 0.\n"
          ]
        }
      ]
    },
    {
      "cell_type": "code",
      "source": [
        "#try catch example with many default errors\n",
        "try:\n",
        "\n",
        "    even_numbers = [1, 2, 3, 4]\n",
        "    print(even_numbers[5])\n",
        "\n",
        "except ZeroDivisionError:\n",
        "    print(\"Denominator cannot be 0.\")\n",
        "\n",
        "except IndexError:\n",
        "    print(\"Index Out of Bound.\")\n",
        "\n",
        "# Output: Index Out of Bound"
      ],
      "metadata": {
        "colab": {
          "base_uri": "https://localhost:8080/"
        },
        "id": "9psSN2MRryLt",
        "outputId": "8b1b7048-37e5-4fa4-a724-68baec35f32a"
      },
      "execution_count": null,
      "outputs": [
        {
          "output_type": "stream",
          "name": "stdout",
          "text": [
            "Index Out of Bound.\n"
          ]
        }
      ]
    },
    {
      "cell_type": "markdown",
      "source": [
        "**Python try with else clause**\n",
        "\n",
        "\n",
        "*   we can use the else clause on the try-except block which must be present after all the except clauses.\n",
        "\n",
        "*   The code enters the else block only if the try clause does not raise an exception."
      ],
      "metadata": {
        "id": "qsHE1Lse1Nkr"
      }
    },
    {
      "cell_type": "markdown",
      "source": [
        "**Python try with else clause**\n",
        "\n",
        "try:\n",
        "        # all operations are done within this block.\n",
        "        . . . . . .\n",
        "except:\n",
        "        # this block will get executed if any exception encounters.\n",
        "        . . . . . .\n",
        "else:\n",
        "        # this block will get executed if no exception is found.\n",
        "        . . . . . ."
      ],
      "metadata": {
        "id": "24-1VqAYu8kd"
      }
    },
    {
      "cell_type": "code",
      "source": [
        "try:\n",
        "    x = int(input('Enter a number: '))\n",
        "    if x > 100:\n",
        "        raise ValueError(x)\n",
        "except ValueError:\n",
        "    print(x, \"is out of allowed range\")\n",
        "else:\n",
        "    print(x, \"is within the allowed range\")"
      ],
      "metadata": {
        "colab": {
          "base_uri": "https://localhost:8080/"
        },
        "id": "9y4F7K939ORs",
        "outputId": "437df8eb-0af4-4fd7-a657-02d3b2563f0e"
      },
      "execution_count": null,
      "outputs": [
        {
          "output_type": "stream",
          "name": "stdout",
          "text": [
            "Enter a number: 200\n",
            "200 is out of allowed range\n"
          ]
        }
      ]
    },
    {
      "cell_type": "markdown",
      "source": [
        "**Except Class With Multiple Exceptions**\n",
        "\n",
        "try:\n",
        "        # all operations are done within this block.\n",
        "        . . . . . .\n",
        "except ( Exception1 [, Exception2[,….Exception N ] ] ] ) :\n",
        "        # this block will get executed if any exception encounters from the above lists of exceptions.\n",
        "        . . . . . .\n",
        "else:\n",
        "        # this block will get executed if no exception is found.\n",
        "        . . . . . ."
      ],
      "metadata": {
        "id": "2SbqnSdYvFNq"
      }
    },
    {
      "cell_type": "code",
      "source": [
        "#try catch example with many default errors\n",
        "try:\n",
        "\n",
        "    even_numbers = [1, 2, 3, 4]\n",
        "    print(even_numbers[5])\n",
        "\n",
        "except(ZeroDivisionError, IndexError) as e:\n",
        "  print(e)\n",
        "\n",
        "# Output: Index Out of Bound"
      ],
      "metadata": {
        "colab": {
          "base_uri": "https://localhost:8080/"
        },
        "id": "KtHjtRnAtlGZ",
        "outputId": "7685d8f3-5a70-440b-c217-358b11b8f948"
      },
      "execution_count": null,
      "outputs": [
        {
          "output_type": "stream",
          "name": "stdout",
          "text": [
            "list index out of range\n"
          ]
        }
      ]
    },
    {
      "cell_type": "markdown",
      "source": [
        "**try - finally Clause**\n",
        "\n",
        "try:\n",
        "        # all operations are done within this block.\n",
        "        . . . . . .\n",
        "        # if any exception encounters, this block may get skipped.\n",
        "finally:\n",
        "         . . . . . .\n",
        "        # this block will definitely be executed."
      ],
      "metadata": {
        "id": "wJfBQgrVvPXH"
      }
    },
    {
      "cell_type": "code",
      "source": [
        "# Program to demonstrate finally\n",
        "\n",
        "# No exception Exception raised in try block\n",
        "try:\n",
        "\tk = 9//5 # raises divide by zero exception.\n",
        "\tprint(k)\n",
        "\n",
        "# handles zerodivision exception\n",
        "except ZeroDivisionError:\n",
        "\tprint(\"Can't divide by zero\")\n",
        "\n",
        "else:\n",
        "\tprint('test')\n",
        "\n",
        "finally:\n",
        "\t# this block is always executed\n",
        "\t# regardless of exception generation.\n",
        "\tprint('This is always executed')\n"
      ],
      "metadata": {
        "colab": {
          "base_uri": "https://localhost:8080/"
        },
        "id": "-7fAcXD4ryU4",
        "outputId": "01ab811f-5bc1-4f34-b31b-5520d04f13ac"
      },
      "execution_count": null,
      "outputs": [
        {
          "output_type": "stream",
          "name": "stdout",
          "text": [
            "1\n",
            "test\n",
            "This is always executed\n"
          ]
        }
      ]
    },
    {
      "cell_type": "code",
      "source": [
        "# Program to demonstrate finally\n",
        "\n",
        "# No exception Exception raised in try block\n",
        "try:\n",
        "\tk = 5//0 # raises divide by zero exception.\n",
        "\tprint(k)\n",
        "\n",
        "# handles zerodivision exception\n",
        "except ZeroDivisionError:\n",
        "\tprint(\"Can't divide by zero\")\n",
        "\n",
        "else:\n",
        "\tprint('test')\n",
        "\n",
        "finally:\n",
        "\t# this block is always executed\n",
        "\t# regardless of exception generation.\n",
        "\tprint('This is always executed')\n"
      ],
      "metadata": {
        "colab": {
          "base_uri": "https://localhost:8080/"
        },
        "id": "QXQGgDTHrrW1",
        "outputId": "1d63eb5f-34f8-4748-b7e7-9b653f27f050"
      },
      "execution_count": null,
      "outputs": [
        {
          "output_type": "stream",
          "name": "stdout",
          "text": [
            "Can't divide by zero\n",
            "This is always executed\n"
          ]
        }
      ]
    },
    {
      "cell_type": "markdown",
      "source": [
        "**Raising Exception**\n",
        "\n",
        "The raise statement allows us to force a specific exception to occur."
      ],
      "metadata": {
        "id": "wbHQWY6QsWNQ"
      }
    },
    {
      "cell_type": "code",
      "source": [
        "# Program to depict Raising Exception\n",
        "\n",
        "try:\n",
        "\traise NameError(\"Hello World\") # Raise Error\n",
        "except NameError:\n",
        "\tprint (\"An exception\")\n",
        "\traise # To determine whether the exception was raised or not\n"
      ],
      "metadata": {
        "colab": {
          "base_uri": "https://localhost:8080/",
          "height": 253
        },
        "id": "JIpcE8Q0smWE",
        "outputId": "087c7122-6bc6-4616-d3e0-eb4f780d7c7c"
      },
      "execution_count": null,
      "outputs": [
        {
          "output_type": "stream",
          "name": "stdout",
          "text": [
            "An exception\n"
          ]
        },
        {
          "output_type": "error",
          "ename": "NameError",
          "evalue": "ignored",
          "traceback": [
            "\u001b[0;31m---------------------------------------------------------------------------\u001b[0m",
            "\u001b[0;31mNameError\u001b[0m                                 Traceback (most recent call last)",
            "\u001b[0;32m<ipython-input-3-832f8540fdf4>\u001b[0m in \u001b[0;36m<module>\u001b[0;34m\u001b[0m\n\u001b[1;32m      2\u001b[0m \u001b[0;34m\u001b[0m\u001b[0m\n\u001b[1;32m      3\u001b[0m \u001b[0;32mtry\u001b[0m\u001b[0;34m:\u001b[0m\u001b[0;34m\u001b[0m\u001b[0;34m\u001b[0m\u001b[0m\n\u001b[0;32m----> 4\u001b[0;31m         \u001b[0;32mraise\u001b[0m \u001b[0mNameError\u001b[0m\u001b[0;34m(\u001b[0m\u001b[0;34m\"Hello World\"\u001b[0m\u001b[0;34m)\u001b[0m \u001b[0;31m# Raise Error\u001b[0m\u001b[0;34m\u001b[0m\u001b[0;34m\u001b[0m\u001b[0m\n\u001b[0m\u001b[1;32m      5\u001b[0m \u001b[0;32mexcept\u001b[0m \u001b[0mNameError\u001b[0m\u001b[0;34m:\u001b[0m\u001b[0;34m\u001b[0m\u001b[0;34m\u001b[0m\u001b[0m\n\u001b[1;32m      6\u001b[0m         \u001b[0mprint\u001b[0m \u001b[0;34m(\u001b[0m\u001b[0;34m\"An exception\"\u001b[0m\u001b[0;34m)\u001b[0m\u001b[0;34m\u001b[0m\u001b[0;34m\u001b[0m\u001b[0m\n",
            "\u001b[0;31mNameError\u001b[0m: Hello World"
          ]
        }
      ]
    },
    {
      "cell_type": "code",
      "source": [
        "x = 5\n",
        "y = 0\n",
        "\n",
        "try:\n",
        "   z = x / y\n",
        "   print(z)\n",
        "except ArithmeticError as e:\n",
        "   #print(\"Arithmetic Error has occurred\")\n",
        "   print(f\"{e}\")"
      ],
      "metadata": {
        "colab": {
          "base_uri": "https://localhost:8080/"
        },
        "id": "dGkCObmnwGXd",
        "outputId": "e6dbd284-fbb6-4f9c-b40d-4bb6f074aa08"
      },
      "execution_count": null,
      "outputs": [
        {
          "output_type": "stream",
          "name": "stdout",
          "text": [
            "division by zero\n"
          ]
        }
      ]
    },
    {
      "cell_type": "markdown",
      "source": [
        "**Python exit commands: quit(), exit(), sys.exit() and os._exit()**\n",
        "\n",
        "The quit(), exit(), sys.exit() and os._exit() have almost the same functionality as they raise the SystemExit exception by which the Python interpreter exits and no stack traceback is printed."
      ],
      "metadata": {
        "id": "5l-XRH3mx7WG"
      }
    },
    {
      "cell_type": "code",
      "source": [
        "# Python program to demonstrate\n",
        "# quit()\n",
        "lst = [1, 2, 3, 4, 5, 6, 7]\n",
        "#for i in range(10):\n",
        "for i in lst:\n",
        "\n",
        "\t# If the value of i becomes\n",
        "\t# 5 then the program is forced\n",
        "\t# to quit\n",
        "\tif i == 5:\n",
        "\n",
        "\t\t# prints the quit message\n",
        "\t\tprint(quit)\n",
        "\t\tquit()\n",
        "\n",
        "\tprint(i)\n"
      ],
      "metadata": {
        "colab": {
          "base_uri": "https://localhost:8080/"
        },
        "id": "BbfX3npHx-U1",
        "outputId": "4e3c17cd-6554-4aa6-c2e6-273c60a7c2c5"
      },
      "execution_count": null,
      "outputs": [
        {
          "output_type": "stream",
          "name": "stdout",
          "text": [
            "1\n",
            "2\n",
            "3\n",
            "4\n",
            "<IPython.core.autocall.ZMQExitAutocall object at 0x78664f290d60>\n",
            "5\n",
            "6\n",
            "7\n"
          ]
        }
      ]
    },
    {
      "cell_type": "code",
      "source": [
        "for val in range(0,5):\n",
        "    if val == 3:\n",
        "        print(quit)\n",
        "        quit()\n",
        "    print(val)"
      ],
      "metadata": {
        "colab": {
          "base_uri": "https://localhost:8080/"
        },
        "id": "6HLG0SQaz-In",
        "outputId": "0e730ce2-5c1e-44ff-9540-d7f79f194096"
      },
      "execution_count": null,
      "outputs": [
        {
          "output_type": "stream",
          "name": "stdout",
          "text": [
            "0\n",
            "1\n",
            "2\n",
            "<IPython.core.autocall.ZMQExitAutocall object at 0x7fa0cd70f6d0>\n",
            "3\n",
            "4\n"
          ]
        }
      ]
    },
    {
      "cell_type": "code",
      "source": [
        "for i in range(5):\n",
        "  try:\n",
        "    print(i)\n",
        "    if i == 3:\n",
        "      print(i/0)\n",
        "  except:\n",
        "    print('error')\n",
        "    #quit()\n",
        "    #continue"
      ],
      "metadata": {
        "colab": {
          "base_uri": "https://localhost:8080/"
        },
        "id": "TBioFdDryzIo",
        "outputId": "6a5ff68c-d02e-484c-ef09-4f15a7008786"
      },
      "execution_count": null,
      "outputs": [
        {
          "output_type": "stream",
          "name": "stdout",
          "text": [
            "0\n",
            "1\n",
            "2\n",
            "3\n",
            "error\n",
            "4\n"
          ]
        }
      ]
    },
    {
      "cell_type": "code",
      "source": [
        "# Python program to demonstrate\n",
        "# exit()\n",
        "for i in range(10):\n",
        "\t# If the value of i becomes\n",
        "\t# 5 then the program is forced\n",
        "\t# to exit\n",
        "\tif i == 5:\n",
        "\n",
        "\t\t# prints the exit message\n",
        "\t\tprint(exit)\n",
        "\t\texit()\n",
        "\t\tprint('test')\n",
        "\tprint(i)\n"
      ],
      "metadata": {
        "colab": {
          "base_uri": "https://localhost:8080/"
        },
        "id": "-hGrcBOmzY-i",
        "outputId": "614c1c35-81c1-40ab-f20b-37bb8b7fc6b7"
      },
      "execution_count": null,
      "outputs": [
        {
          "output_type": "stream",
          "name": "stdout",
          "text": [
            "0\n",
            "1\n",
            "2\n",
            "3\n",
            "4\n",
            "<IPython.core.autocall.ZMQExitAutocall object at 0x7f067d451ac0>\n",
            "test\n",
            "5\n",
            "6\n",
            "7\n",
            "8\n",
            "9\n"
          ]
        }
      ]
    },
    {
      "cell_type": "markdown",
      "source": [
        "**Python - Assert Statement**\n",
        "\n",
        "assert statement is used to continue the execute, if the given condition evaluates to True. If the assert condition evaluates to False, then it raises the AssertionError exception with the specified error message."
      ],
      "metadata": {
        "id": "QmQ_hZSG9nuB"
      }
    },
    {
      "cell_type": "code",
      "source": [
        "#asser statement with condition\n",
        "x = int(input('Enter a number: '))\n",
        "assert x > 0\n",
        "print('x is a positive number.')"
      ],
      "metadata": {
        "colab": {
          "base_uri": "https://localhost:8080/",
          "height": 235
        },
        "id": "uBEqlznB9uSD",
        "outputId": "4c08b2a7-9eba-4ee9-d729-46bc43acd15c"
      },
      "execution_count": null,
      "outputs": [
        {
          "name": "stdout",
          "output_type": "stream",
          "text": [
            "Enter a number: -1\n"
          ]
        },
        {
          "output_type": "error",
          "ename": "AssertionError",
          "evalue": "ignored",
          "traceback": [
            "\u001b[0;31m---------------------------------------------------------------------------\u001b[0m",
            "\u001b[0;31mAssertionError\u001b[0m                            Traceback (most recent call last)",
            "\u001b[0;32m<ipython-input-2-5be94498cec4>\u001b[0m in \u001b[0;36m<cell line: 3>\u001b[0;34m()\u001b[0m\n\u001b[1;32m      1\u001b[0m \u001b[0;31m#asser statement with condition\u001b[0m\u001b[0;34m\u001b[0m\u001b[0;34m\u001b[0m\u001b[0m\n\u001b[1;32m      2\u001b[0m \u001b[0mx\u001b[0m \u001b[0;34m=\u001b[0m \u001b[0mint\u001b[0m\u001b[0;34m(\u001b[0m\u001b[0minput\u001b[0m\u001b[0;34m(\u001b[0m\u001b[0;34m'Enter a number: '\u001b[0m\u001b[0;34m)\u001b[0m\u001b[0;34m)\u001b[0m\u001b[0;34m\u001b[0m\u001b[0;34m\u001b[0m\u001b[0m\n\u001b[0;32m----> 3\u001b[0;31m \u001b[0;32massert\u001b[0m \u001b[0mx\u001b[0m \u001b[0;34m>\u001b[0m \u001b[0;36m0\u001b[0m\u001b[0;34m\u001b[0m\u001b[0;34m\u001b[0m\u001b[0m\n\u001b[0m\u001b[1;32m      4\u001b[0m \u001b[0mprint\u001b[0m\u001b[0;34m(\u001b[0m\u001b[0;34m'x is a positive number.'\u001b[0m\u001b[0;34m)\u001b[0m\u001b[0;34m\u001b[0m\u001b[0;34m\u001b[0m\u001b[0m\n",
            "\u001b[0;31mAssertionError\u001b[0m: "
          ]
        }
      ]
    },
    {
      "cell_type": "code",
      "source": [
        "x =  int(input('Enter a number: '))\n",
        "if x > 0:\n",
        "  print('x is a positive number.')\n",
        "else:\n",
        "  print('x is a negative number.')"
      ],
      "metadata": {
        "colab": {
          "base_uri": "https://localhost:8080/"
        },
        "id": "Hz_AcZpW9Eqe",
        "outputId": "e25b2360-76d2-44bb-a56d-94c5c1c018a7"
      },
      "execution_count": null,
      "outputs": [
        {
          "output_type": "stream",
          "name": "stdout",
          "text": [
            "Enter a number: -1\n",
            "x is a negative number.\n"
          ]
        }
      ]
    },
    {
      "cell_type": "code",
      "source": [
        "#assert statement with condition and error message\n",
        "x = int(input('Enter a number: '))\n",
        "assert x > 0, 'Only positive numbers are allowed'\n",
        "print('x is a positive number.')"
      ],
      "metadata": {
        "colab": {
          "base_uri": "https://localhost:8080/",
          "height": 235
        },
        "id": "cdgcORX69-oH",
        "outputId": "653490ff-aeb1-4caf-e372-2062776355f5"
      },
      "execution_count": null,
      "outputs": [
        {
          "name": "stdout",
          "output_type": "stream",
          "text": [
            "Enter a number: -2\n"
          ]
        },
        {
          "output_type": "error",
          "ename": "AssertionError",
          "evalue": "ignored",
          "traceback": [
            "\u001b[0;31m---------------------------------------------------------------------------\u001b[0m",
            "\u001b[0;31mAssertionError\u001b[0m                            Traceback (most recent call last)",
            "\u001b[0;32m<ipython-input-4-eb8401d5d060>\u001b[0m in \u001b[0;36m<cell line: 3>\u001b[0;34m()\u001b[0m\n\u001b[1;32m      1\u001b[0m \u001b[0;31m#assert statement with condition and error message\u001b[0m\u001b[0;34m\u001b[0m\u001b[0;34m\u001b[0m\u001b[0m\n\u001b[1;32m      2\u001b[0m \u001b[0mx\u001b[0m \u001b[0;34m=\u001b[0m \u001b[0mint\u001b[0m\u001b[0;34m(\u001b[0m\u001b[0minput\u001b[0m\u001b[0;34m(\u001b[0m\u001b[0;34m'Enter a number: '\u001b[0m\u001b[0;34m)\u001b[0m\u001b[0;34m)\u001b[0m\u001b[0;34m\u001b[0m\u001b[0;34m\u001b[0m\u001b[0m\n\u001b[0;32m----> 3\u001b[0;31m \u001b[0;32massert\u001b[0m \u001b[0mx\u001b[0m \u001b[0;34m>\u001b[0m \u001b[0;36m0\u001b[0m\u001b[0;34m,\u001b[0m \u001b[0;34m'Only positive numbers are allowed'\u001b[0m\u001b[0;34m\u001b[0m\u001b[0;34m\u001b[0m\u001b[0m\n\u001b[0m\u001b[1;32m      4\u001b[0m \u001b[0mprint\u001b[0m\u001b[0;34m(\u001b[0m\u001b[0;34m'x is a positive number.'\u001b[0m\u001b[0;34m)\u001b[0m\u001b[0;34m\u001b[0m\u001b[0;34m\u001b[0m\u001b[0m\n",
            "\u001b[0;31mAssertionError\u001b[0m: Only positive numbers are allowed"
          ]
        }
      ]
    },
    {
      "cell_type": "code",
      "source": [
        "x = int(input('Enter a number: '))\n",
        "if x > 0:\n",
        "  print(x)\n",
        "else:\n",
        "  print('x is negative number')"
      ],
      "metadata": {
        "colab": {
          "base_uri": "https://localhost:8080/"
        },
        "id": "xoywjR4r9Zjr",
        "outputId": "a363c182-34ad-4ca0-827d-a84b68d42cb9"
      },
      "execution_count": null,
      "outputs": [
        {
          "output_type": "stream",
          "name": "stdout",
          "text": [
            "Enter a number: -100\n",
            "x is negative number\n"
          ]
        }
      ]
    },
    {
      "cell_type": "code",
      "source": [
        "def square(x):\n",
        "    assert x >= 0, 'Only positive numbers are allowed'\n",
        "    return x * x\n",
        "\n",
        "n = square(10) # returns 4\n",
        "n = square(-10) # raise an AssertionError"
      ],
      "metadata": {
        "colab": {
          "base_uri": "https://localhost:8080/",
          "height": 322
        },
        "id": "aPDPyJME-1ju",
        "outputId": "1aa605a4-e158-44e4-8de4-c63f1ef398cd"
      },
      "execution_count": null,
      "outputs": [
        {
          "output_type": "error",
          "ename": "AssertionError",
          "evalue": "ignored",
          "traceback": [
            "\u001b[0;31m---------------------------------------------------------------------------\u001b[0m",
            "\u001b[0;31mAssertionError\u001b[0m                            Traceback (most recent call last)",
            "\u001b[0;32m<ipython-input-1-e3a51e2ec84f>\u001b[0m in \u001b[0;36m<module>\u001b[0;34m\u001b[0m\n\u001b[1;32m      4\u001b[0m \u001b[0;34m\u001b[0m\u001b[0m\n\u001b[1;32m      5\u001b[0m \u001b[0mn\u001b[0m \u001b[0;34m=\u001b[0m \u001b[0msquare\u001b[0m\u001b[0;34m(\u001b[0m\u001b[0;36m10\u001b[0m\u001b[0;34m)\u001b[0m \u001b[0;31m# returns 4\u001b[0m\u001b[0;34m\u001b[0m\u001b[0;34m\u001b[0m\u001b[0m\n\u001b[0;32m----> 6\u001b[0;31m \u001b[0mn\u001b[0m \u001b[0;34m=\u001b[0m \u001b[0msquare\u001b[0m\u001b[0;34m(\u001b[0m\u001b[0;34m-\u001b[0m\u001b[0;36m10\u001b[0m\u001b[0;34m)\u001b[0m \u001b[0;31m# raise an AssertionError\u001b[0m\u001b[0;34m\u001b[0m\u001b[0;34m\u001b[0m\u001b[0m\n\u001b[0m",
            "\u001b[0;32m<ipython-input-1-e3a51e2ec84f>\u001b[0m in \u001b[0;36msquare\u001b[0;34m(x)\u001b[0m\n\u001b[1;32m      1\u001b[0m \u001b[0;32mdef\u001b[0m \u001b[0msquare\u001b[0m\u001b[0;34m(\u001b[0m\u001b[0mx\u001b[0m\u001b[0;34m)\u001b[0m\u001b[0;34m:\u001b[0m\u001b[0;34m\u001b[0m\u001b[0;34m\u001b[0m\u001b[0m\n\u001b[0;32m----> 2\u001b[0;31m     \u001b[0;32massert\u001b[0m \u001b[0mx\u001b[0m \u001b[0;34m>=\u001b[0m \u001b[0;36m0\u001b[0m\u001b[0;34m,\u001b[0m \u001b[0;34m'Only positive numbers are allowed'\u001b[0m\u001b[0;34m\u001b[0m\u001b[0;34m\u001b[0m\u001b[0m\n\u001b[0m\u001b[1;32m      3\u001b[0m     \u001b[0;32mreturn\u001b[0m \u001b[0mx\u001b[0m \u001b[0;34m*\u001b[0m \u001b[0mx\u001b[0m\u001b[0;34m\u001b[0m\u001b[0;34m\u001b[0m\u001b[0m\n\u001b[1;32m      4\u001b[0m \u001b[0;34m\u001b[0m\u001b[0m\n\u001b[1;32m      5\u001b[0m \u001b[0mn\u001b[0m \u001b[0;34m=\u001b[0m \u001b[0msquare\u001b[0m\u001b[0;34m(\u001b[0m\u001b[0;36m10\u001b[0m\u001b[0;34m)\u001b[0m \u001b[0;31m# returns 4\u001b[0m\u001b[0;34m\u001b[0m\u001b[0;34m\u001b[0m\u001b[0m\n",
            "\u001b[0;31mAssertionError\u001b[0m: Only positive numbers are allowed"
          ]
        }
      ]
    },
    {
      "cell_type": "code",
      "source": [
        "def square(x):\n",
        "\n",
        "    assert x >= 0, 'Only positive numbers are allowed'\n",
        "    return x * x\n",
        "\n",
        "try:\n",
        "    square(-2)\n",
        "\n",
        "except AssertionError as msg:\n",
        "    print(msg)"
      ],
      "metadata": {
        "colab": {
          "base_uri": "https://localhost:8080/"
        },
        "id": "lKp2lGyq_TMo",
        "outputId": "ce2a7f69-afb8-4e29-f416-b42ab34b3256"
      },
      "execution_count": null,
      "outputs": [
        {
          "output_type": "stream",
          "name": "stdout",
          "text": [
            "Only positive numbers are allowed\n"
          ]
        }
      ]
    },
    {
      "cell_type": "code",
      "source": [
        "def test():\n",
        "  print('hi')\n",
        "  x = 5\n",
        "  return x\n",
        "\n",
        "test()\n",
        "#b = test()\n",
        "#print(b)\n"
      ],
      "metadata": {
        "colab": {
          "base_uri": "https://localhost:8080/"
        },
        "id": "PKZimPS7l-TY",
        "outputId": "568f6551-52fd-456c-eed5-098165c1d508"
      },
      "execution_count": null,
      "outputs": [
        {
          "output_type": "stream",
          "name": "stdout",
          "text": [
            "hi\n"
          ]
        },
        {
          "output_type": "execute_result",
          "data": {
            "text/plain": [
              "5"
            ]
          },
          "metadata": {},
          "execution_count": 4
        }
      ]
    }
  ]
}