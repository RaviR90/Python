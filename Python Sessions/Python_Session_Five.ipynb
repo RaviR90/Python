{
  "nbformat": 4,
  "nbformat_minor": 0,
  "metadata": {
    "colab": {
      "provenance": []
    },
    "kernelspec": {
      "name": "python3",
      "display_name": "Python 3"
    },
    "language_info": {
      "name": "python"
    }
  },
  "cells": [
    {
      "cell_type": "markdown",
      "source": [
        "# Python - Dictionary\n",
        "\n",
        "The dictionary is an unordered collection that contains key:value pairs separated by commas inside curly brackets."
      ],
      "metadata": {
        "id": "u6FP5EaAjvrb"
      }
    },
    {
      "cell_type": "code",
      "source": [
        "emp_dict = {} # empty dictionary\n",
        "print(emp_dict)\n",
        "\n",
        "num_names={1:\"One\", 2: \"Two\", 3:\"Three\"} # int key, string value\n",
        "print(num_names)\n",
        "\n",
        "dec_names={1.0:\"One\", 2.0: \"Two\", 3.0:\"Three\"} # float key, string value\n",
        "print(dec_names)\n",
        "\n",
        "items={(\"Mango\",\"Banana\",\"Apple\"):\"fruits\", (\"Carrot\",\"Cabbage\",\"Beans\"): \"Vegetables\"} # tuple key, string value\n",
        "print(items)\n",
        "\n",
        "roman_nums = {'I':1, 'II':2, 'III':3, 'IV':4, 'V':5} # string key, int value\n",
        "print(roman_nums)"
      ],
      "metadata": {
        "colab": {
          "base_uri": "https://localhost:8080/"
        },
        "id": "ZyyuWai9kqrP",
        "outputId": "594297d7-b8be-4610-bbd5-aa40fe05898a"
      },
      "execution_count": null,
      "outputs": [
        {
          "output_type": "stream",
          "name": "stdout",
          "text": [
            "{}\n",
            "{1: 'One', 2: 'Two', 3: 'Three'}\n",
            "{1.0: 'One', 2.0: 'Two', 3.0: 'Three'}\n",
            "{('Mango', 'Banana', 'Apple'): 'fruits', ('Carrot', 'Cabbage', 'Beans'): 'Vegetables'}\n",
            "{'I': 1, 'II': 2, 'III': 3, 'IV': 4, 'V': 5}\n"
          ]
        }
      ]
    },
    {
      "cell_type": "markdown",
      "source": [
        "A dictionary with a list as a key is not valid because list is mutuable"
      ],
      "metadata": {
        "id": "LFvQ0dW5lpL1"
      }
    },
    {
      "cell_type": "code",
      "source": [
        "dict_obj = {[\"Mango\",\"Banana\",\"Apple\"]:\"Fruits\", [\"Carrot\",\"Cabbage\",\"Beans\"]:\"Vegetables\"}"
      ],
      "metadata": {
        "colab": {
          "base_uri": "https://localhost:8080/",
          "height": 166
        },
        "id": "96j4Mo6hlv8J",
        "outputId": "8986250e-89a0-4174-ebb5-5b07c52b221a"
      },
      "execution_count": null,
      "outputs": [
        {
          "output_type": "error",
          "ename": "TypeError",
          "evalue": "ignored",
          "traceback": [
            "\u001b[0;31m---------------------------------------------------------------------------\u001b[0m",
            "\u001b[0;31mTypeError\u001b[0m                                 Traceback (most recent call last)",
            "\u001b[0;32m<ipython-input-13-bb77b7cac44c>\u001b[0m in \u001b[0;36m<module>\u001b[0;34m\u001b[0m\n\u001b[0;32m----> 1\u001b[0;31m \u001b[0mdict_obj\u001b[0m \u001b[0;34m=\u001b[0m \u001b[0;34m{\u001b[0m\u001b[0;34m[\u001b[0m\u001b[0;34m\"Mango\"\u001b[0m\u001b[0;34m,\u001b[0m\u001b[0;34m\"Banana\"\u001b[0m\u001b[0;34m,\u001b[0m\u001b[0;34m\"Apple\"\u001b[0m\u001b[0;34m]\u001b[0m\u001b[0;34m:\u001b[0m\u001b[0;34m\"Fruits\"\u001b[0m\u001b[0;34m,\u001b[0m \u001b[0;34m[\u001b[0m\u001b[0;34m\"Carrot\"\u001b[0m\u001b[0;34m,\u001b[0m\u001b[0;34m\"Cabbage\"\u001b[0m\u001b[0;34m,\u001b[0m\u001b[0;34m\"Beans\"\u001b[0m\u001b[0;34m]\u001b[0m\u001b[0;34m:\u001b[0m\u001b[0;34m\"Vegetables\"\u001b[0m\u001b[0;34m}\u001b[0m\u001b[0;34m\u001b[0m\u001b[0;34m\u001b[0m\u001b[0m\n\u001b[0m",
            "\u001b[0;31mTypeError\u001b[0m: unhashable type: 'list'"
          ]
        }
      ]
    },
    {
      "cell_type": "code",
      "source": [
        "#list in value place\n",
        "dict_obj = {\"Fruits\": [\"Mango\",\"Banana\",\"Apple\"], \"Vegetables\": [\"Carrot\",\"Cabbage\",\"Beans\"]}\n",
        "print(dict_obj)"
      ],
      "metadata": {
        "colab": {
          "base_uri": "https://localhost:8080/"
        },
        "id": "N3CZtdPYmPm6",
        "outputId": "19c73178-f604-4459-f4a2-b6b0eea5df71"
      },
      "execution_count": null,
      "outputs": [
        {
          "output_type": "stream",
          "name": "stdout",
          "text": [
            "{'Fruits': ['Mango', 'Banana', 'Apple'], 'Vegetables': ['Carrot', 'Cabbage', 'Beans']}\n"
          ]
        }
      ]
    },
    {
      "cell_type": "markdown",
      "source": [
        "**Duplicates in dictionary**"
      ],
      "metadata": {
        "id": "ICxOVshOmeBL"
      }
    },
    {
      "cell_type": "code",
      "source": [
        "num_names={1:\"One\", 2: \"Two\", 3:\"Three\", 1:\"four\", 2: \"five\", 3:\"Three\"} # int key, string value\n",
        "print(num_names)"
      ],
      "metadata": {
        "colab": {
          "base_uri": "https://localhost:8080/"
        },
        "id": "Ha41K3uJmwdH",
        "outputId": "c441ea37-5369-4dcd-caf9-a99f061d3d87"
      },
      "execution_count": null,
      "outputs": [
        {
          "output_type": "stream",
          "name": "stdout",
          "text": [
            "{1: 'four', 2: 'five', 3: 'Three'}\n"
          ]
        }
      ]
    },
    {
      "cell_type": "markdown",
      "source": [
        "**type()**"
      ],
      "metadata": {
        "id": "llEgcBMjm9Hy"
      }
    },
    {
      "cell_type": "code",
      "source": [
        "num_names={1:\"One\", 2: \"Two\", 3:\"Three\"} # int key, string value\n",
        "print(type(num_names))"
      ],
      "metadata": {
        "colab": {
          "base_uri": "https://localhost:8080/"
        },
        "id": "s8ZPZjNYnBQc",
        "outputId": "2d9e0267-2b85-4610-9c23-21542fc2df70"
      },
      "execution_count": null,
      "outputs": [
        {
          "output_type": "stream",
          "name": "stdout",
          "text": [
            "<class 'dict'>\n"
          ]
        }
      ]
    },
    {
      "cell_type": "markdown",
      "source": [
        "**dict() Constructor**"
      ],
      "metadata": {
        "id": "DpSGEBwnnKEJ"
      }
    },
    {
      "cell_type": "code",
      "source": [
        "#empty dictionary using dict()\n",
        "empty_dict = dict()\n",
        "print(empty_dict)\n",
        "\n",
        "num_dict = dict(I='one', II='two', III='three')\n",
        "print(num_dict)"
      ],
      "metadata": {
        "colab": {
          "base_uri": "https://localhost:8080/"
        },
        "id": "5s4wsm9SnRq8",
        "outputId": "e153ec96-aeae-49d9-c4c7-2c744a8199ab"
      },
      "execution_count": null,
      "outputs": [
        {
          "output_type": "stream",
          "name": "stdout",
          "text": [
            "{}\n",
            "{'I': 'one', 'II': 'two', 'III': 'three'}\n"
          ]
        }
      ]
    },
    {
      "cell_type": "code",
      "source": [
        "a = 12\n",
        "display(a)\n",
        "\n",
        "b= 5\n",
        "print(b)"
      ],
      "metadata": {
        "colab": {
          "base_uri": "https://localhost:8080/",
          "height": 52
        },
        "id": "T8kcmGZO73CX",
        "outputId": "6fff19db-6b32-44da-8669-fde798e87bf6"
      },
      "execution_count": null,
      "outputs": [
        {
          "output_type": "display_data",
          "data": {
            "text/plain": [
              "12"
            ]
          },
          "metadata": {}
        },
        {
          "output_type": "stream",
          "name": "stdout",
          "text": [
            "5\n"
          ]
        }
      ]
    },
    {
      "cell_type": "code",
      "source": [
        "emp_lst = []\n",
        "emp_list = list()\n",
        "\n",
        "emp_tup = ()\n",
        "emp_tuple = tuple()\n",
        "\n",
        "emp_set = set()\n",
        "\n",
        "emp_dict = {}\n",
        "emp_dict1 = dict()"
      ],
      "metadata": {
        "id": "nzIC8ApD2hqR"
      },
      "execution_count": null,
      "outputs": []
    },
    {
      "cell_type": "markdown",
      "source": [
        "**Dictionary Length**"
      ],
      "metadata": {
        "id": "S7TrqeVgnwYU"
      }
    },
    {
      "cell_type": "code",
      "source": [
        "num_names={1:\"One\", 2: \"Two\", 3:\"Three\"} # int key, string value\n",
        "print(len(num_names))"
      ],
      "metadata": {
        "colab": {
          "base_uri": "https://localhost:8080/"
        },
        "id": "qq1Iw1C_nzyK",
        "outputId": "c1b12abd-f584-4031-b6ea-b27c4f5f36a2"
      },
      "execution_count": null,
      "outputs": [
        {
          "output_type": "stream",
          "name": "stdout",
          "text": [
            "3\n"
          ]
        }
      ]
    },
    {
      "cell_type": "markdown",
      "source": [
        "**Accessing Items**"
      ],
      "metadata": {
        "id": "_7eCX93YoG0N"
      }
    },
    {
      "cell_type": "code",
      "source": [
        "num_names={1:\"One\", 2: \"Two\", 3:\"Three\"}\n",
        "print(num_names[1])\n",
        "\n",
        "dict_obj = {\"Fruits\": [\"Mango\",\"Banana\",\"Apple\"], \"Vegetables\": [\"Carrot\",\"Cabbage\",\"Beans\"]}\n",
        "print(dict_obj['Fruits'])"
      ],
      "metadata": {
        "colab": {
          "base_uri": "https://localhost:8080/"
        },
        "id": "y4nd-D4joJaP",
        "outputId": "92b70e86-3f29-4006-c86a-6429b8e5b437"
      },
      "execution_count": null,
      "outputs": [
        {
          "output_type": "stream",
          "name": "stdout",
          "text": [
            "One\n",
            "['Mango', 'Banana', 'Apple']\n"
          ]
        }
      ]
    },
    {
      "cell_type": "code",
      "source": [
        "#key error\n",
        "dict_obj = {\"Fruits\": [\"Mango\",\"Banana\",\"Apple\"], \"Vegetables\": [\"Carrot\",\"Cabbage\",\"Beans\"]}\n",
        "print(dict_obj['Veg'])"
      ],
      "metadata": {
        "colab": {
          "base_uri": "https://localhost:8080/",
          "height": 201
        },
        "id": "-l633wbzpBZA",
        "outputId": "1ed10b16-88a4-4db0-e019-3ea80abc68e7"
      },
      "execution_count": null,
      "outputs": [
        {
          "output_type": "error",
          "ename": "KeyError",
          "evalue": "ignored",
          "traceback": [
            "\u001b[0;31m---------------------------------------------------------------------------\u001b[0m",
            "\u001b[0;31mKeyError\u001b[0m                                  Traceback (most recent call last)",
            "\u001b[0;32m<ipython-input-23-43dc9cfd0341>\u001b[0m in \u001b[0;36m<module>\u001b[0;34m\u001b[0m\n\u001b[1;32m      1\u001b[0m \u001b[0;31m#key error\u001b[0m\u001b[0;34m\u001b[0m\u001b[0;34m\u001b[0m\u001b[0;34m\u001b[0m\u001b[0m\n\u001b[1;32m      2\u001b[0m \u001b[0mdict_obj\u001b[0m \u001b[0;34m=\u001b[0m \u001b[0;34m{\u001b[0m\u001b[0;34m\"Fruits\"\u001b[0m\u001b[0;34m:\u001b[0m \u001b[0;34m[\u001b[0m\u001b[0;34m\"Mango\"\u001b[0m\u001b[0;34m,\u001b[0m\u001b[0;34m\"Banana\"\u001b[0m\u001b[0;34m,\u001b[0m\u001b[0;34m\"Apple\"\u001b[0m\u001b[0;34m]\u001b[0m\u001b[0;34m,\u001b[0m \u001b[0;34m\"Vegetables\"\u001b[0m\u001b[0;34m:\u001b[0m \u001b[0;34m[\u001b[0m\u001b[0;34m\"Carrot\"\u001b[0m\u001b[0;34m,\u001b[0m\u001b[0;34m\"Cabbage\"\u001b[0m\u001b[0;34m,\u001b[0m\u001b[0;34m\"Beans\"\u001b[0m\u001b[0;34m]\u001b[0m\u001b[0;34m}\u001b[0m\u001b[0;34m\u001b[0m\u001b[0;34m\u001b[0m\u001b[0m\n\u001b[0;32m----> 3\u001b[0;31m \u001b[0mprint\u001b[0m\u001b[0;34m(\u001b[0m\u001b[0mdict_obj\u001b[0m\u001b[0;34m[\u001b[0m\u001b[0;34m'Veg'\u001b[0m\u001b[0;34m]\u001b[0m\u001b[0;34m)\u001b[0m\u001b[0;34m\u001b[0m\u001b[0;34m\u001b[0m\u001b[0m\n\u001b[0m",
            "\u001b[0;31mKeyError\u001b[0m: 'Veg'"
          ]
        }
      ]
    },
    {
      "cell_type": "markdown",
      "source": [
        "**get()**"
      ],
      "metadata": {
        "id": "gKZDXbnIpN9F"
      }
    },
    {
      "cell_type": "code",
      "source": [
        "num_names={1:\"One\", 2: \"Two\", 3:\"Three\"}\n",
        "print(num_names.get(1))\n",
        "\n",
        "dict_obj = {\"Fruits\": [\"Mango\",\"Banana\",\"Apple\"], \"Vegetables\": [\"Carrot\",\"Cabbage\",\"Beans\"]}\n",
        "print(dict_obj.get('Fruits'))"
      ],
      "metadata": {
        "colab": {
          "base_uri": "https://localhost:8080/"
        },
        "id": "9sIf-aNNpGrt",
        "outputId": "40e7f941-6663-44be-a35a-54c74f7802de"
      },
      "execution_count": null,
      "outputs": [
        {
          "output_type": "stream",
          "name": "stdout",
          "text": [
            "One\n",
            "['Mango', 'Banana', 'Apple']\n"
          ]
        }
      ]
    },
    {
      "cell_type": "code",
      "source": [
        "#key error\n",
        "dict_obj = {\"Fruits\": [\"Mango\",\"Banana\",\"Apple\"], \"Vegetables\": [\"Carrot\",\"Cabbage\",\"Beans\"]}\n",
        "print(dict_obj.get('Veg'))"
      ],
      "metadata": {
        "colab": {
          "base_uri": "https://localhost:8080/"
        },
        "id": "IP3qP2Tspd5W",
        "outputId": "2d59b0c2-2120-4e7f-a50a-529153be96eb"
      },
      "execution_count": null,
      "outputs": [
        {
          "output_type": "stream",
          "name": "stdout",
          "text": [
            "None\n"
          ]
        }
      ]
    },
    {
      "cell_type": "markdown",
      "source": [
        "**Keys()**"
      ],
      "metadata": {
        "id": "5eIcutTwpmpN"
      }
    },
    {
      "cell_type": "code",
      "source": [
        "num_names={1:\"One\", 2: \"Two\", 3:\"Three\"}\n",
        "print(num_names.keys())"
      ],
      "metadata": {
        "colab": {
          "base_uri": "https://localhost:8080/"
        },
        "id": "A6I6yXQ-po62",
        "outputId": "4e2cc670-bf3f-4085-a77b-27ca250f1fd6"
      },
      "execution_count": null,
      "outputs": [
        {
          "output_type": "stream",
          "name": "stdout",
          "text": [
            "dict_keys([1, 2, 3])\n"
          ]
        }
      ]
    },
    {
      "cell_type": "code",
      "source": [
        "lst = [1,2,3]\n",
        "for a in lst:\n",
        "  print(a)"
      ],
      "metadata": {
        "colab": {
          "base_uri": "https://localhost:8080/"
        },
        "id": "bEzxaPXsYyKb",
        "outputId": "5d7a2c51-6bc9-432a-a3d0-598b6e4789f8"
      },
      "execution_count": null,
      "outputs": [
        {
          "output_type": "stream",
          "name": "stdout",
          "text": [
            "1\n",
            "2\n",
            "3\n"
          ]
        }
      ]
    },
    {
      "cell_type": "code",
      "source": [
        "num_names={1:\"One\", 2: \"Two\", 3:\"Three\"}\n",
        "for key in num_names.keys():\n",
        "  print(key)\n",
        "  print(num_names[key])"
      ],
      "metadata": {
        "colab": {
          "base_uri": "https://localhost:8080/"
        },
        "id": "goDUzNasp_bQ",
        "outputId": "528e3b15-9c68-4b19-a1d2-7c75cfac1488"
      },
      "execution_count": null,
      "outputs": [
        {
          "output_type": "stream",
          "name": "stdout",
          "text": [
            "1\n",
            "One\n",
            "2\n",
            "Two\n",
            "3\n",
            "Three\n"
          ]
        }
      ]
    },
    {
      "cell_type": "markdown",
      "source": [
        "**Values()**"
      ],
      "metadata": {
        "id": "Pej0vbevqS7A"
      }
    },
    {
      "cell_type": "code",
      "source": [
        "num_names={1:\"One\", 2: \"Two\", 3:\"Three\"}\n",
        "print(num_names.values())\n",
        "print(type(num_names.values()))"
      ],
      "metadata": {
        "colab": {
          "base_uri": "https://localhost:8080/"
        },
        "id": "c_mWIvGaqVDE",
        "outputId": "aaf002b6-8518-4563-b9dd-aa05e752f18a"
      },
      "execution_count": null,
      "outputs": [
        {
          "output_type": "stream",
          "name": "stdout",
          "text": [
            "dict_values(['One', 'Two', 'Three'])\n",
            "<class 'dict_values'>\n"
          ]
        }
      ]
    },
    {
      "cell_type": "code",
      "source": [
        "num_names={1:\"One\", 2: \"Two\", 3:\"Three\"}\n",
        "for val in num_names.values():\n",
        "  print(val)"
      ],
      "metadata": {
        "colab": {
          "base_uri": "https://localhost:8080/"
        },
        "id": "kdikBozIqhiv",
        "outputId": "36a308d1-5725-4bef-b10e-ab8417d4f099"
      },
      "execution_count": null,
      "outputs": [
        {
          "output_type": "stream",
          "name": "stdout",
          "text": [
            "One\n",
            "Two\n",
            "Three\n"
          ]
        }
      ]
    },
    {
      "cell_type": "markdown",
      "source": [
        "**Access Dictionary using loop**"
      ],
      "metadata": {
        "id": "u2tDeCPDqrX_"
      }
    },
    {
      "cell_type": "code",
      "source": [
        "num_names={1:\"One\", 2: \"Two\", 3:\"Three\"}\n",
        "for key in num_names.keys():\n",
        "  print(num_names[key])\n",
        "  print(num_names.get(key))"
      ],
      "metadata": {
        "colab": {
          "base_uri": "https://localhost:8080/"
        },
        "id": "8HSpO0kGqskc",
        "outputId": "3f4b30a7-33e8-4715-c872-3ee920bc07bf"
      },
      "execution_count": null,
      "outputs": [
        {
          "output_type": "stream",
          "name": "stdout",
          "text": [
            "One\n",
            "One\n",
            "Two\n",
            "Two\n",
            "Three\n",
            "Three\n"
          ]
        }
      ]
    },
    {
      "cell_type": "markdown",
      "source": [
        "**Dictionary Update**"
      ],
      "metadata": {
        "id": "Nt2VahGxq9fQ"
      }
    },
    {
      "cell_type": "code",
      "source": [
        "num_names={1:\"One\", 2: \"Two\", 3:\"Three\"}\n",
        "num_names['4'] = 'four'\n",
        "print(num_names)"
      ],
      "metadata": {
        "colab": {
          "base_uri": "https://localhost:8080/"
        },
        "id": "VPDXXlYCrAsr",
        "outputId": "4b428162-a519-421f-83da-3fd15e460c0d"
      },
      "execution_count": null,
      "outputs": [
        {
          "output_type": "stream",
          "name": "stdout",
          "text": [
            "{1: 'One', 2: 'Two', 3: 'Three', '4': 'four'}\n"
          ]
        }
      ]
    },
    {
      "cell_type": "markdown",
      "source": [
        "**Dictionary Delete**"
      ],
      "metadata": {
        "id": "LO1rVi5CrY4W"
      }
    },
    {
      "cell_type": "code",
      "source": [
        "num_names={1:\"One\", 2: \"Two\", 3:\"Three\", '4': 'four'}\n",
        "num_names.pop('4')\n",
        "print(num_names)\n",
        "num_names.popitem() #delete LIFO element\n",
        "print(num_names)\n"
      ],
      "metadata": {
        "colab": {
          "base_uri": "https://localhost:8080/"
        },
        "id": "XhgQwydsXivK",
        "outputId": "cf3ad1dc-0000-4b1c-d224-eaa805d57555"
      },
      "execution_count": null,
      "outputs": [
        {
          "output_type": "stream",
          "name": "stdout",
          "text": [
            "{1: 'One', 2: 'Two', 3: 'Three'}\n",
            "{1: 'One', 2: 'Two'}\n"
          ]
        }
      ]
    },
    {
      "cell_type": "code",
      "source": [
        "num_names={1:\"One\", 2: \"Two\", 3:\"Three\", '4': 'four'}\n",
        "del num_names['4'] # deletes a key-value pair\n",
        "print(num_names)\n",
        "num_names.clear()\n",
        "print(num_names)\n",
        "del num_names # delete dict object\n",
        "print(num_names)"
      ],
      "metadata": {
        "colab": {
          "base_uri": "https://localhost:8080/",
          "height": 235
        },
        "id": "Ex2CNEE6rcX8",
        "outputId": "3d0cc596-e908-4855-a496-e0ca0c4db952"
      },
      "execution_count": null,
      "outputs": [
        {
          "output_type": "stream",
          "name": "stdout",
          "text": [
            "{1: 'One', 2: 'Two', 3: 'Three'}\n",
            "{}\n"
          ]
        },
        {
          "output_type": "error",
          "ename": "NameError",
          "evalue": "ignored",
          "traceback": [
            "\u001b[0;31m---------------------------------------------------------------------------\u001b[0m",
            "\u001b[0;31mNameError\u001b[0m                                 Traceback (most recent call last)",
            "\u001b[0;32m<ipython-input-47-9bef1c46e40f>\u001b[0m in \u001b[0;36m<module>\u001b[0;34m\u001b[0m\n\u001b[1;32m      5\u001b[0m \u001b[0mprint\u001b[0m\u001b[0;34m(\u001b[0m\u001b[0mnum_names\u001b[0m\u001b[0;34m)\u001b[0m\u001b[0;34m\u001b[0m\u001b[0;34m\u001b[0m\u001b[0m\n\u001b[1;32m      6\u001b[0m \u001b[0;32mdel\u001b[0m \u001b[0mnum_names\u001b[0m \u001b[0;31m# delete dict object\u001b[0m\u001b[0;34m\u001b[0m\u001b[0;34m\u001b[0m\u001b[0m\n\u001b[0;32m----> 7\u001b[0;31m \u001b[0mprint\u001b[0m\u001b[0;34m(\u001b[0m\u001b[0mnum_names\u001b[0m\u001b[0;34m)\u001b[0m\u001b[0;34m\u001b[0m\u001b[0;34m\u001b[0m\u001b[0m\n\u001b[0m",
            "\u001b[0;31mNameError\u001b[0m: name 'num_names' is not defined"
          ]
        }
      ]
    },
    {
      "cell_type": "markdown",
      "source": [
        "**Check Dictionary Keys**"
      ],
      "metadata": {
        "id": "9o7EwEd3sB4E"
      }
    },
    {
      "cell_type": "code",
      "source": [
        "num_names={1:\"One\", 2: \"Two\", 3:\"Three\", '4': 'four'}\n",
        "\n",
        "print('One' in num_names)\n",
        "\n",
        "if 1 in num_names:\n",
        "  print('key 1 is available in num_names dictionary')\n",
        "  print('key 1 is available in num_names dictionary')\n",
        "  print('key 1 is available in num_names dictionary')\n",
        "  print('key 1 is available in num_names dictionary')\n",
        "  print('key 1 is available in num_names dictionary')\n"
      ],
      "metadata": {
        "colab": {
          "base_uri": "https://localhost:8080/"
        },
        "id": "N4Y2bdX2sD-u",
        "outputId": "8649627b-e579-4eb1-98c5-89648e308388"
      },
      "execution_count": null,
      "outputs": [
        {
          "output_type": "stream",
          "name": "stdout",
          "text": [
            "False\n",
            "key 1 is available in num_names dictionary\n",
            "key 1 is available in num_names dictionary\n",
            "key 1 is available in num_names dictionary\n",
            "key 1 is available in num_names dictionary\n",
            "key 1 is available in num_names dictionary\n"
          ]
        }
      ]
    },
    {
      "cell_type": "code",
      "source": [
        "num_names={1:\"One\", 2: \"Two\", 3:\"Three\", '4': 'four'}\n",
        "\n",
        "for b in num_names.keys():\n",
        "  print(b)\n",
        "  #print(val)\n",
        "\n",
        "\n",
        "for val in num_names.values():\n",
        "  #print(key)\n",
        "  print(val)\n",
        "\n",
        "for key, val in num_names.items():\n",
        "  print(key)\n",
        "  print(val)\n"
      ],
      "metadata": {
        "colab": {
          "base_uri": "https://localhost:8080/"
        },
        "id": "Td_VHVAiEQ3F",
        "outputId": "0c25b3ec-093d-4aaf-9801-077c343989b6"
      },
      "execution_count": null,
      "outputs": [
        {
          "output_type": "stream",
          "name": "stdout",
          "text": [
            "1\n",
            "2\n",
            "3\n",
            "4\n",
            "One\n",
            "Two\n",
            "Three\n",
            "four\n",
            "1\n",
            "One\n",
            "2\n",
            "Two\n",
            "3\n",
            "Three\n",
            "4\n",
            "four\n"
          ]
        }
      ]
    },
    {
      "cell_type": "markdown",
      "source": [
        "**Arithmetic & Logical Operators we saw previous sessions.**"
      ],
      "metadata": {
        "id": "d3wGaIgwbZuK"
      }
    },
    {
      "cell_type": "markdown",
      "source": [
        "# Assignment Operators"
      ],
      "metadata": {
        "id": "V1AVUVLXZPTl"
      }
    },
    {
      "cell_type": "code",
      "source": [
        "x = 10\n",
        "print(x)\n",
        "x = x + 10 #x= 10 + 10\n",
        "x += 10\n",
        "print(x)\n",
        "#x = x - 5\n",
        "x -= 5\n",
        "print(x)\n",
        "x *= 3\n",
        "print(x)\n",
        "x /= 3\n",
        "print(x)\n",
        "\n",
        "# x += 1\n",
        "# x = x + 1"
      ],
      "metadata": {
        "colab": {
          "base_uri": "https://localhost:8080/"
        },
        "id": "HZ3EjOQEZXdy",
        "outputId": "019f2e4a-932c-427e-97f0-00c0a6d5d95b"
      },
      "execution_count": null,
      "outputs": [
        {
          "output_type": "stream",
          "name": "stdout",
          "text": [
            "10\n",
            "20\n",
            "15\n",
            "45\n",
            "15.0\n"
          ]
        }
      ]
    },
    {
      "cell_type": "markdown",
      "source": [
        "# Comparison Operators"
      ],
      "metadata": {
        "id": "TkswGpxhaHqj"
      }
    },
    {
      "cell_type": "code",
      "source": [
        "a, b = 10, 20\n",
        "print(a > b)\n",
        "print(a < b)\n",
        "print(a == b)\n",
        "print(a != b)\n",
        "print(a >= b)\n",
        "print(a <= b)\n"
      ],
      "metadata": {
        "colab": {
          "base_uri": "https://localhost:8080/"
        },
        "id": "vjvsDv6DaJiY",
        "outputId": "1465198a-2f25-413d-d343-e8206d50ad77"
      },
      "execution_count": null,
      "outputs": [
        {
          "output_type": "stream",
          "name": "stdout",
          "text": [
            "False\n",
            "True\n",
            "False\n",
            "True\n",
            "False\n",
            "True\n"
          ]
        }
      ]
    },
    {
      "cell_type": "markdown",
      "source": [
        "**Next Session:**\n",
        "\n",
        "\n",
        "*   If Else Statement in Python\n",
        "*   Loops in Python"
      ],
      "metadata": {
        "id": "1bvaFSspeEov"
      }
    }
  ]
}