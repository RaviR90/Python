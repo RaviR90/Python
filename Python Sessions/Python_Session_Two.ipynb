{
  "nbformat": 4,
  "nbformat_minor": 0,
  "metadata": {
    "colab": {
      "provenance": []
    },
    "kernelspec": {
      "name": "python3",
      "display_name": "Python 3"
    },
    "language_info": {
      "name": "python"
    }
  },
  "cells": [
    {
      "cell_type": "markdown",
      "source": [
        "# Python Data Types\n",
        "\n",
        "\n",
        "1.   Text Type:\tstr\n",
        "2.   Numeric Types:\tint, float, complex\n",
        "3.   Sequence Types:\tlist, tuple, range\n",
        "4.   Mapping Type:\tdict\n",
        "5.   Set Types:\tset, frozenset\n",
        "6.   Boolean Type:\tbool\n",
        "7.   Binary Types:\tbytes, bytearray, memoryview\n",
        "8.   None Type:\tNoneType"
      ],
      "metadata": {
        "id": "25tTr-rp0JBU"
      }
    },
    {
      "cell_type": "code",
      "source": [
        "a = \"Hello World\"\n",
        "a = 'Hello World'\n",
        "b = 20\n",
        "c = 20.5\n",
        "d = 1j\n",
        "e = [\"apple\", \"banana\", \"cherry\"]#list\n",
        "f = (\"apple\", \"banana\", \"cherry\")#tuple\n",
        "g = range(6)\n",
        "h = {\"apple\", \"banana\", \"cherry\"} #set\n",
        "i = {\"name\" : \"John\", \"age\" : 36} #dict\n",
        "j = frozenset({\"apple\", \"banana\", \"cherry\"})\n",
        "k = True\n",
        "l = b\"Hello\"\n",
        "m = bytearray(5)\n",
        "n = memoryview(bytes(5))\n",
        "o = None"
      ],
      "metadata": {
        "id": "x83wfSN11Myy"
      },
      "execution_count": null,
      "outputs": []
    },
    {
      "cell_type": "markdown",
      "source": [
        "**Setting the Specific Data Type**\n",
        "\n",
        "we can specify the data type, using the following constructor functions:\n",
        "Some times we need to specify a type on to a variable. This can be done with casting.\n",
        "\n",
        "casting: converting a variable from one datatype to another datatype."
      ],
      "metadata": {
        "id": "b0CWwgQ710aO"
      }
    },
    {
      "cell_type": "code",
      "source": [
        "a = str(\"Hello World\")\n",
        "b = int('20')\n",
        "c = float(20.5)\n",
        "d = complex(1j)\n",
        "e = list((\"apple\", \"banana\", \"cherry\"))\n",
        "f = tuple([\"apple\", \"banana\", \"cherry\"])\n",
        "g = range(6)\n",
        "h = dict(name=\"John\", age=36)\n",
        "i = set((\"apple\", \"banana\", \"cherry\"))\n",
        "j = frozenset((\"apple\", \"banana\", \"cherry\"))\n",
        "k = bool(5)\n",
        "l = bytes(5)\n",
        "m = bytearray(5)\n",
        "n = memoryview(bytes(5))"
      ],
      "metadata": {
        "id": "4MuifxDp19_H"
      },
      "execution_count": null,
      "outputs": []
    },
    {
      "cell_type": "markdown",
      "source": [
        "**Numbers in Python**"
      ],
      "metadata": {
        "id": "Gk8XXYh32wHU"
      }
    },
    {
      "cell_type": "code",
      "source": [
        "x = 1    # int\n",
        "y = 2.8  # float\n",
        "z = 1j   # complex\n",
        "print(type(x))\n",
        "print(type(y))\n",
        "print(type(z))"
      ],
      "metadata": {
        "colab": {
          "base_uri": "https://localhost:8080/"
        },
        "id": "z574Fa_r21TC",
        "outputId": "f44847dd-894c-46ad-c2de-e5c73b4415f6"
      },
      "execution_count": null,
      "outputs": [
        {
          "output_type": "stream",
          "name": "stdout",
          "text": [
            "<class 'int'>\n",
            "<class 'float'>\n",
            "<class 'complex'>\n"
          ]
        }
      ]
    },
    {
      "cell_type": "code",
      "source": [
        "#int\n",
        "\n",
        "x = 1\n",
        "y = 35656222554887711\n",
        "z = -3255522\n",
        "\n",
        "print(type(x))\n",
        "print(type(y))\n",
        "print(type(z))"
      ],
      "metadata": {
        "colab": {
          "base_uri": "https://localhost:8080/"
        },
        "id": "l9sWRZin2_WN",
        "outputId": "ad4e2145-7a4f-4ce5-c951-17032fe97c9b"
      },
      "execution_count": null,
      "outputs": [
        {
          "output_type": "stream",
          "name": "stdout",
          "text": [
            "<class 'int'>\n",
            "<class 'int'>\n",
            "<class 'int'>\n"
          ]
        }
      ]
    },
    {
      "cell_type": "code",
      "source": [
        "#float\n",
        "x = 1.10\n",
        "y = 1.0\n",
        "z = -35.59\n",
        "\n",
        "print(type(x))\n",
        "print(type(y))\n",
        "print(type(z))"
      ],
      "metadata": {
        "colab": {
          "base_uri": "https://localhost:8080/"
        },
        "id": "7peeW2sx3Cjg",
        "outputId": "0e9d5c4d-8df6-4668-cd0b-898b9c262c15"
      },
      "execution_count": null,
      "outputs": [
        {
          "output_type": "stream",
          "name": "stdout",
          "text": [
            "<class 'float'>\n",
            "<class 'float'>\n",
            "<class 'float'>\n"
          ]
        }
      ]
    },
    {
      "cell_type": "code",
      "source": [
        "x = 35e3\n",
        "y = 12E4\n",
        "z = -87.7e100\n",
        "\n",
        "print(type(x))\n",
        "print(type(y))\n",
        "print(type(z))"
      ],
      "metadata": {
        "colab": {
          "base_uri": "https://localhost:8080/"
        },
        "id": "ut5HHDjL3K5Y",
        "outputId": "83fbbaca-8ddb-4e4e-8dde-d0c643638894"
      },
      "execution_count": null,
      "outputs": [
        {
          "output_type": "stream",
          "name": "stdout",
          "text": [
            "<class 'float'>\n",
            "<class 'float'>\n",
            "<class 'float'>\n"
          ]
        }
      ]
    },
    {
      "cell_type": "code",
      "source": [
        "z = 5 + 2j\n",
        "print(type(z))"
      ],
      "metadata": {
        "colab": {
          "base_uri": "https://localhost:8080/"
        },
        "id": "ErE3blFQrs6z",
        "outputId": "463ec96d-bbce-4c48-8145-5d31f2148573"
      },
      "execution_count": null,
      "outputs": [
        {
          "output_type": "stream",
          "name": "stdout",
          "text": [
            "<class 'complex'>\n"
          ]
        }
      ]
    },
    {
      "cell_type": "markdown",
      "source": [
        "# Arithmetic Operators:\n",
        "\n",
        "+ (Addition), - (Subtraction), * (Multiplication), / (Division), % (Modulus), ** (Exponent), // (Floor Division)"
      ],
      "metadata": {
        "id": "yQ3zYw6IY9qI"
      }
    },
    {
      "cell_type": "code",
      "source": [
        "# Examples of Arithmetic Operator\n",
        "a = 9\n",
        "b = 4\n",
        "\n",
        "# Addition of numbers\n",
        "add = a + b\n",
        "\n",
        "# Subtraction of numbers\n",
        "sub = a - b\n",
        "\n",
        "# Multiplication of number\n",
        "mul = a * b\n",
        "\n",
        "# Division(float) of number\n",
        "div1 = a / b\n",
        "\n",
        "# Division(floor) of number\n",
        "div2 = a // b\n",
        "#4\n",
        "#4.67\n",
        "#5\n",
        "# Modulo of both number\n",
        "mod = a % b\n",
        "\n",
        "# Power\n",
        "p = a ** b\n",
        "#9*9*9*9\n",
        "\n",
        "# print results\n",
        "print('addition', add)\n",
        "print('subtraction', sub)\n",
        "print('multiplication',mul)\n",
        "print('division',div1)\n",
        "print('floor division',div2)\n",
        "print('modulus',mod)\n",
        "print('power',p)\n"
      ],
      "metadata": {
        "colab": {
          "base_uri": "https://localhost:8080/"
        },
        "id": "zFTPFiBLZXJh",
        "outputId": "1b5dcefd-0b8c-47c4-f6e0-070dd0ec8146"
      },
      "execution_count": null,
      "outputs": [
        {
          "output_type": "stream",
          "name": "stdout",
          "text": [
            "addition 13\n",
            "subtraction 5\n",
            "multiplication 36\n",
            "division 2.25\n",
            "floor division 2\n",
            "modulus 1\n",
            "power 6561\n"
          ]
        }
      ]
    },
    {
      "cell_type": "markdown",
      "source": [
        "# Python Strings:\n",
        "\n",
        "Strings in python are surrounded by either single quotation marks, or double quotation marks.\n",
        "\n",
        "It is an immutable sequence data type, characters are wrapped inside single, double, or triple quotes.\n"
      ],
      "metadata": {
        "id": "lV79smt35l0R"
      }
    },
    {
      "cell_type": "code",
      "source": [
        "'It is a string in Python' # string in single quotes\n",
        "\"It is a string in Python\" # string in double quotes\n",
        "'''It is a string in Python''' # string in triple single-quotes\n",
        "\"\"\"It is a string in Python\"\"\" # string in triple double-quotes\n",
        "\n",
        "#postive indexing\n",
        "x = \"Hello, World! \"\n",
        "print(x[4])\n",
        "print(x[1:4])\n",
        "print(x[:5])\n",
        "print(x[1:])\n",
        "\n",
        "#negative indexing\n",
        "print(x[-5:-2])\n",
        "print(x[-2])\n",
        "\n",
        "#not supporting from lower to higher\n",
        "print(x[-2:-5])\n",
        "print(x[5:0])\n",
        "\n",
        "#type\n",
        "print(type(x))\n",
        "\n",
        "\n",
        "#some sting functions\n",
        "print(x.upper())\n",
        "print(x.lower())\n",
        "print(x.strip())\n",
        "#print(x.replace())\n",
        "#print(x.slice())\n",
        "print(x.split())\n",
        "\n",
        "#string concatenation\n",
        "x = \"Hello\"\n",
        "y = \"World\"\n",
        "z = x + y\n",
        "print(z)\n",
        "\n",
        "z = x + \" \" + y\n",
        "print(z)\n",
        "\n",
        "z = x * 3\n",
        "print(z)\n",
        "\n",
        "# #convert int to str\n",
        "# a = '100'\n",
        "# c = str(a)\n",
        "# print(c)\n",
        "# z = '100'\n",
        "#escape sequences\n",
        "#str1='Welcome to 'Python Tutorial''\n",
        "str1 = 'Welcome to \\'Python Tutorial\\''\n",
        "print(str1)\n",
        "str2=\"Welcome to \\\"Python Tutorial\\\"\"\n",
        "print(str2)\n"
      ],
      "metadata": {
        "colab": {
          "base_uri": "https://localhost:8080/"
        },
        "id": "o2sFfgHW6A23",
        "outputId": "017e5512-74b8-4aea-9b2a-42bb24353a54"
      },
      "execution_count": null,
      "outputs": [
        {
          "output_type": "stream",
          "name": "stdout",
          "text": [
            "o\n",
            "ell\n",
            "Hello\n",
            "ello, World! \n",
            "rld\n",
            "!\n",
            "\n",
            "\n",
            "<class 'str'>\n",
            "HELLO, WORLD! \n",
            "hello, world! \n",
            "Hello, World!\n",
            "['Hello,', 'World!']\n",
            "HelloWorld\n",
            "Hello World\n",
            "HelloHelloHello\n",
            "Welcome to 'Python Tutorial'\n",
            "Welcome to \"Python Tutorial\"\n"
          ]
        }
      ]
    },
    {
      "cell_type": "code",
      "source": [
        "y = 'hi hello'\n",
        "print(y[0])\n",
        "print(y[0:2])\n",
        "print(y[:2])\n",
        "print(y[3:])\n",
        "\n",
        "print(y[-1])\n",
        "print(y[-5:-1])\n",
        "print(y[-5:])\n",
        "print(y[-1:-5])\n",
        "\n",
        "\n",
        "# print(y)\n",
        "# print(y.strip())"
      ],
      "metadata": {
        "colab": {
          "base_uri": "https://localhost:8080/"
        },
        "id": "Vd0kJTQuB33u",
        "outputId": "d10b086b-d706-4044-cd84-96f27b19a3ce"
      },
      "execution_count": null,
      "outputs": [
        {
          "output_type": "stream",
          "name": "stdout",
          "text": [
            "h\n",
            "hi\n",
            "hi\n",
            "hello\n",
            "o\n",
            "hell\n",
            "hello\n",
            "\n"
          ]
        }
      ]
    },
    {
      "cell_type": "code",
      "source": [
        "x = \"Hello, World!\"\n",
        "print('o' in x)\n",
        "#print(y)\n",
        "y = 'a' in x\n",
        "print(y)\n",
        "z = 'o' not in x\n",
        "print(z)\n",
        "z = 'a' not in x\n",
        "print(z)"
      ],
      "metadata": {
        "colab": {
          "base_uri": "https://localhost:8080/"
        },
        "id": "NLA1sOD98wtO",
        "outputId": "d1c7a85d-6abb-49ed-bec8-b2262b288f3b"
      },
      "execution_count": null,
      "outputs": [
        {
          "output_type": "stream",
          "name": "stdout",
          "text": [
            "True\n",
            "False\n",
            "False\n",
            "True\n"
          ]
        }
      ]
    },
    {
      "cell_type": "code",
      "source": [
        "name = 'Ravi'\n",
        "txt = \"My name is \" + name\n",
        "print(txt)\n",
        "\n",
        "txt = \"My name is {}\"\n",
        "print(txt.format(name))\n",
        "\n",
        "txt = \"My name is {}, and I am {}\"\n",
        "print(txt.format('Ravi', '30'))\n",
        "\n",
        "txt = \"My name is {1}, and I am {0}\"\n",
        "print(txt.format('30', 'Ravi'))\n"
      ],
      "metadata": {
        "colab": {
          "base_uri": "https://localhost:8080/"
        },
        "id": "dNWUrc6z9dZ7",
        "outputId": "1fdbf456-bba4-4bfc-b01b-27c4578e1b90"
      },
      "execution_count": null,
      "outputs": [
        {
          "output_type": "stream",
          "name": "stdout",
          "text": [
            "My name is Ravi\n",
            "My name is Ravi\n",
            "My name is Ravi, and I am 30\n",
            "My name is Ravi, and I am 30\n"
          ]
        }
      ]
    },
    {
      "cell_type": "markdown",
      "source": [
        "# F-strings are faster than the two most commonly used string formatting mechanisms, which are % formatting and str.format()."
      ],
      "metadata": {
        "id": "s4argDcR-rJd"
      }
    },
    {
      "cell_type": "code",
      "source": [
        "name = 'Ravi'\n",
        "print(f\"My name is {name}\")\n",
        "\n",
        "age = 30\n",
        "print(f\"My name is {name} and I'm {age} years old.\")"
      ],
      "metadata": {
        "colab": {
          "base_uri": "https://localhost:8080/"
        },
        "id": "AIKJD31LAC2J",
        "outputId": "42355439-37b5-4bab-e12d-1ad585d38b6b"
      },
      "execution_count": null,
      "outputs": [
        {
          "output_type": "stream",
          "name": "stdout",
          "text": [
            "My name is Ravi\n",
            "My name is Ravi and I'm 30 years old.\n"
          ]
        }
      ]
    },
    {
      "cell_type": "markdown",
      "source": [
        "**Python Booleans**:\n",
        "\n",
        "Booleans represent one of two values either True or False."
      ],
      "metadata": {
        "id": "zeY3y7I_BbNI"
      }
    },
    {
      "cell_type": "code",
      "source": [
        "print(100 > 90)\n",
        "print(100 == 90)\n",
        "print(100 < 90)\n",
        "print(True == False)\n",
        "print(True != False)"
      ],
      "metadata": {
        "colab": {
          "base_uri": "https://localhost:8080/"
        },
        "id": "nW2GmZJkBahW",
        "outputId": "f483a39b-b3ea-420f-c317-2ca5cd493f8a"
      },
      "execution_count": null,
      "outputs": [
        {
          "output_type": "stream",
          "name": "stdout",
          "text": [
            "True\n",
            "False\n",
            "False\n",
            "False\n",
            "True\n"
          ]
        }
      ]
    },
    {
      "cell_type": "markdown",
      "source": [
        "**Python Logical Operators**"
      ],
      "metadata": {
        "id": "ceD6R-HpCOSh"
      }
    },
    {
      "cell_type": "code",
      "source": [
        "#and \tReturns True if both statements are true\n",
        "x = 7\n",
        "print(x > 0 and x < 10)\n",
        "salary = 9000\n",
        "if(salary > 5000 and salary < 10000):\n",
        "  print('B grade salary person')\n",
        "  print('B grade salary person')\n",
        "  print('B grade salary person')\n",
        "  print('B grade salary person')\n",
        "  print('B grade salary person')\n",
        "\n",
        "print(x > 0 & x < 10)\n",
        "\n",
        "if x > 0 and x < 10:\n",
        "  print('test')\n",
        "\n",
        "#or\tReturns True if one of the statements is true\n",
        "print(x > 0 or x < 5)\n",
        "\n",
        "if x > 0 or x < 10:\n",
        "  print('test')\n",
        "\n",
        "#not\tReverse the result, returns False if the result is true\n",
        "print(not(x > 0 and x < 10))"
      ],
      "metadata": {
        "colab": {
          "base_uri": "https://localhost:8080/"
        },
        "id": "zC9lgMs7CRBk",
        "outputId": "83e9dccd-8a41-4ab1-d723-b95708c5bd42"
      },
      "execution_count": null,
      "outputs": [
        {
          "output_type": "stream",
          "name": "stdout",
          "text": [
            "True\n",
            "B grade salary person\n",
            "B grade salary person\n",
            "B grade salary person\n",
            "B grade salary person\n",
            "B grade salary person\n",
            "True\n",
            "test\n",
            "True\n",
            "test\n",
            "False\n"
          ]
        }
      ]
    },
    {
      "cell_type": "markdown",
      "source": [
        "**range()**"
      ],
      "metadata": {
        "id": "K9et9CliwS7G"
      }
    },
    {
      "cell_type": "code",
      "source": [
        "for i in range(4):\n",
        "  print(i)"
      ],
      "metadata": {
        "colab": {
          "base_uri": "https://localhost:8080/"
        },
        "id": "AUn-FQY0wte3",
        "outputId": "c006d8cf-301a-4db0-886f-771f3f7c0a84"
      },
      "execution_count": null,
      "outputs": [
        {
          "output_type": "stream",
          "name": "stdout",
          "text": [
            "0\n",
            "1\n",
            "2\n",
            "3\n"
          ]
        }
      ]
    },
    {
      "cell_type": "code",
      "source": [
        "for i in range(3, 10):\n",
        "  print(i)"
      ],
      "metadata": {
        "colab": {
          "base_uri": "https://localhost:8080/"
        },
        "id": "Uu15y_8hGD-E",
        "outputId": "25a017ef-13a3-4916-c29b-3345ab8bac71"
      },
      "execution_count": null,
      "outputs": [
        {
          "output_type": "stream",
          "name": "stdout",
          "text": [
            "3\n",
            "4\n",
            "5\n",
            "6\n",
            "7\n",
            "8\n",
            "9\n"
          ]
        }
      ]
    },
    {
      "cell_type": "code",
      "source": [
        "for i in range(0, 11, 2):\n",
        "  print(i)\n",
        "\n",
        "#0, 1, 2, 3, ....10"
      ],
      "metadata": {
        "colab": {
          "base_uri": "https://localhost:8080/"
        },
        "id": "rTiA3PmuwWZl",
        "outputId": "41e59af1-977e-4471-b8b9-a694af603bfa"
      },
      "execution_count": null,
      "outputs": [
        {
          "output_type": "stream",
          "name": "stdout",
          "text": [
            "0\n",
            "2\n",
            "4\n",
            "6\n",
            "8\n",
            "10\n"
          ]
        }
      ]
    },
    {
      "cell_type": "code",
      "source": [
        "#0, 10\n",
        "# 1, 2, 3, 4, ..9\n",
        "#"
      ],
      "metadata": {
        "id": "nitG8SJ4xKPf"
      },
      "execution_count": null,
      "outputs": []
    },
    {
      "cell_type": "code",
      "source": [
        "for i in range(1, 10, 2):\n",
        "  print(i)\n",
        "  #1, 2, 3, 4, 5, 6, 7, 8, 9"
      ],
      "metadata": {
        "colab": {
          "base_uri": "https://localhost:8080/"
        },
        "id": "mKmGRKiNwxXJ",
        "outputId": "08edbca7-4873-445c-f1d5-56929629f606"
      },
      "execution_count": null,
      "outputs": [
        {
          "output_type": "stream",
          "name": "stdout",
          "text": [
            "1\n",
            "3\n",
            "5\n",
            "7\n",
            "9\n"
          ]
        }
      ]
    },
    {
      "cell_type": "code",
      "source": [
        "for i in range(0, 7):\n",
        "  print(i)"
      ],
      "metadata": {
        "colab": {
          "base_uri": "https://localhost:8080/"
        },
        "id": "xdWxhTAoYb-e",
        "outputId": "e2db3dfb-33a7-4b76-9138-e5561c52f6c9"
      },
      "execution_count": null,
      "outputs": [
        {
          "output_type": "stream",
          "name": "stdout",
          "text": [
            "0\n",
            "1\n",
            "2\n",
            "3\n",
            "4\n",
            "5\n",
            "6\n"
          ]
        }
      ]
    },
    {
      "cell_type": "code",
      "source": [
        "for i in range(7, 0):\n",
        "  print(i)"
      ],
      "metadata": {
        "id": "EOcy4povYXHO"
      },
      "execution_count": null,
      "outputs": []
    },
    {
      "cell_type": "code",
      "source": [
        "for i in range(7, 0, -1):\n",
        "  print(i)"
      ],
      "metadata": {
        "colab": {
          "base_uri": "https://localhost:8080/"
        },
        "id": "MbteL05YvXl3",
        "outputId": "aa919141-42b5-414f-d242-9fd780951d8b"
      },
      "execution_count": null,
      "outputs": [
        {
          "output_type": "stream",
          "name": "stdout",
          "text": [
            "7\n",
            "6\n",
            "5\n",
            "4\n",
            "3\n",
            "2\n",
            "1\n"
          ]
        }
      ]
    },
    {
      "cell_type": "code",
      "source": [
        "for j in range(7):\n",
        "  print(j)"
      ],
      "metadata": {
        "colab": {
          "base_uri": "https://localhost:8080/"
        },
        "id": "MUVn9D0iYBTw",
        "outputId": "1d923d3a-01ee-4bf3-89c9-2cdfb1ed9c67"
      },
      "execution_count": null,
      "outputs": [
        {
          "output_type": "stream",
          "name": "stdout",
          "text": [
            "0\n",
            "1\n",
            "2\n",
            "3\n",
            "4\n",
            "5\n",
            "6\n"
          ]
        }
      ]
    },
    {
      "cell_type": "code",
      "source": [
        "for i in range(7, 0, -1):\n",
        "  for j in range(i):\n",
        "    print('*', end='')"
      ],
      "metadata": {
        "colab": {
          "base_uri": "https://localhost:8080/"
        },
        "id": "sQLfkkzUYKeL",
        "outputId": "b4e8cebe-9517-477f-eb8c-496893779883"
      },
      "execution_count": null,
      "outputs": [
        {
          "output_type": "stream",
          "name": "stdout",
          "text": [
            "****************************"
          ]
        }
      ]
    },
    {
      "cell_type": "code",
      "source": [
        "for i in range(7, 0, -1):\n",
        "  for j in range(i):\n",
        "    print('*', end='')\n",
        "  print()"
      ],
      "metadata": {
        "colab": {
          "base_uri": "https://localhost:8080/"
        },
        "id": "8p8Y5jpdvcWc",
        "outputId": "a99a532c-a557-47eb-cdff-b953dc5cbe2d"
      },
      "execution_count": null,
      "outputs": [
        {
          "output_type": "stream",
          "name": "stdout",
          "text": [
            "*******\n",
            "******\n",
            "*****\n",
            "****\n",
            "***\n",
            "**\n",
            "*\n"
          ]
        }
      ]
    },
    {
      "cell_type": "code",
      "source": [
        "a = 'hello'\n",
        "print(a[-3:-1])"
      ],
      "metadata": {
        "colab": {
          "base_uri": "https://localhost:8080/"
        },
        "id": "BC_ulDsSSKe0",
        "outputId": "b5582e6d-276f-44b3-9db8-7101003a7447"
      },
      "execution_count": null,
      "outputs": [
        {
          "output_type": "stream",
          "name": "stdout",
          "text": [
            "ll\n"
          ]
        }
      ]
    }
  ]
}