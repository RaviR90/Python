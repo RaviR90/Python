{
  "nbformat": 4,
  "nbformat_minor": 0,
  "metadata": {
    "colab": {
      "provenance": []
    },
    "kernelspec": {
      "name": "python3",
      "display_name": "Python 3"
    },
    "language_info": {
      "name": "python"
    }
  },
  "cells": [
    {
      "cell_type": "markdown",
      "source": [
        "# **Python Methods:**\n",
        "\n",
        "\n",
        "1.   A function is a block of code which only runs when it is called.\n",
        "\n",
        "2.   You can pass data, known as parameters, into a function.\n",
        "\n",
        "3.   A function can return data as a result.\n",
        "\n",
        "\n",
        "4.   The Python program file with .py extension contains multiple statements.\n",
        "\n",
        "5.   __main__ is the name of the top-level scope in which top-level code executes.\n",
        "\n",
        "\n",
        "6.   A Python file can contain multiple functions and statements that can be executed independently.\n",
        "\n"
      ],
      "metadata": {
        "id": "SRr5ypblTcY9"
      }
    },
    {
      "cell_type": "markdown",
      "source": [
        "**Declaring a Function**\n",
        "\n",
        "In Python, we are using **def** keyword to create a function."
      ],
      "metadata": {
        "id": "gJ8DxPIoVGhY"
      }
    },
    {
      "cell_type": "code",
      "source": [
        "def function():\n",
        "  print(\"Hello world\")\n",
        "  print(\"Hello world\")\n",
        "  print(\"Hello world\")"
      ],
      "metadata": {
        "id": "A17Ptg-LTcuV"
      },
      "execution_count": null,
      "outputs": []
    },
    {
      "cell_type": "markdown",
      "source": [
        "**Empty function in Python**"
      ],
      "metadata": {
        "id": "KIWqCvjlxsCz"
      }
    },
    {
      "cell_type": "code",
      "source": [
        "def function():\n",
        "  pass"
      ],
      "metadata": {
        "id": "DCKpFMq8ARWZ"
      },
      "execution_count": null,
      "outputs": []
    },
    {
      "cell_type": "markdown",
      "source": [
        "**Calling a Function**"
      ],
      "metadata": {
        "id": "5c5tuGflVpgd"
      }
    },
    {
      "cell_type": "code",
      "source": [
        "def function():\n",
        "  print(\"Hello world\")"
      ],
      "metadata": {
        "id": "eL6PM6OqBaBc"
      },
      "execution_count": 1,
      "outputs": []
    },
    {
      "cell_type": "code",
      "source": [
        "print('abc')"
      ],
      "metadata": {
        "colab": {
          "base_uri": "https://localhost:8080/"
        },
        "id": "SV2BdtV5AflZ",
        "outputId": "f6da60e3-d00f-49e1-b5a5-7a82d52709a5"
      },
      "execution_count": null,
      "outputs": [
        {
          "output_type": "stream",
          "name": "stdout",
          "text": [
            "abc\n"
          ]
        }
      ]
    },
    {
      "cell_type": "code",
      "source": [
        "print(\"Hello world\")"
      ],
      "metadata": {
        "colab": {
          "base_uri": "https://localhost:8080/"
        },
        "id": "HMGS6zzJv2au",
        "outputId": "aa9cbd2a-8be1-4183-82ba-8ef6ee5990b8"
      },
      "execution_count": null,
      "outputs": [
        {
          "output_type": "stream",
          "name": "stdout",
          "text": [
            "Hello world\n"
          ]
        }
      ]
    },
    {
      "cell_type": "code",
      "source": [
        "def function():\n",
        "  print(\"Hello world\")\n",
        "  print(\"Hello world\")\n",
        "  print(\"Hello world\")\n",
        "  print(3*4)\n",
        "\n",
        "function()\n",
        "\n",
        "x, y = 1, 2\n",
        "#\n",
        "def func(a, b):\n",
        "  c = a + b\n",
        "  #print(c)\n",
        "\n",
        "func(x,y)"
      ],
      "metadata": {
        "colab": {
          "base_uri": "https://localhost:8080/"
        },
        "id": "p24eFl61VqqJ",
        "outputId": "e2194a65-1b3f-4969-fc1d-a5f95d819fbf"
      },
      "execution_count": null,
      "outputs": [
        {
          "output_type": "stream",
          "name": "stdout",
          "text": [
            "Hello world\n",
            "Hello world\n",
            "Hello world\n",
            "12\n"
          ]
        }
      ]
    },
    {
      "cell_type": "code",
      "source": [
        "x, y = 1, 2\n",
        "#\n",
        "def func(a, b):\n",
        "  c = a + b\n",
        "  print(c)\n",
        "\n",
        "func(x,y)"
      ],
      "metadata": {
        "colab": {
          "base_uri": "https://localhost:8080/"
        },
        "id": "nd4MGI2NNlfa",
        "outputId": "a63e0e62-c597-4a65-ae6f-49baa89ac4e3"
      },
      "execution_count": null,
      "outputs": [
        {
          "output_type": "stream",
          "name": "stdout",
          "text": [
            "3\n"
          ]
        }
      ]
    },
    {
      "cell_type": "code",
      "source": [
        "\n",
        "def func(a, b):\n",
        "  c = a + b\n",
        "  #print(c)\n",
        "\n",
        "func(1,2)"
      ],
      "metadata": {
        "id": "IL2883nZzOin"
      },
      "execution_count": null,
      "outputs": []
    },
    {
      "cell_type": "code",
      "source": [
        "def func(a, b):\n",
        "  c = a + b\n",
        "\n",
        "print(func(1,2))"
      ],
      "metadata": {
        "colab": {
          "base_uri": "https://localhost:8080/"
        },
        "id": "xc_xzi2my7nn",
        "outputId": "7b73e6ab-f8b4-4f7f-d3d5-41715260f65e"
      },
      "execution_count": null,
      "outputs": [
        {
          "output_type": "stream",
          "name": "stdout",
          "text": [
            "None\n"
          ]
        }
      ]
    },
    {
      "cell_type": "code",
      "source": [
        "def func(a, b):\n",
        "  c = a + b\n",
        "  return c\n",
        "\n",
        "print(func(1, 2))"
      ],
      "metadata": {
        "colab": {
          "base_uri": "https://localhost:8080/"
        },
        "id": "czs4AG8hPkTQ",
        "outputId": "c536dda4-61da-4d6b-ec87-450e60960fed"
      },
      "execution_count": null,
      "outputs": [
        {
          "output_type": "stream",
          "name": "stdout",
          "text": [
            "3\n"
          ]
        }
      ]
    },
    {
      "cell_type": "code",
      "source": [
        "def func(a, b):\n",
        "  c = a + b\n",
        "  return c, a, b\n",
        "\n",
        "print(func(1,2))"
      ],
      "metadata": {
        "colab": {
          "base_uri": "https://localhost:8080/"
        },
        "id": "1ssjoPwXziFc",
        "outputId": "35ea4448-4dae-44c3-8c5e-9b881b886d87"
      },
      "execution_count": null,
      "outputs": [
        {
          "output_type": "stream",
          "name": "stdout",
          "text": [
            "(3, 1, 2)\n"
          ]
        }
      ]
    },
    {
      "cell_type": "code",
      "source": [
        "def func(a, b):\n",
        "  c = a + b\n",
        "  return c\n",
        "\n",
        "print(func(1))"
      ],
      "metadata": {
        "id": "jJUzjbz4Asid",
        "colab": {
          "base_uri": "https://localhost:8080/",
          "height": 201
        },
        "outputId": "008ab3e3-cc6d-493a-8580-efa014b42ad5"
      },
      "execution_count": null,
      "outputs": [
        {
          "output_type": "error",
          "ename": "TypeError",
          "evalue": "ignored",
          "traceback": [
            "\u001b[0;31m---------------------------------------------------------------------------\u001b[0m",
            "\u001b[0;31mTypeError\u001b[0m                                 Traceback (most recent call last)",
            "\u001b[0;32m<ipython-input-13-a3d372107424>\u001b[0m in \u001b[0;36m<module>\u001b[0;34m\u001b[0m\n\u001b[1;32m      3\u001b[0m   \u001b[0;32mreturn\u001b[0m \u001b[0mc\u001b[0m\u001b[0;34m\u001b[0m\u001b[0;34m\u001b[0m\u001b[0m\n\u001b[1;32m      4\u001b[0m \u001b[0;34m\u001b[0m\u001b[0m\n\u001b[0;32m----> 5\u001b[0;31m \u001b[0mprint\u001b[0m\u001b[0;34m(\u001b[0m\u001b[0mfunc\u001b[0m\u001b[0;34m(\u001b[0m\u001b[0;36m1\u001b[0m\u001b[0;34m)\u001b[0m\u001b[0;34m)\u001b[0m\u001b[0;34m\u001b[0m\u001b[0;34m\u001b[0m\u001b[0m\n\u001b[0m",
            "\u001b[0;31mTypeError\u001b[0m: func() missing 1 required positional argument: 'b'"
          ]
        }
      ]
    },
    {
      "cell_type": "code",
      "source": [
        "def func(a, b):\n",
        "  c = a + b\n",
        "  return c\n",
        "\n",
        "abc = func(2, 5)\n",
        "print(abc)"
      ],
      "metadata": {
        "colab": {
          "base_uri": "https://localhost:8080/"
        },
        "id": "CzNVoEmr0X8d",
        "outputId": "58efeb73-93dd-4760-b6c8-4863f002f968"
      },
      "execution_count": null,
      "outputs": [
        {
          "output_type": "stream",
          "name": "stdout",
          "text": [
            "7\n"
          ]
        }
      ]
    },
    {
      "cell_type": "code",
      "source": [
        "a = 9\n",
        "\n",
        "print(a)"
      ],
      "metadata": {
        "colab": {
          "base_uri": "https://localhost:8080/"
        },
        "id": "n91oSTA2j1LA",
        "outputId": "a03fad1b-f587-408d-821e-98efa53b6a41"
      },
      "execution_count": null,
      "outputs": [
        {
          "output_type": "stream",
          "name": "stdout",
          "text": [
            "9\n"
          ]
        }
      ]
    },
    {
      "cell_type": "markdown",
      "source": [
        "all the functions return **None** if the return statement does not exist."
      ],
      "metadata": {
        "id": "YMYJdnxhV5YL"
      }
    },
    {
      "cell_type": "code",
      "source": [
        "#function with out return statement\n",
        "def function():\n",
        "  print(\"Hello world\")\n",
        "  print(\"Hello world\"); print(\"Hello world\")\n",
        "\n",
        "print(function())\n",
        "\n",
        "def func(a, b):\n",
        "  c = a + b\n",
        "\n",
        "print(func(1,2))\n",
        "\n",
        "#function with return statement\n",
        "def func1(a, b):\n",
        "  c = a + b\n",
        "  return c\n",
        "\n",
        "print(func1(1,2))"
      ],
      "metadata": {
        "colab": {
          "base_uri": "https://localhost:8080/"
        },
        "id": "N9Q8XjHWV6Jp",
        "outputId": "2d007f53-18d9-4fcd-fb36-bd24c763ce77"
      },
      "execution_count": null,
      "outputs": [
        {
          "output_type": "stream",
          "name": "stdout",
          "text": [
            "Hello world\n",
            "Hello world\n",
            "Hello world\n",
            "None\n",
            "None\n",
            "3\n"
          ]
        }
      ]
    },
    {
      "cell_type": "code",
      "source": [
        "#function without return statement\n",
        "def function():\n",
        "  print(\"Hello world\")\n",
        "  print(\"Hello world\"); print(\"Hello world\")\n",
        "\n",
        "print(function())"
      ],
      "metadata": {
        "colab": {
          "base_uri": "https://localhost:8080/"
        },
        "id": "gQQIB1CtE78v",
        "outputId": "658ef912-e489-4591-8901-913d269ec643"
      },
      "execution_count": null,
      "outputs": [
        {
          "output_type": "stream",
          "name": "stdout",
          "text": [
            "Hello world\n",
            "Hello world\n",
            "Hello world\n",
            "None\n"
          ]
        }
      ]
    },
    {
      "cell_type": "code",
      "source": [
        "def function():\n",
        "  \"\"\"This function displays 'Hello World!'\"\"\"\n",
        "  print(\"Hello world\")\n",
        "\n",
        "print(function())\n",
        "\n",
        "help(function)"
      ],
      "metadata": {
        "colab": {
          "base_uri": "https://localhost:8080/"
        },
        "id": "E0TVSzoPWEin",
        "outputId": "8bf9a349-2c74-42be-a939-47aebe82d092"
      },
      "execution_count": null,
      "outputs": [
        {
          "output_type": "stream",
          "name": "stdout",
          "text": [
            "Hello world\n",
            "None\n",
            "Help on function function in module __main__:\n",
            "\n",
            "function()\n",
            "    This function displays 'Hello World!'\n",
            "\n"
          ]
        }
      ]
    },
    {
      "cell_type": "markdown",
      "source": [
        "**Function With Parameters**"
      ],
      "metadata": {
        "id": "KUffJ-S5Wc2G"
      }
    },
    {
      "cell_type": "code",
      "source": [
        "##function with one input parameters\n",
        "def ex_function(name):\n",
        "  print(f\"Hi! Hello {name}\",)\n",
        "\n",
        "print(ex_function('Ravi'))"
      ],
      "metadata": {
        "colab": {
          "base_uri": "https://localhost:8080/"
        },
        "id": "-0nlBZg0WfHK",
        "outputId": "a9559a9c-be13-4d8b-c61b-94b54ab30dfe"
      },
      "execution_count": null,
      "outputs": [
        {
          "output_type": "stream",
          "name": "stdout",
          "text": [
            "Hi! Hello Ravi\n",
            "None\n"
          ]
        }
      ]
    },
    {
      "cell_type": "code",
      "source": [
        "#function with many input parameters\n",
        "def ex_function(name1, name2):\n",
        "  print(f\"Hi! Hello {name1}, This is {name2}\",)\n",
        "\n",
        "a, b = 'Raja', 'Ravi'\n",
        "print(ex_function(a, b))"
      ],
      "metadata": {
        "colab": {
          "base_uri": "https://localhost:8080/"
        },
        "id": "V5qKQCQAW9sd",
        "outputId": "12f1229f-9fa6-4507-e335-420a88491e92"
      },
      "execution_count": null,
      "outputs": [
        {
          "output_type": "stream",
          "name": "stdout",
          "text": [
            "Hi! Hello Raja, This is Ravi\n",
            "None\n"
          ]
        }
      ]
    },
    {
      "cell_type": "code",
      "source": [
        "#function with many input parameters\n",
        "def ex_function(name1, name2):\n",
        "  print(f\"Hi! Hello {name1}, This is {name2}\",)\n",
        "\n",
        "a, b = 'Raja', 'Ravi'\n",
        "print(ex_function(a, b))"
      ],
      "metadata": {
        "colab": {
          "base_uri": "https://localhost:8080/"
        },
        "id": "fgYp3NJih_gK",
        "outputId": "7aad1884-5a59-4ae3-f0e5-5136ce22717f"
      },
      "execution_count": null,
      "outputs": [
        {
          "output_type": "stream",
          "name": "stdout",
          "text": [
            "Hi! Hello Raja, This is Ravi\n",
            "None\n"
          ]
        }
      ]
    },
    {
      "cell_type": "code",
      "source": [
        "#function with many input parameters\n",
        "def ex_function(name1, name2):\n",
        "  print(f\"Hi! Hello {name1}, This is {name2}\",)\n",
        "\n",
        "a, b = 'Raja', 'Ravi'\n",
        "print(ex_function(a))"
      ],
      "metadata": {
        "colab": {
          "base_uri": "https://localhost:8080/",
          "height": 201
        },
        "id": "G83B4QV963Mi",
        "outputId": "7863787c-2d18-428b-c0dc-79b41255f6c7"
      },
      "execution_count": null,
      "outputs": [
        {
          "output_type": "error",
          "ename": "TypeError",
          "evalue": "ignored",
          "traceback": [
            "\u001b[0;31m---------------------------------------------------------------------------\u001b[0m",
            "\u001b[0;31mTypeError\u001b[0m                                 Traceback (most recent call last)",
            "\u001b[0;32m<ipython-input-13-e0306282a00f>\u001b[0m in \u001b[0;36m<module>\u001b[0;34m\u001b[0m\n\u001b[1;32m      4\u001b[0m \u001b[0;34m\u001b[0m\u001b[0m\n\u001b[1;32m      5\u001b[0m \u001b[0ma\u001b[0m\u001b[0;34m,\u001b[0m \u001b[0mb\u001b[0m \u001b[0;34m=\u001b[0m \u001b[0;34m'Raja'\u001b[0m\u001b[0;34m,\u001b[0m \u001b[0;34m'Ravi'\u001b[0m\u001b[0;34m\u001b[0m\u001b[0;34m\u001b[0m\u001b[0m\n\u001b[0;32m----> 6\u001b[0;31m \u001b[0mprint\u001b[0m\u001b[0;34m(\u001b[0m\u001b[0mex_function\u001b[0m\u001b[0;34m(\u001b[0m\u001b[0ma\u001b[0m\u001b[0;34m)\u001b[0m\u001b[0;34m)\u001b[0m\u001b[0;34m\u001b[0m\u001b[0;34m\u001b[0m\u001b[0m\n\u001b[0m",
            "\u001b[0;31mTypeError\u001b[0m: ex_function() missing 1 required positional argument: 'name2'"
          ]
        }
      ]
    },
    {
      "cell_type": "code",
      "source": [
        "#Unknown Number of Arguments\n",
        "def ex_function(*names):\n",
        "  print(f\"Hi! Hello {names[0]}, This is {names[1]}\",)\n",
        "\n",
        "a, b = 'Raja', 'Ravi'\n",
        "print(ex_function(a, b))"
      ],
      "metadata": {
        "colab": {
          "base_uri": "https://localhost:8080/"
        },
        "id": "hhd0EkqWX6KO",
        "outputId": "e0a5b118-50bf-4854-eaa3-d38a13c8cedf"
      },
      "execution_count": null,
      "outputs": [
        {
          "output_type": "stream",
          "name": "stdout",
          "text": [
            "Hi! Hello Raja, This is Ravi\n",
            "None\n"
          ]
        }
      ]
    },
    {
      "cell_type": "code",
      "source": [
        "def ex_func(*names):\n",
        "\ti=0\n",
        "\tprint('Hello ', end='')\n",
        "\twhile len(names) > i:\n",
        "\t\tprint(names[i], end=', ')\n",
        "\t\ti+=1\n",
        "\n",
        "ex_func('Raja', 'Ram', 'Mani')\n",
        "ex_func('Raja', 'Ram', 'Arun', 'Eluri', 'Kiran', 'Amir')"
      ],
      "metadata": {
        "colab": {
          "base_uri": "https://localhost:8080/"
        },
        "id": "Zpjr53m97E0S",
        "outputId": "5e0cfc85-7702-44e7-b116-9707632ed0c1"
      },
      "execution_count": null,
      "outputs": [
        {
          "output_type": "stream",
          "name": "stdout",
          "text": [
            "Hello Raja, Ram, Mani, Hello Raja, Ram, Arun, Eluri, Kiran, Amir, "
          ]
        }
      ]
    },
    {
      "cell_type": "code",
      "source": [
        "#Keyword Argument **kwarg\n",
        "\n",
        "def ex_func(**names):\n",
        "\tprint('Hello ', names['firstname'],  names['lastname'])\n",
        "\n",
        "ex_func(firstname='Raja', lastname='Ram')\n",
        "ex_func(lastname='Arun', firstname='Mani')\n",
        "ex_func(firstname='Ram', lastname='Kumar', age=25)\n",
        "ex_func(firstname='Eluri') # raises KeyError"
      ],
      "metadata": {
        "colab": {
          "base_uri": "https://localhost:8080/",
          "height": 374
        },
        "id": "0-aaeDy7_FK0",
        "outputId": "d5023063-a947-46cc-bd66-79569ffbccab"
      },
      "execution_count": null,
      "outputs": [
        {
          "output_type": "stream",
          "name": "stdout",
          "text": [
            "Hello  Raja Ram\n",
            "Hello  Mani Arun\n",
            "Hello  Ram Kumar\n"
          ]
        },
        {
          "output_type": "error",
          "ename": "KeyError",
          "evalue": "ignored",
          "traceback": [
            "\u001b[0;31m---------------------------------------------------------------------------\u001b[0m",
            "\u001b[0;31mKeyError\u001b[0m                                  Traceback (most recent call last)",
            "\u001b[0;32m<ipython-input-16-1d51f06cbe9d>\u001b[0m in \u001b[0;36m<module>\u001b[0;34m\u001b[0m\n\u001b[1;32m      7\u001b[0m \u001b[0mex_func\u001b[0m\u001b[0;34m(\u001b[0m\u001b[0mlastname\u001b[0m\u001b[0;34m=\u001b[0m\u001b[0;34m'Arun'\u001b[0m\u001b[0;34m,\u001b[0m \u001b[0mfirstname\u001b[0m\u001b[0;34m=\u001b[0m\u001b[0;34m'Mani'\u001b[0m\u001b[0;34m)\u001b[0m\u001b[0;34m\u001b[0m\u001b[0;34m\u001b[0m\u001b[0m\n\u001b[1;32m      8\u001b[0m \u001b[0mex_func\u001b[0m\u001b[0;34m(\u001b[0m\u001b[0mfirstname\u001b[0m\u001b[0;34m=\u001b[0m\u001b[0;34m'Ram'\u001b[0m\u001b[0;34m,\u001b[0m \u001b[0mlastname\u001b[0m\u001b[0;34m=\u001b[0m\u001b[0;34m'Kumar'\u001b[0m\u001b[0;34m,\u001b[0m \u001b[0mage\u001b[0m\u001b[0;34m=\u001b[0m\u001b[0;36m25\u001b[0m\u001b[0;34m)\u001b[0m\u001b[0;34m\u001b[0m\u001b[0;34m\u001b[0m\u001b[0m\n\u001b[0;32m----> 9\u001b[0;31m \u001b[0mex_func\u001b[0m\u001b[0;34m(\u001b[0m\u001b[0mfirstname\u001b[0m\u001b[0;34m=\u001b[0m\u001b[0;34m'Eluri'\u001b[0m\u001b[0;34m)\u001b[0m \u001b[0;31m# raises KeyError\u001b[0m\u001b[0;34m\u001b[0m\u001b[0;34m\u001b[0m\u001b[0m\n\u001b[0m",
            "\u001b[0;32m<ipython-input-16-1d51f06cbe9d>\u001b[0m in \u001b[0;36mex_func\u001b[0;34m(**names)\u001b[0m\n\u001b[1;32m      2\u001b[0m \u001b[0;34m\u001b[0m\u001b[0m\n\u001b[1;32m      3\u001b[0m \u001b[0;32mdef\u001b[0m \u001b[0mex_func\u001b[0m\u001b[0;34m(\u001b[0m\u001b[0;34m**\u001b[0m\u001b[0mnames\u001b[0m\u001b[0;34m)\u001b[0m\u001b[0;34m:\u001b[0m\u001b[0;34m\u001b[0m\u001b[0;34m\u001b[0m\u001b[0m\n\u001b[0;32m----> 4\u001b[0;31m         \u001b[0mprint\u001b[0m\u001b[0;34m(\u001b[0m\u001b[0;34m'Hello '\u001b[0m\u001b[0;34m,\u001b[0m \u001b[0mnames\u001b[0m\u001b[0;34m[\u001b[0m\u001b[0;34m'firstname'\u001b[0m\u001b[0;34m]\u001b[0m\u001b[0;34m,\u001b[0m  \u001b[0mnames\u001b[0m\u001b[0;34m[\u001b[0m\u001b[0;34m'lastname'\u001b[0m\u001b[0;34m]\u001b[0m\u001b[0;34m)\u001b[0m\u001b[0;34m\u001b[0m\u001b[0;34m\u001b[0m\u001b[0m\n\u001b[0m\u001b[1;32m      5\u001b[0m \u001b[0;34m\u001b[0m\u001b[0m\n\u001b[1;32m      6\u001b[0m \u001b[0mex_func\u001b[0m\u001b[0;34m(\u001b[0m\u001b[0mfirstname\u001b[0m\u001b[0;34m=\u001b[0m\u001b[0;34m'Raja'\u001b[0m\u001b[0;34m,\u001b[0m \u001b[0mlastname\u001b[0m\u001b[0;34m=\u001b[0m\u001b[0;34m'Ram'\u001b[0m\u001b[0;34m)\u001b[0m\u001b[0;34m\u001b[0m\u001b[0;34m\u001b[0m\u001b[0m\n",
            "\u001b[0;31mKeyError\u001b[0m: 'lastname'"
          ]
        }
      ]
    },
    {
      "cell_type": "code",
      "source": [
        "#Default Parameter with value\n",
        "\n",
        "def my_function(name = \"Ram\"):\n",
        "  print(\"I am \" + name)\n",
        "\n",
        "my_function(\"Arun\")\n",
        "my_function(\"Eluri\")\n",
        "my_function()\n",
        "my_function(\"Kumar\")"
      ],
      "metadata": {
        "colab": {
          "base_uri": "https://localhost:8080/"
        },
        "id": "iLm7oGl6A7T5",
        "outputId": "c673c53e-e49a-4d5a-8edf-a8fd3f38fc8e"
      },
      "execution_count": null,
      "outputs": [
        {
          "output_type": "stream",
          "name": "stdout",
          "text": [
            "I am Arun\n",
            "I am Eluri\n",
            "I am Ram\n",
            "I am Kumar\n"
          ]
        }
      ]
    },
    {
      "cell_type": "code",
      "source": [
        "#Passing a List as an Argument\n",
        "def my_function(names):\n",
        "  for x in names:\n",
        "    print(x)\n",
        "\n",
        "names = [\"Ram\", \"Eluri\", \"Kumar\", 'Thella']\n",
        "\n",
        "my_function(names)"
      ],
      "metadata": {
        "colab": {
          "base_uri": "https://localhost:8080/"
        },
        "id": "xUjCM1nvChOU",
        "outputId": "f3f2bfce-a4da-4dd8-f34b-028bb3ce3e9c"
      },
      "execution_count": null,
      "outputs": [
        {
          "output_type": "stream",
          "name": "stdout",
          "text": [
            "Ram\n",
            "Eluri\n",
            "Kumar\n",
            "Thella\n"
          ]
        }
      ]
    },
    {
      "cell_type": "markdown",
      "source": [
        "**Function with Return Value**\n",
        "\n",
        "Most of the time, we need the result of the function to be used in further processes. Hence, when a function returns, it should also return a value."
      ],
      "metadata": {
        "id": "dO37lbdFCys6"
      }
    },
    {
      "cell_type": "code",
      "source": [
        "#without return statement\n",
        "def add_func(a,b,c):\n",
        "  d = a + b + c\n",
        "\n",
        "print(add_func(5, 4, 5))\n",
        "\n",
        "\n",
        "def add_func(a,b,c):\n",
        "  d = a + b + c\n",
        "  return d\n",
        "\n",
        "print(add_func(5, 4, 5))\n",
        "\n",
        "\n",
        "def add_func1(a,b,c):\n",
        "  d = a + b + c\n",
        "  e = b\n",
        "  return d, e\n",
        "\n",
        "print(add_func(5, 4, 5))\n",
        "print(add_func1(5, 4, 5))\n",
        "\n"
      ],
      "metadata": {
        "colab": {
          "base_uri": "https://localhost:8080/"
        },
        "id": "Ka1oCXwpC0Bl",
        "outputId": "6e6c6d99-b914-4524-f510-82e13176c6a9"
      },
      "execution_count": null,
      "outputs": [
        {
          "output_type": "stream",
          "name": "stdout",
          "text": [
            "None\n",
            "14\n",
            "14\n",
            "(14, 4)\n"
          ]
        }
      ]
    },
    {
      "cell_type": "markdown",
      "source": [
        "**pass Statement**\n",
        "\n",
        "method definitions cannot be empty, but if you for some reason have a function definition with no content, put in the pass statement to avoid getting an error."
      ],
      "metadata": {
        "id": "XxyFW38tDZlm"
      }
    },
    {
      "cell_type": "code",
      "source": [
        "def myfunc():\n",
        "  pass\n",
        "\n",
        "print(myfunc)"
      ],
      "metadata": {
        "colab": {
          "base_uri": "https://localhost:8080/"
        },
        "id": "5EFWmbnRD26U",
        "outputId": "e79dd2de-4a16-4183-acde-db15db3785a1"
      },
      "execution_count": null,
      "outputs": [
        {
          "output_type": "stream",
          "name": "stdout",
          "text": [
            "<function myfunc at 0x7ff471c1e430>\n"
          ]
        }
      ]
    },
    {
      "cell_type": "markdown",
      "source": [
        "**Lambda Functions or Anonymous Functions in Python**\n",
        "\n",
        "The lambda keyword is used to define anonymous functions in Python. Usually, this function is meant for one-time use.\n",
        "\n",
        "The lambda function can have only one expression.\n"
      ],
      "metadata": {
        "id": "P7dvzVrGEcqY"
      }
    },
    {
      "cell_type": "code",
      "source": [
        "square = lambda x : x * x\n",
        "print(square(10))\n",
        "\n",
        "#Normal function\n",
        "def square(x):\n",
        "  a = x * x\n",
        "  return a\n",
        "  #return x * x"
      ],
      "metadata": {
        "colab": {
          "base_uri": "https://localhost:8080/"
        },
        "id": "HK-qouZoEe99",
        "outputId": "61289faa-6f37-4c7f-d691-e40452c6a8ae"
      },
      "execution_count": null,
      "outputs": [
        {
          "output_type": "stream",
          "name": "stdout",
          "text": [
            "100\n"
          ]
        }
      ]
    },
    {
      "cell_type": "code",
      "source": [
        "def square(x):\n",
        "  a = x * x\n",
        "  return a\n",
        "\n",
        "print(square(5))"
      ],
      "metadata": {
        "colab": {
          "base_uri": "https://localhost:8080/"
        },
        "id": "s9XMwINj9Y6F",
        "outputId": "b348ba77-679c-4664-b917-093e3ff2a923"
      },
      "execution_count": null,
      "outputs": [
        {
          "output_type": "stream",
          "name": "stdout",
          "text": [
            "25\n"
          ]
        }
      ]
    },
    {
      "cell_type": "code",
      "source": [
        "my_function = lambda name : \"I am \" + name\n",
        "print(my_function('Ram'))"
      ],
      "metadata": {
        "colab": {
          "base_uri": "https://localhost:8080/"
        },
        "id": "fWWfq2tQFU9J",
        "outputId": "4acff37f-980a-442d-af51-fd44c9e93f2e"
      },
      "execution_count": null,
      "outputs": [
        {
          "output_type": "stream",
          "name": "stdout",
          "text": [
            "I am Ram\n"
          ]
        }
      ]
    },
    {
      "cell_type": "code",
      "source": [
        "b = lambda a : a + 5\n",
        "print(b(5))\n",
        "\n",
        "c = lambda a, b : a * b\n",
        "print(c(5, 5))"
      ],
      "metadata": {
        "colab": {
          "base_uri": "https://localhost:8080/"
        },
        "id": "iYDff6FGGEPL",
        "outputId": "589845b9-e17c-4318-ef97-399e1238a8dc"
      },
      "execution_count": null,
      "outputs": [
        {
          "output_type": "stream",
          "name": "stdout",
          "text": [
            "10\n",
            "25\n"
          ]
        }
      ]
    },
    {
      "cell_type": "markdown",
      "source": [
        "# Python OOPs Concepts\n",
        "\n",
        "**Class:**\n",
        "\n",
        " It is a collection of objects.\n",
        "\n",
        "\n",
        "**Obj:**\n",
        "\n",
        "Instance of a class is called object.\n",
        "\n",
        "**Encapsulation:**\n",
        "\n",
        "Encapsulation is a process of binding the data members and member functions into a single unit.\n",
        "\n",
        "**Abstraction:**\n",
        "\n",
        "Abstraction is a process of hiding the implementation details and displaying the essential features.\n",
        "\n",
        "\n",
        "**Inheritance:**\n",
        "\n",
        "Inheritance is a process of deriving the new class from already existing class.\n",
        "\n",
        "Inheritance is one of the primary concepts of object-oriented programming. It allows us to reuse existing code.\n",
        "\n",
        "**Polymorphism:**\n",
        "\n",
        "When a message can be processed in different ways is called polymorphism. Polymorphism means many forms."
      ],
      "metadata": {
        "id": "NiGXDeoYHwSJ"
      }
    },
    {
      "cell_type": "markdown",
      "source": [
        "# Python Class\n",
        "\n",
        "Python is a completely object-oriented language.\n",
        "\n",
        "Every element in a Python program is an object of a class.\n",
        "\n"
      ],
      "metadata": {
        "id": "nRa5lInTG0Pa"
      }
    },
    {
      "cell_type": "markdown",
      "source": [
        "**Defining a Class**\n",
        "\n",
        "we can defining a class using **class** keyword."
      ],
      "metadata": {
        "id": "W1HYG6YeHHT8"
      }
    },
    {
      "cell_type": "markdown",
      "source": [
        "#Syntax: Class Definition\n",
        "class ClassName:\n",
        "    # Statement"
      ],
      "metadata": {
        "id": "gA0vUHOEHzmP"
      }
    },
    {
      "cell_type": "code",
      "source": [
        "lst = [1,2,'a']\n",
        "num = 10\n",
        "print(type(num))\n",
        "print(type(lst))"
      ],
      "metadata": {
        "colab": {
          "base_uri": "https://localhost:8080/"
        },
        "id": "7hcpv-pQGw0U",
        "outputId": "2fb2615f-7669-4c8f-d82d-f61df76c6792"
      },
      "execution_count": null,
      "outputs": [
        {
          "output_type": "stream",
          "name": "stdout",
          "text": [
            "<class 'int'>\n",
            "<class 'list'>\n"
          ]
        }
      ]
    },
    {
      "cell_type": "markdown",
      "source": [
        "#Syntax: Object Definition\n",
        "\n",
        "obj = ClassName()\n",
        "\n",
        "print(obj.atrr)"
      ],
      "metadata": {
        "id": "fT1By1aFHwqh"
      }
    },
    {
      "cell_type": "markdown",
      "source": [
        "Classes are created by keyword class.\n",
        "\n",
        "Attributes are the variables that belong to a class.\n",
        "\n",
        "Attributes are always public and can be accessed using the dot (.) operator. Eg.: Myclass.Myattribute\n"
      ],
      "metadata": {
        "id": "HZ6wcKkpIFPx"
      }
    },
    {
      "cell_type": "markdown",
      "source": [
        "**Empty Class in Python**"
      ],
      "metadata": {
        "id": "Ig8hjUZazSww"
      }
    },
    {
      "cell_type": "code",
      "source": [
        "class MyClass:\n",
        "    pass"
      ],
      "metadata": {
        "id": "0yn3AMlAHqha"
      },
      "execution_count": null,
      "outputs": []
    },
    {
      "cell_type": "markdown",
      "source": [
        "**pass Statement**\n",
        "\n",
        "class definitions cannot be empty, but if you for some reason have a class definition with no content, put in the pass statement to avoid getting an error."
      ],
      "metadata": {
        "id": "sbo0HEs--4ej"
      }
    },
    {
      "cell_type": "markdown",
      "source": [
        "**Class Attributes**\n",
        "\n",
        "Class attributes are the variables defined directly in the class that are shared by all objects of the class. Class attributes can be accessed using the class name as well as using the objects."
      ],
      "metadata": {
        "id": "Hh_bkdVdML6i"
      }
    },
    {
      "cell_type": "code",
      "source": [
        "class MyClass:\n",
        "    name = 'Eluri'\n",
        "\n",
        "print(MyClass.name)\n",
        "\n",
        "ClsObj = MyClass()\n",
        "print(ClsObj.name)"
      ],
      "metadata": {
        "colab": {
          "base_uri": "https://localhost:8080/"
        },
        "id": "kkryn1hqMWdB",
        "outputId": "c6805607-4433-4302-95ae-50f76f70d35e"
      },
      "execution_count": null,
      "outputs": [
        {
          "output_type": "stream",
          "name": "stdout",
          "text": [
            "Eluri\n",
            "Eluri\n"
          ]
        }
      ]
    },
    {
      "cell_type": "markdown",
      "source": [
        "**The __init__() Function**\n",
        "\n",
        "All classes have a function called __init__(), which is always executed when the class is being initiated."
      ],
      "metadata": {
        "id": "m7Yb6iMC8IWF"
      }
    },
    {
      "cell_type": "code",
      "source": [
        "class MyClass:\n",
        "    count = 0\n",
        "    def __init__(self):\n",
        "        MyClass.count += 1\n",
        "\n",
        "MyCls1 = MyClass()\n",
        "print(MyCls1.count)\n",
        "\n",
        "MyCls2 = MyClass()\n",
        "print(MyCls2.count)\n",
        "\n",
        "MyCls3 = MyClass()\n",
        "print(MyCls3.count)"
      ],
      "metadata": {
        "colab": {
          "base_uri": "https://localhost:8080/"
        },
        "id": "8CgI_ugH7isD",
        "outputId": "46f629ca-4245-4e9a-fd7d-9ae84fc1f726"
      },
      "execution_count": null,
      "outputs": [
        {
          "output_type": "stream",
          "name": "stdout",
          "text": [
            "1\n",
            "2\n",
            "3\n"
          ]
        }
      ]
    },
    {
      "cell_type": "code",
      "source": [
        "class MyClass:\n",
        "    count = 0\n",
        "    MyClass.count += 1\n",
        "\n",
        "MyCls1 = MyClass()\n",
        "print(MyCls1.count)\n",
        "\n",
        "MyCls2 = MyClass()\n",
        "print(MyCls2.count)\n",
        "\n",
        "MyCls3 = MyClass()\n",
        "print(MyCls3.count)"
      ],
      "metadata": {
        "colab": {
          "base_uri": "https://localhost:8080/"
        },
        "id": "HFspmd_Z8PJ6",
        "outputId": "3592ec7b-6ffa-4e68-adfb-1342b9d89aa5"
      },
      "execution_count": null,
      "outputs": [
        {
          "output_type": "stream",
          "name": "stdout",
          "text": [
            "0\n",
            "0\n",
            "0\n"
          ]
        }
      ]
    },
    {
      "cell_type": "markdown",
      "source": [
        "**Object Methods**\n",
        "\n",
        "Objects can also contain methods.\n",
        "\n",
        "#Constructor\n",
        "\n",
        "In Python, the constructor method is invoked automatically whenever a new object of a class is instantiated, same as constructors in C# or Java. The constructor must have a special name __init__() and a special parameter called **self**."
      ],
      "metadata": {
        "id": "-C-FKB3k89n8"
      }
    },
    {
      "cell_type": "markdown",
      "source": [
        "**Creating a class and object with class and instance attributes**"
      ],
      "metadata": {
        "id": "9y_mtqXkAq0d"
      }
    },
    {
      "cell_type": "code",
      "source": [
        "class MyClass:\n",
        "  def __init__(self, name, age):\n",
        "    self.name = name\n",
        "    self.age = age\n",
        "\n",
        "  def myfunc(self):\n",
        "    print(\"Hello my name is \" + self.name)\n",
        "\n",
        "  def myfunc1(self):\n",
        "    print(\"Hello my age is \" + str(self.age))\n",
        "\n",
        "p1 = MyClass(\"Eluri\",25)\n",
        "p1.myfunc()\n",
        "p1.myfunc1()\n",
        "\n",
        "p2 = MyClass('Eluri', 30)\n",
        "p2.myfunc1()"
      ],
      "metadata": {
        "colab": {
          "base_uri": "https://localhost:8080/"
        },
        "id": "iahjewyZ87jy",
        "outputId": "911b9676-3449-453d-f697-4644aa0ee4e9"
      },
      "execution_count": 2,
      "outputs": [
        {
          "output_type": "stream",
          "name": "stdout",
          "text": [
            "Hello my name is Eluri\n",
            "Hello my age is 25\n",
            "Hello my age is 30\n"
          ]
        }
      ]
    },
    {
      "cell_type": "code",
      "source": [
        "class MyClass:\n",
        "  def __init__(self, name, age):\n",
        "    self.name = name\n",
        "    self.age = age\n",
        "\n",
        "  def myfunc(self):\n",
        "    print(\"Hello my name is \" + self.name)\n",
        "\n",
        "  def myfunc1(self):\n",
        "    print(\"Hello my age is \" + str(self.age))\n",
        "\n",
        "p1 = MyClass(\"Eluri\",25)\n",
        "p1.myfunc()\n",
        "\n",
        "p2 = MyClass('Eluri', 25)\n",
        "p2.age = 30\n",
        "p2.myfunc1()\n",
        "p2.myfunc()"
      ],
      "metadata": {
        "colab": {
          "base_uri": "https://localhost:8080/"
        },
        "id": "4wX37Cgs96E0",
        "outputId": "dc5da330-4681-40f3-f2a4-af2e2083dc36"
      },
      "execution_count": null,
      "outputs": [
        {
          "output_type": "stream",
          "name": "stdout",
          "text": [
            "Hello my name is Eluri\n",
            "Hello my age is 30\n",
            "Hello my name is Eluri\n"
          ]
        }
      ]
    },
    {
      "cell_type": "code",
      "source": [
        "class MyClass:\n",
        "  def __init__(self, name, age):\n",
        "    self.name = name\n",
        "    self.age = age\n",
        "\n",
        "  def myfunc(self):\n",
        "    print(\"Hello my name is \" + self.name)\n",
        "\n",
        "  def myfunc1(self):\n",
        "    print(\"Hello my age is \" + str(self.age))\n",
        "\n",
        "p1 = MyClass(\"Eluri\",25)\n",
        "p1.myfunc()\n",
        "\n",
        "p2 = MyClass('Eluri', 25)\n",
        "del p2.age\n",
        "p2.myfunc1()\n",
        "p2.myfunc()"
      ],
      "metadata": {
        "colab": {
          "base_uri": "https://localhost:8080/",
          "height": 357
        },
        "id": "bq4MFC3s-TZE",
        "outputId": "522f3db0-3ead-413c-b247-3ade4848edf2"
      },
      "execution_count": null,
      "outputs": [
        {
          "output_type": "stream",
          "name": "stdout",
          "text": [
            "Hello my name is Eluri\n"
          ]
        },
        {
          "output_type": "error",
          "ename": "AttributeError",
          "evalue": "ignored",
          "traceback": [
            "\u001b[0;31m---------------------------------------------------------------------------\u001b[0m",
            "\u001b[0;31mAttributeError\u001b[0m                            Traceback (most recent call last)",
            "\u001b[0;32m<ipython-input-22-17f0bfbbdd7e>\u001b[0m in \u001b[0;36m<module>\u001b[0;34m\u001b[0m\n\u001b[1;32m     15\u001b[0m \u001b[0mp2\u001b[0m \u001b[0;34m=\u001b[0m \u001b[0mMyClass\u001b[0m\u001b[0;34m(\u001b[0m\u001b[0;34m'Eluri'\u001b[0m\u001b[0;34m,\u001b[0m \u001b[0;36m25\u001b[0m\u001b[0;34m)\u001b[0m\u001b[0;34m\u001b[0m\u001b[0;34m\u001b[0m\u001b[0m\n\u001b[1;32m     16\u001b[0m \u001b[0;32mdel\u001b[0m \u001b[0mp2\u001b[0m\u001b[0;34m.\u001b[0m\u001b[0mage\u001b[0m\u001b[0;34m\u001b[0m\u001b[0;34m\u001b[0m\u001b[0m\n\u001b[0;32m---> 17\u001b[0;31m \u001b[0mp2\u001b[0m\u001b[0;34m.\u001b[0m\u001b[0mmyfunc1\u001b[0m\u001b[0;34m(\u001b[0m\u001b[0;34m)\u001b[0m\u001b[0;34m\u001b[0m\u001b[0;34m\u001b[0m\u001b[0m\n\u001b[0m\u001b[1;32m     18\u001b[0m \u001b[0mp2\u001b[0m\u001b[0;34m.\u001b[0m\u001b[0mmyfunc\u001b[0m\u001b[0;34m(\u001b[0m\u001b[0;34m)\u001b[0m\u001b[0;34m\u001b[0m\u001b[0;34m\u001b[0m\u001b[0m\n",
            "\u001b[0;32m<ipython-input-22-17f0bfbbdd7e>\u001b[0m in \u001b[0;36mmyfunc1\u001b[0;34m(self)\u001b[0m\n\u001b[1;32m      8\u001b[0m \u001b[0;34m\u001b[0m\u001b[0m\n\u001b[1;32m      9\u001b[0m   \u001b[0;32mdef\u001b[0m \u001b[0mmyfunc1\u001b[0m\u001b[0;34m(\u001b[0m\u001b[0mself\u001b[0m\u001b[0;34m)\u001b[0m\u001b[0;34m:\u001b[0m\u001b[0;34m\u001b[0m\u001b[0;34m\u001b[0m\u001b[0m\n\u001b[0;32m---> 10\u001b[0;31m     \u001b[0mprint\u001b[0m\u001b[0;34m(\u001b[0m\u001b[0;34m\"Hello my age is \"\u001b[0m \u001b[0;34m+\u001b[0m \u001b[0mstr\u001b[0m\u001b[0;34m(\u001b[0m\u001b[0mself\u001b[0m\u001b[0;34m.\u001b[0m\u001b[0mage\u001b[0m\u001b[0;34m)\u001b[0m\u001b[0;34m)\u001b[0m\u001b[0;34m\u001b[0m\u001b[0;34m\u001b[0m\u001b[0m\n\u001b[0m\u001b[1;32m     11\u001b[0m \u001b[0;34m\u001b[0m\u001b[0m\n\u001b[1;32m     12\u001b[0m \u001b[0mp1\u001b[0m \u001b[0;34m=\u001b[0m \u001b[0mMyClass\u001b[0m\u001b[0;34m(\u001b[0m\u001b[0;34m\"Eluri\"\u001b[0m\u001b[0;34m,\u001b[0m\u001b[0;36m25\u001b[0m\u001b[0;34m)\u001b[0m\u001b[0;34m\u001b[0m\u001b[0;34m\u001b[0m\u001b[0m\n",
            "\u001b[0;31mAttributeError\u001b[0m: 'MyClass' object has no attribute 'age'"
          ]
        }
      ]
    },
    {
      "cell_type": "code",
      "source": [
        "class MyClass:\n",
        "  def __init__(self, name, age):\n",
        "    self.name = name\n",
        "    self.age = age\n",
        "\n",
        "  def myfunc(self):\n",
        "    print(\"Hello my name is \" + self.name)\n",
        "\n",
        "  def myfunc1(self):\n",
        "    print(\"Hello my age is \" + str(self.age))\n",
        "\n",
        "p1 = MyClass(\"Eluri\",25)\n",
        "p1.myfunc()\n",
        "\n",
        "p2 = MyClass('Eluri', 25)\n",
        "del p2\n",
        "p2.myfunc1()"
      ],
      "metadata": {
        "colab": {
          "base_uri": "https://localhost:8080/",
          "height": 218
        },
        "id": "Z_e5GZru-lcn",
        "outputId": "be7ff92a-25aa-46f7-ea02-ed423c434816"
      },
      "execution_count": null,
      "outputs": [
        {
          "output_type": "stream",
          "name": "stdout",
          "text": [
            "Hello my name is Eluri\n"
          ]
        },
        {
          "output_type": "error",
          "ename": "NameError",
          "evalue": "ignored",
          "traceback": [
            "\u001b[0;31m---------------------------------------------------------------------------\u001b[0m",
            "\u001b[0;31mNameError\u001b[0m                                 Traceback (most recent call last)",
            "\u001b[0;32m<ipython-input-24-0e16dd88e7af>\u001b[0m in \u001b[0;36m<module>\u001b[0;34m\u001b[0m\n\u001b[1;32m     15\u001b[0m \u001b[0mp2\u001b[0m \u001b[0;34m=\u001b[0m \u001b[0mMyClass\u001b[0m\u001b[0;34m(\u001b[0m\u001b[0;34m'Eluri'\u001b[0m\u001b[0;34m,\u001b[0m \u001b[0;36m25\u001b[0m\u001b[0;34m)\u001b[0m\u001b[0;34m\u001b[0m\u001b[0;34m\u001b[0m\u001b[0m\n\u001b[1;32m     16\u001b[0m \u001b[0;32mdel\u001b[0m \u001b[0mp2\u001b[0m\u001b[0;34m\u001b[0m\u001b[0;34m\u001b[0m\u001b[0m\n\u001b[0;32m---> 17\u001b[0;31m \u001b[0mp2\u001b[0m\u001b[0;34m.\u001b[0m\u001b[0mmyfunc1\u001b[0m\u001b[0;34m(\u001b[0m\u001b[0;34m)\u001b[0m\u001b[0;34m\u001b[0m\u001b[0;34m\u001b[0m\u001b[0m\n\u001b[0m",
            "\u001b[0;31mNameError\u001b[0m: name 'p2' is not defined"
          ]
        }
      ]
    },
    {
      "cell_type": "code",
      "source": [
        "# class\n",
        "class Base(object):\n",
        "\n",
        "\t# __init__ is known as the constructor\n",
        "\tdef __init__(self, name, idnumber):\n",
        "\t\tself.name = name\n",
        "\t\tself.idnumber = idnumber\n",
        "\n",
        "\tdef display(self):\n",
        "\t\tprint(self.name)\n",
        "\t\tprint(self.idnumber)\n",
        "\n",
        "\tdef details(self):\n",
        "\t\tprint(\"My name is {}\".format(self.name))\n",
        "\t\tprint(\"IdNumber: {}\".format(self.idnumber))\n",
        "\n",
        "C1 = Base('Eluri', '25')\n",
        "C1.display()\n",
        "C1.details()"
      ],
      "metadata": {
        "colab": {
          "base_uri": "https://localhost:8080/"
        },
        "id": "Bx_svVdzD5RO",
        "outputId": "33c1a94d-bd4b-4682-8454-671739144405"
      },
      "execution_count": null,
      "outputs": [
        {
          "output_type": "stream",
          "name": "stdout",
          "text": [
            "Eluri\n",
            "25\n",
            "My name is Eluri\n",
            "IdNumber: 25\n"
          ]
        }
      ]
    },
    {
      "cell_type": "markdown",
      "source": [
        "#Python Inheritance"
      ],
      "metadata": {
        "id": "kHzFbhIKATJv"
      }
    },
    {
      "cell_type": "code",
      "source": [
        "#Python Inheritance\n",
        "\n",
        "# Python code to demonstrate how parent constructors\n",
        "# are called.\n",
        "\n",
        "# parent class\n",
        "class Base(object):\n",
        "\n",
        "\t# __init__ is known as the constructor\n",
        "\tdef __init__(self, name, idnumber):\n",
        "\t\tself.name = name\n",
        "\t\tself.idnumber = idnumber\n",
        "\n",
        "\tdef display(self):\n",
        "\t\tprint(self.name)\n",
        "\t\tprint(self.idnumber)\n",
        "\n",
        "\tdef details(self):\n",
        "\t\tprint(\"My name is {}\".format(self.name))\n",
        "\t\tprint(\"IdNumber: {}\".format(self.idnumber))\n",
        "\n",
        "# child class\n",
        "class Employee(Base):\n",
        "\tdef __init__(self, name, idnumber, salary, post):\n",
        "\t\tself.salary = salary\n",
        "\t\tself.post = post\n",
        "\n",
        "\t\t# invoking the __init__ of the parent class\n",
        "\t\tBase.__init__(self, name, idnumber)\n",
        "\n",
        "\tdef details1(self):\n",
        "\t\tprint(\"My name is {}\".format(self.name))\n",
        "\t\tprint(\"IdNumber: {}\".format(self.idnumber))\n",
        "\t\tprint(\"Department: {}\".format(self.post))\n",
        "\n",
        "\n",
        "# creation of an object variable or an instance\n",
        "a = Employee('Tharun', 1117218, 25000, \"Testing\")\n",
        "\n",
        "# calling a function of the class Person using\n",
        "# its instance\n",
        "a.display()\n",
        "a.details()\n",
        "a.details1()\n",
        "\n"
      ],
      "metadata": {
        "colab": {
          "base_uri": "https://localhost:8080/"
        },
        "id": "91SrmahtAHhB",
        "outputId": "b628056b-0941-40ac-f800-2b07cec36721"
      },
      "execution_count": null,
      "outputs": [
        {
          "output_type": "stream",
          "name": "stdout",
          "text": [
            "Tharun\n",
            "1117218\n",
            "My name is Tharun\n",
            "IdNumber: 1117218\n",
            "My name is Tharun\n",
            "IdNumber: 1117218\n",
            "Department: Testing\n"
          ]
        }
      ]
    }
  ]
}