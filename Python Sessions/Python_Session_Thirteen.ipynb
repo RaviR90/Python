{
  "nbformat": 4,
  "nbformat_minor": 0,
  "metadata": {
    "colab": {
      "provenance": []
    },
    "kernelspec": {
      "name": "python3",
      "display_name": "Python 3"
    },
    "language_info": {
      "name": "python"
    }
  },
  "cells": [
    {
      "cell_type": "markdown",
      "source": [
        "**Python File Handling**\n",
        "\n",
        "Python supports file handling and allows users to handle files like to read and write files, along with many other file handling options, to operate on files."
      ],
      "metadata": {
        "id": "jaYHJNb1q4AV"
      }
    },
    {
      "cell_type": "code",
      "source": [
        "f = open(filename, mode)"
      ],
      "metadata": {
        "id": "273DCjUgrVvw"
      },
      "execution_count": null,
      "outputs": []
    },
    {
      "cell_type": "markdown",
      "source": [
        "**file modes:**\n",
        "\n",
        "\n",
        "*   **\"r\"** - Read - Default value. Opens a file for reading, **error if the file does not exist**\n",
        "\n",
        "*   **\"a\"** - Append - Opens a file for appending, creates the file if it does not exist\n",
        "\n",
        "*   **\"w\"** - Write - Opens a file for writing, creates the file if it does not exist\n",
        "\n",
        "*   **\"x\"** - Create - Creates the specified file, **returns an error if the file exists**"
      ],
      "metadata": {
        "id": "RJ9e30oardQi"
      }
    },
    {
      "cell_type": "markdown",
      "source": [
        "**Read Only (‘r’):** Open text file for reading. The handle is positioned at the beginning of the file. If the file does not exist, raises an I/O error. This is also the default mode in which the file is opened.\n",
        "\n",
        "**Read and Write (‘r+’):** Open the file for reading and writing. The handle is positioned at the beginning of the file. Raises I/O error if the file does not exist.\n",
        "\n",
        "**Write Only (‘w’):** Open the file for writing. For the existing files, the data is truncated and over-written. The handle is positioned at the beginning of the file. Creates the file if the file does not exist.\n",
        "\n",
        "\n",
        "**Write and Read (‘w+’):** Open the file for reading and writing. For existing files, data is truncated and over-written. The handle is positioned at the beginning of the file.\n",
        "\n",
        "**Append Only (‘a’):** Open the file for writing. The file is created if it does not exist. The handle is positioned at the end of the file. The data being written will be inserted at the end, after the existing data.\n",
        "\n",
        "**Append and Read (‘a+’):** Open the file for reading and writing. The file is created if it does not exist. The handle is positioned at the end of the file. The data being written will be inserted at the end, after the existing data.\n",
        "\n",
        "**Read Only in Binary format(‘rb’):**  It lets the user open the file for reading in binary format.\n",
        "\n",
        "**Read and Write in Binary Format(‘rb+’):** It lets the user open the file for reading and writing in binary format.\n",
        "\n",
        "**Write Only in Binary Format(‘wb’):** It lets the user open the file for writing in binary format. When a file gets opened in this mode, there are two things that can happen mostly. A new file gets created if the file does not exist. The content within the file will get overwritten if the file exists and has some data stored in it. \n",
        "\n",
        "**Write and Read in Binary Format(‘wb+’):**  It lets the user open the file for reading as well as writing in binary format. When a file gets opened in this mode, there are two things that can mostly happen. A new file gets created for writing and reading if the file does not exist. The content within the file will get overwritten if the file exists and has some data stored in it. \n",
        "\n",
        "**Append only in Binary Format(‘ab’):** It lets the user open the file for appending in binary format. A new file gets created if there is no file. The data will be inserted at the end if the file exists and has some data stored in it. \n",
        "\n",
        "**Append and Read in Binary Format(‘ab+’):** It lets the user open the file for appending and reading in binary format. A new file will be created for reading and appending if the file does not exist. We can read and append if the file exists and has some data stored in it.  "
      ],
      "metadata": {
        "id": "RoKYQtcKd2Sw"
      }
    },
    {
      "cell_type": "markdown",
      "source": [
        "**File read**"
      ],
      "metadata": {
        "id": "qXTXK5Nvc4vn"
      }
    },
    {
      "cell_type": "code",
      "source": [
        "# a file named \"fileprocess\", will be opened with the reading mode.\n",
        "file = open('/content/drive/MyDrive/fileprocess.txt', 'r')\n",
        "# This will print every line one by one in the file\n",
        "\n",
        "print(file)\n",
        "for each in file:\n",
        "    print (each)"
      ],
      "metadata": {
        "colab": {
          "base_uri": "https://localhost:8080/"
        },
        "id": "rcy-QpdzdFkM",
        "outputId": "84200ea8-7338-4d38-f8f0-d4d015565d24"
      },
      "execution_count": 1,
      "outputs": [
        {
          "output_type": "stream",
          "name": "stdout",
          "text": [
            "<_io.TextIOWrapper name='/content/drive/MyDrive/fileprocess.txt' mode='r' encoding='UTF-8'>\n",
            "This is the write command \n",
            "\n",
            "It allows us to write in a particular file\n",
            "\n",
            " This will add this line\n",
            "\n",
            " This will add this line\n",
            "\n",
            " This will add this line\n"
          ]
        }
      ]
    },
    {
      "cell_type": "code",
      "source": [
        "file = open('/content/drive/MyDrive/fileprocess.txt', \"rt\")\n",
        "print(file)\n",
        "#\"r\" for read, and \"t\" for text are the default values, you do not need to specify them."
      ],
      "metadata": {
        "id": "qgJdK95DdVhE",
        "colab": {
          "base_uri": "https://localhost:8080/"
        },
        "outputId": "806fe905-7ca3-47d6-f154-94a9d2148b22"
      },
      "execution_count": null,
      "outputs": [
        {
          "output_type": "stream",
          "name": "stdout",
          "text": [
            "<_io.TextIOWrapper name='/content/drive/MyDrive/fileprocess.txt' mode='rt' encoding='UTF-8'>\n"
          ]
        }
      ]
    },
    {
      "cell_type": "code",
      "source": [
        "# Python code to illustrate read() mode\n",
        "file = open('/content/drive/MyDrive/fileprocess.txt', \"r\")\n",
        "print (file.read())"
      ],
      "metadata": {
        "colab": {
          "base_uri": "https://localhost:8080/"
        },
        "id": "L6l0yrsZrSlM",
        "outputId": "0a8da781-e9b3-4db4-e5fb-799387419c08"
      },
      "execution_count": 2,
      "outputs": [
        {
          "output_type": "stream",
          "name": "stdout",
          "text": [
            "This is the write command \n",
            "It allows us to write in a particular file\n",
            " This will add this line\n",
            " This will add this line\n",
            " This will add this line\n"
          ]
        }
      ]
    },
    {
      "cell_type": "code",
      "source": [
        "# Python code to illustrate read() mode\n",
        "file = open('/content/drive/MyDrive/fileprocess.txt', \"r\")\n",
        "print (file.readlines())\n"
      ],
      "metadata": {
        "colab": {
          "base_uri": "https://localhost:8080/"
        },
        "id": "YITCrEzm_Xso",
        "outputId": "ddbfad45-6483-4ce8-a65d-947227a6b055"
      },
      "execution_count": null,
      "outputs": [
        {
          "output_type": "stream",
          "name": "stdout",
          "text": [
            "['This is the write command \\n', 'It allows us to write in a particular file\\n', ' This will add this line\\n', ' This will add this line']\n"
          ]
        }
      ]
    },
    {
      "cell_type": "code",
      "source": [
        "# Python code to illustrate read() mode\n",
        "file = open('/content/drive/MyDrive/fileprocess.txt', \"r\")\n",
        "print (file.read(5))"
      ],
      "metadata": {
        "colab": {
          "base_uri": "https://localhost:8080/"
        },
        "id": "OnjwYzn9rffE",
        "outputId": "599bff8e-a067-4ca4-b402-8d03cf8f7074"
      },
      "execution_count": null,
      "outputs": [
        {
          "output_type": "stream",
          "name": "stdout",
          "text": [
            "This \n"
          ]
        }
      ]
    },
    {
      "cell_type": "markdown",
      "source": [
        "**File Write**"
      ],
      "metadata": {
        "id": "xSFA9uqmdQ4W"
      }
    },
    {
      "cell_type": "code",
      "source": [
        "# Python code to create a file\n",
        "file = open('/content/drive/MyDrive/fileprocess.txt','w')\n",
        "file.write(\"This is the write command \\n\")\n",
        "file.write(\"It allows us to write in a particular file\")\n",
        "file.close()\n"
      ],
      "metadata": {
        "id": "TryTzE27r4jl"
      },
      "execution_count": 3,
      "outputs": []
    },
    {
      "cell_type": "markdown",
      "source": [
        "**append() mode**"
      ],
      "metadata": {
        "id": "8pYa0lJVc1gO"
      }
    },
    {
      "cell_type": "code",
      "source": [
        "# Python code to illustrate append() mode\n",
        "file = open('/content/drive/MyDrive/fileprocess.txt','a')\n",
        "file.write(\"\\n This will add this line\")\n",
        "file.close()"
      ],
      "metadata": {
        "id": "1Y2fp3XWcXTY"
      },
      "execution_count": 4,
      "outputs": []
    },
    {
      "cell_type": "markdown",
      "source": [
        "**split() in file handling**"
      ],
      "metadata": {
        "id": "JEykWl34dh2c"
      }
    },
    {
      "cell_type": "code",
      "source": [
        "# Python code to illustrate split() function\n",
        "with open('/content/drive/MyDrive/fileprocess.txt', \"r\") as file:\n",
        "    data = file.readlines()\n",
        "    for line in data:\n",
        "        print(line)\n",
        "        word = line.split()\n",
        "        print (word)"
      ],
      "metadata": {
        "colab": {
          "base_uri": "https://localhost:8080/"
        },
        "id": "sWjgaggodYYW",
        "outputId": "fed8036b-480f-4041-9c8a-b38d97728d17"
      },
      "execution_count": null,
      "outputs": [
        {
          "output_type": "stream",
          "name": "stdout",
          "text": [
            "This is the write command \n",
            "\n",
            "['This', 'is', 'the', 'write', 'command']\n",
            "It allows us to write in a particular file\n",
            "\n",
            "['It', 'allows', 'us', 'to', 'write', 'in', 'a', 'particular', 'file']\n",
            " This will add this line\n",
            "\n",
            "['This', 'will', 'add', 'this', 'line']\n",
            " This will add this line\n",
            "\n",
            "['This', 'will', 'add', 'this', 'line']\n",
            " This will add this line\n",
            "['This', 'will', 'add', 'this', 'line']\n"
          ]
        }
      ]
    },
    {
      "cell_type": "code",
      "source": [
        "lst = ['a', 'b', 'c']\n",
        "for i in lst:\n",
        "  print(i)"
      ],
      "metadata": {
        "colab": {
          "base_uri": "https://localhost:8080/"
        },
        "id": "v0LBEtTTTCiO",
        "outputId": "5ca2a52e-3d44-4e17-8a91-800082ed2ee6"
      },
      "execution_count": 5,
      "outputs": [
        {
          "output_type": "stream",
          "name": "stdout",
          "text": [
            "a\n",
            "b\n",
            "c\n"
          ]
        }
      ]
    },
    {
      "cell_type": "code",
      "source": [
        "str1 = 'hello world'\n",
        "print(str1.split())"
      ],
      "metadata": {
        "colab": {
          "base_uri": "https://localhost:8080/"
        },
        "id": "N1peyBDHTLbK",
        "outputId": "628682e9-0827-4a6e-e6f6-813c401a2f11"
      },
      "execution_count": 12,
      "outputs": [
        {
          "output_type": "stream",
          "name": "stdout",
          "text": [
            "['hello', 'world']\n"
          ]
        }
      ]
    },
    {
      "cell_type": "markdown",
      "source": [
        "**Python Delete File**"
      ],
      "metadata": {
        "id": "N1VoEex6MZ7n"
      }
    },
    {
      "cell_type": "code",
      "source": [
        "import os\n",
        "os.remove(\"D:\\test\\test.txt\")"
      ],
      "metadata": {
        "id": "T2urC1uBMfEV"
      },
      "execution_count": null,
      "outputs": []
    },
    {
      "cell_type": "code",
      "source": [
        "import os\n",
        "if os.path.exists(\"test.txt\"):\n",
        "  os.remove(\"test.txt\")\n",
        "else:\n",
        "  print(\"The file does not exist\")"
      ],
      "metadata": {
        "id": "tOm8hDDQMzeO"
      },
      "execution_count": null,
      "outputs": []
    },
    {
      "cell_type": "markdown",
      "source": [
        "**Delete Folder**\n",
        "\n",
        "\n",
        "we can remove only empty folders."
      ],
      "metadata": {
        "id": "fw5G1SCiM4oX"
      }
    },
    {
      "cell_type": "code",
      "source": [
        "import os\n",
        "os.rmdir(\"myfolder\")"
      ],
      "metadata": {
        "id": "xbxzKtqiM6_e"
      },
      "execution_count": null,
      "outputs": []
    },
    {
      "cell_type": "markdown",
      "source": [
        "**With statement**\n",
        "\n",
        "with statement in Python is used in exception handling to make the code cleaner and much more readable. It simplifies the management of common resources like file streams. Unlike the above implementations, **there is no need to call file.close() when using with statement.** "
      ],
      "metadata": {
        "id": "l9NUIhcQPXYW"
      }
    },
    {
      "cell_type": "code",
      "source": [
        "\n",
        "# Program to show various ways to\n",
        "# read data from a file.\n",
        "  \n",
        "inputlines = [\"This is Apple \\n\", \"This is Ball \\n\", \"This is Car \\n\"]\n",
        "  \n",
        "# Creating a file\n",
        "with open(\"/content/drive/MyDrive/myfile.txt\", \"w\") as file1:\n",
        "    # Writing data to a file\n",
        "    file1.write(\"Hello \\n\")\n",
        "    file1.writelines(inputlines)\n",
        "    #file1.close()  # to change file access modes\n",
        "  \n",
        "with open(\"/content/drive/MyDrive/myfile.txt\", \"r+\") as file1:\n",
        "    # Reading form a file\n",
        "    print(file1.read())"
      ],
      "metadata": {
        "colab": {
          "base_uri": "https://localhost:8080/"
        },
        "id": "7gbrL_7LQRlq",
        "outputId": "af38b2f7-049c-47de-e253-828ca89ff0c2"
      },
      "execution_count": 7,
      "outputs": [
        {
          "output_type": "stream",
          "name": "stdout",
          "text": [
            "Hello \n",
            "This is Apple \n",
            "This is Ball \n",
            "This is Car \n",
            "\n"
          ]
        }
      ]
    },
    {
      "cell_type": "code",
      "source": [
        "inputlines = [\"This is Apple \\n\", \"This is Ball \\n\", \"This is Car \\n\"]\n",
        "  \n",
        "# Creating a file\n",
        "with open(\"/content/drive/MyDrive/myfile.txt\", \"w\") as file1:\n",
        "    with open(\"/content/drive/MyDrive/fileprocess.txt\", \"r\") as file:\n",
        "      data = file.readlines()\n",
        "      print(data)\n",
        "      for line in data:\n",
        "        file1.write(line)\n",
        "    # Writing data to a file\n",
        "    #file1.write(\"Hello \\n\")\n",
        "    #file1.writelines(inputlines)\n",
        "    file1.close()  # to change file access modes\n",
        "  "
      ],
      "metadata": {
        "id": "D1TA_lIEBg2M",
        "colab": {
          "base_uri": "https://localhost:8080/"
        },
        "outputId": "1e106678-4131-4945-e1ad-80b304faa489"
      },
      "execution_count": 8,
      "outputs": [
        {
          "output_type": "stream",
          "name": "stdout",
          "text": [
            "['This is the write command \\n', 'It allows us to write in a particular file\\n', ' This will add this line']\n"
          ]
        }
      ]
    },
    {
      "cell_type": "code",
      "source": [
        "file_read = open(\"/content/drive/MyDrive/myfile.txt\", \"r\")\n",
        "for line in file_read:\n",
        "  print(line)"
      ],
      "metadata": {
        "colab": {
          "base_uri": "https://localhost:8080/"
        },
        "id": "aZghpGOKBuDe",
        "outputId": "c01c1596-d959-4fcc-9793-6ef81477937b"
      },
      "execution_count": 9,
      "outputs": [
        {
          "output_type": "stream",
          "name": "stdout",
          "text": [
            "This is the write command \n",
            "\n",
            "It allows us to write in a particular file\n",
            "\n",
            " This will add this line\n"
          ]
        }
      ]
    },
    {
      "cell_type": "code",
      "source": [
        "# Python program to demonstrate\n",
        "# writing to file\n",
        "  \n",
        "# Opening a file\n",
        "file1 = open('myfile_one.txt', 'w')\n",
        "lst = [\"This is Apple \\n\", \"This is Ball \\n\", \"This is Car \\n\"]\n",
        "string = \"Hello\\n\"\n",
        "  \n",
        "# Writing a string to file\n",
        "file1.write(string)\n",
        "  \n",
        "# Writing multiple strings\n",
        "# at a time\n",
        "file1.write('#patient descriptor function info#')\n",
        "file1.writelines(lst)\n",
        "  \n",
        "# Closing file\n",
        "file1.close()\n",
        "  \n",
        "# Checking if the data is\n",
        "# written to file or not\n",
        "file1 = open('myfile_one.txt', 'r')\n",
        "print(file1.read())\n",
        "file1.close()"
      ],
      "metadata": {
        "colab": {
          "base_uri": "https://localhost:8080/"
        },
        "id": "GTyOShbNRWqY",
        "outputId": "481c71a7-e0f3-41a9-8733-44c16fa5ee67"
      },
      "execution_count": null,
      "outputs": [
        {
          "output_type": "stream",
          "name": "stdout",
          "text": [
            "Hello\n",
            "#patient descriptor function info#This is Apple \n",
            "This is Ball \n",
            "This is Car \n",
            "\n"
          ]
        }
      ]
    },
    {
      "cell_type": "markdown",
      "source": [
        "# **Logging in Python**\n",
        "\n",
        "Logging is a means of tracking events that happen when some software runs. Logging is important for software developing, debugging, and running.\n",
        "\n",
        "\n",
        "**Levels of Log Message:**\n",
        "\n",
        "**Debug :** These are used to give Detailed information, typically of interest only when diagnosing problems.\n",
        "\n",
        "**Info :** These are used to confirm that things are working as expected\n",
        "\n",
        "**Warning :** These are used an indication that something unexpected happened, or is indicative of some problem in the near future\n",
        "\n",
        "**Error :** This tells that due to a more serious problem, the software has not been able to perform some function\n",
        "\n",
        "**Critical :** This tells serious error, indicating that the program itself may be unable to continue running"
      ],
      "metadata": {
        "id": "kDuiK44wSNHB"
      }
    },
    {
      "cell_type": "code",
      "source": [
        "!pip install -u logging"
      ],
      "metadata": {
        "id": "yE70ojr-R1uc"
      },
      "execution_count": null,
      "outputs": []
    },
    {
      "cell_type": "code",
      "source": [
        "# importing module\n",
        "import logging\n",
        " \n",
        "# Create and configure logger\n",
        "logging.basicConfig(filename=\"newfile.log\",\n",
        "                    format='%(asctime)s %(message)s',\n",
        "                    filemode='w')\n",
        " \n",
        "# Creating an object\n",
        "logger = logging.getLogger()\n",
        " \n",
        "# Setting the threshold of logger to DEBUG\n",
        "#logger.setLevel(logging.DEBUG)\n",
        " \n",
        "# Test messages\n",
        "logger.debug(\"Just debug Message\")\n",
        "logger.info(\"Just an information\")\n",
        "logger.warning(\"Its a Warning\")\n",
        "logger.error(\"Did you try to divide by zero\")\n",
        "logger.critical(\"Internet is down\")"
      ],
      "metadata": {
        "colab": {
          "base_uri": "https://localhost:8080/"
        },
        "id": "SHzLfYP8Tyla",
        "outputId": "31f7bbed-cc4c-4963-9538-834848a078d8"
      },
      "execution_count": null,
      "outputs": [
        {
          "output_type": "stream",
          "name": "stderr",
          "text": [
            "DEBUG:root:Just debug Message\n",
            "INFO:root:Just an information\n",
            "WARNING:root:Its a Warning\n",
            "ERROR:root:Did you try to divide by zero\n",
            "CRITICAL:root:Internet is down\n"
          ]
        }
      ]
    },
    {
      "cell_type": "markdown",
      "source": [
        "**Capturing Stack Traces**"
      ],
      "metadata": {
        "id": "r18jxAiJ2Le0"
      }
    },
    {
      "cell_type": "code",
      "source": [
        "import logging\n",
        "\n",
        "a = 5\n",
        "b = 0\n",
        "\n",
        "try:\n",
        "  c = a / b\n",
        "except Exception as e:\n",
        "  logging.error(\"Exception occurred\" + e, exc_info=True)"
      ],
      "metadata": {
        "colab": {
          "base_uri": "https://localhost:8080/"
        },
        "id": "ET18l2Eh2OB7",
        "outputId": "6f01996e-1dc7-42ba-abbf-5566c0413939"
      },
      "execution_count": null,
      "outputs": [
        {
          "output_type": "stream",
          "name": "stderr",
          "text": [
            "ERROR:root:Exception occurred\n",
            "Traceback (most recent call last):\n",
            "  File \"<ipython-input-1-f61c93762b77>\", line 7, in <module>\n",
            "    c = a / b\n",
            "ZeroDivisionError: division by zero\n"
          ]
        }
      ]
    },
    {
      "cell_type": "code",
      "source": [
        "import logging\n",
        "\n",
        "a = 5\n",
        "b = 0\n",
        "try:\n",
        "  c = a / b\n",
        "except Exception as e:\n",
        "  logging.exception(\"Exception occurred\")"
      ],
      "metadata": {
        "colab": {
          "base_uri": "https://localhost:8080/"
        },
        "id": "XXrPPuue21Y_",
        "outputId": "3d4a25b0-1a4f-4010-d813-daa2f47247ed"
      },
      "execution_count": null,
      "outputs": [
        {
          "output_type": "stream",
          "name": "stderr",
          "text": [
            "ERROR:root:Exception occurred\n",
            "Traceback (most recent call last):\n",
            "  File \"<ipython-input-2-f6dfc20668ca>\", line 6, in <module>\n",
            "    c = a / b\n",
            "ZeroDivisionError: division by zero\n"
          ]
        }
      ]
    },
    {
      "cell_type": "code",
      "source": [
        "import traceback\n",
        "\n",
        "try:\n",
        "    raise TypeError(\"Oups!\")\n",
        "except Exception as err:\n",
        "    try:\n",
        "        raise TypeError(\"Again !?!\")\n",
        "    except:\n",
        "        pass\n",
        "\n",
        "    traceback.print_exc()"
      ],
      "metadata": {
        "colab": {
          "base_uri": "https://localhost:8080/"
        },
        "id": "fkP_arKosAUU",
        "outputId": "a38cb868-7d18-4139-96e9-d85096fe5d7a"
      },
      "execution_count": null,
      "outputs": [
        {
          "output_type": "stream",
          "name": "stderr",
          "text": [
            "Traceback (most recent call last):\n",
            "  File \"<ipython-input-13-9fa4baa6d866>\", line 4, in <module>\n",
            "    raise TypeError(\"Oups!\")\n",
            "TypeError: Oups!\n"
          ]
        }
      ]
    }
  ]
}