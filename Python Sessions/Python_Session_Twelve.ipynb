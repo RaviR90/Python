{
  "nbformat": 4,
  "nbformat_minor": 0,
  "metadata": {
    "colab": {
      "provenance": []
    },
    "kernelspec": {
      "name": "python3",
      "display_name": "Python 3"
    },
    "language_info": {
      "name": "python"
    }
  },
  "cells": [
    {
      "cell_type": "markdown",
      "source": [
        "A **Regular Expressions (RegEx)** is a special sequence of characters that uses a search pattern to find a string or set of strings.\n",
        "\n",
        "\n",
        "Python provides a re module that supports the use of regex in Python.\n"
      ],
      "metadata": {
        "id": "f3VwlVYCKVZy"
      }
    },
    {
      "cell_type": "markdown",
      "source": [
        "**Methods\tDescription**\n",
        "\n",
        "1.   **findall**\t:    Returns a list containing all matches\n",
        "2.   **search**\t:    Returns a Match object if there is a match anywhere in the string\n",
        "3.   **split** :  \t Returns a list where the string has been split at each match\n",
        "4.   **sub** :\t   Replaces one or many matches with a string"
      ],
      "metadata": {
        "id": "kDSeu8TF6Uzj"
      }
    },
    {
      "cell_type": "markdown",
      "source": [
        "**search()**"
      ],
      "metadata": {
        "id": "bsQgRb786WjK"
      }
    },
    {
      "cell_type": "code",
      "source": [
        "import re\n",
        " \n",
        "ip = 'Hi Hello World Hello Hello'\n",
        " \n",
        "abc = re.search(r'Hello', ip)\n",
        "print(abc)\n",
        "print('Start Index:', abc.start())\n",
        "print('End Index:', abc.end())"
      ],
      "metadata": {
        "colab": {
          "base_uri": "https://localhost:8080/"
        },
        "id": "CHEYL5JQKYjq",
        "outputId": "e6b75dd2-5698-45b8-82ac-e50645991b02"
      },
      "execution_count": null,
      "outputs": [
        {
          "output_type": "stream",
          "name": "stdout",
          "text": [
            "<re.Match object; span=(3, 8), match='Hello'>\n",
            "Start Index: 3\n",
            "End Index: 8\n"
          ]
        }
      ]
    },
    {
      "cell_type": "code",
      "source": [
        "import re\n",
        "\n",
        "ip = 'Hi Hello World'\n",
        "a = re.search(\"\\s\", ip)\n",
        "\n",
        "print(\"The first white-space character is located in position:\", a.start()) \n"
      ],
      "metadata": {
        "colab": {
          "base_uri": "https://localhost:8080/"
        },
        "id": "-HD2GFmurROI",
        "outputId": "0e3e2708-a4cc-4dba-b49e-baeca2e3573b"
      },
      "execution_count": null,
      "outputs": [
        {
          "output_type": "stream",
          "name": "stdout",
          "text": [
            "The first white-space character is located in position: 2\n"
          ]
        }
      ]
    },
    {
      "cell_type": "markdown",
      "source": [
        "**findall()**"
      ],
      "metadata": {
        "id": "OkdTyEYd6dOj"
      }
    },
    {
      "cell_type": "code",
      "source": [
        "import re\n",
        "\n",
        "ip = \"Mani is awsome\"\n",
        "a = re.findall(\"Mani\", ip)\n",
        "print(a)"
      ],
      "metadata": {
        "colab": {
          "base_uri": "https://localhost:8080/"
        },
        "id": "PPqN-2JuX_UK",
        "outputId": "b8edebd4-0a93-40d3-ba2c-58c07843247d"
      },
      "execution_count": null,
      "outputs": [
        {
          "output_type": "stream",
          "name": "stdout",
          "text": [
            "['Mani']\n"
          ]
        }
      ]
    },
    {
      "cell_type": "code",
      "source": [
        "import re\n",
        "\n",
        "ip = \"Mani is awsome Mani\"\n",
        "x = re.findall(\"Mani\", ip)\n",
        "print(x)"
      ],
      "metadata": {
        "colab": {
          "base_uri": "https://localhost:8080/"
        },
        "id": "WiR7m-H9gTBQ",
        "outputId": "1fea3111-2f1c-4ef4-9c71-6db506909213"
      },
      "execution_count": null,
      "outputs": [
        {
          "output_type": "stream",
          "name": "stdout",
          "text": [
            "['Mani', 'Mani']\n"
          ]
        }
      ]
    },
    {
      "cell_type": "code",
      "source": [
        "#Return an empty list if no match was found\n",
        "import re\n",
        "\n",
        "ip = \"Python is awsome\"\n",
        "a = re.findall(\"Mani\", ip)\n",
        "print(a)\n"
      ],
      "metadata": {
        "colab": {
          "base_uri": "https://localhost:8080/"
        },
        "id": "1CVebjHCgf3O",
        "outputId": "f60330c5-0db4-43f1-9ad5-9bafcf92b884"
      },
      "execution_count": null,
      "outputs": [
        {
          "output_type": "stream",
          "name": "stdout",
          "text": [
            "[]\n"
          ]
        }
      ]
    },
    {
      "cell_type": "markdown",
      "source": [
        "**split()**"
      ],
      "metadata": {
        "id": "5wWr4b196gdo"
      }
    },
    {
      "cell_type": "code",
      "source": [
        "import re\n",
        "\n",
        "txt = \"python is awsome\"\n",
        "a = re.split(\"\\s\", txt, 1)\n",
        "print(a)"
      ],
      "metadata": {
        "colab": {
          "base_uri": "https://localhost:8080/"
        },
        "id": "AQb58eX3rtC6",
        "outputId": "0a1d074e-b0c9-41d3-f6e7-184e93ab924f"
      },
      "execution_count": null,
      "outputs": [
        {
          "output_type": "stream",
          "name": "stdout",
          "text": [
            "['python', 'is awsome']\n"
          ]
        }
      ]
    },
    {
      "cell_type": "code",
      "source": [
        "import re\n",
        "\n",
        "txt = \"python is awsome\"\n",
        "a = re.split(\"\\s\", txt, 2)\n",
        "print(a)\n",
        "\n",
        "#string split\n",
        "str_txt = \"python is awsome\"\n",
        "b = str_txt.split(' ')\n",
        "print(b)"
      ],
      "metadata": {
        "colab": {
          "base_uri": "https://localhost:8080/"
        },
        "id": "i29th4NqsN92",
        "outputId": "efa77ada-da4c-4e80-c6d9-04e3e3baad67"
      },
      "execution_count": null,
      "outputs": [
        {
          "output_type": "stream",
          "name": "stdout",
          "text": [
            "['python', 'is', 'awsome']\n",
            "['python', 'is', 'awsome']\n"
          ]
        }
      ]
    },
    {
      "cell_type": "code",
      "source": [
        "import re\n",
        "\n",
        "txt = \"python is awsome\"\n",
        "a = re.split(\"\\s\", txt, 4)\n",
        "print(a)"
      ],
      "metadata": {
        "colab": {
          "base_uri": "https://localhost:8080/"
        },
        "id": "aO3jfnyN1p5j",
        "outputId": "ecbbdefb-765e-4ca8-9cb0-f8c640c19377"
      },
      "execution_count": null,
      "outputs": [
        {
          "output_type": "stream",
          "name": "stdout",
          "text": [
            "['python', 'is', 'awsome']\n"
          ]
        }
      ]
    },
    {
      "cell_type": "markdown",
      "source": [
        "**sub()**"
      ],
      "metadata": {
        "id": "TXRhPF_P6jFF"
      }
    },
    {
      "cell_type": "code",
      "source": [
        "import re\n",
        "\n",
        "ip = \"Python is awsome\"\n",
        "a = re.sub(\"\\s\", \",\", ip)\n",
        "print(a)\n",
        "\n",
        "#string replace\n",
        "b = ip.replace(' ', ',')\n",
        "print(b)"
      ],
      "metadata": {
        "colab": {
          "base_uri": "https://localhost:8080/"
        },
        "id": "r7DeQ5udyzl6",
        "outputId": "03c61d4d-b3ab-4c3a-8dae-ee65019a645d"
      },
      "execution_count": null,
      "outputs": [
        {
          "output_type": "stream",
          "name": "stdout",
          "text": [
            "Python,is,awsome\n",
            "Python,is,awsome\n"
          ]
        }
      ]
    },
    {
      "cell_type": "markdown",
      "source": [
        "**.span()** returns a tuple containing the start-, and end positions of the match.\n",
        "\n",
        "**.string** returns the string passed into the function.\n",
        "\n",
        "**.group()** returns the part of the string where there was a match."
      ],
      "metadata": {
        "id": "ZAmeDxYX8D4u"
      }
    },
    {
      "cell_type": "code",
      "source": [
        "import re\n",
        "\n",
        "#Search for an upper case \"D\" character in the beginning of a word, and print its position:\n",
        "\n",
        "ip = \"Hi, how are you Doing? I am Doing good.\"\n",
        "a = re.search(r\"\\bD\\w+\", ip)\n",
        "print(a)\n",
        "print(a.span())\n"
      ],
      "metadata": {
        "colab": {
          "base_uri": "https://localhost:8080/"
        },
        "id": "Jj8dYr8l8jzd",
        "outputId": "93877202-75b4-42b1-caf4-af743e4a98b2"
      },
      "execution_count": null,
      "outputs": [
        {
          "output_type": "stream",
          "name": "stdout",
          "text": [
            "<re.Match object; span=(16, 21), match='Doing'>\n",
            "(16, 21)\n"
          ]
        }
      ]
    },
    {
      "cell_type": "code",
      "source": [
        "import re\n",
        "\n",
        "#Search for an upper case \"D\" character in the beginning of a word, and print its position:\n",
        "\n",
        "ip = \"Hi, how are you Doing? I am Doing good.\"\n",
        "a = re.search(r\"\\bz\\w+\", ip)\n",
        "print(a.span())"
      ],
      "metadata": {
        "colab": {
          "base_uri": "https://localhost:8080/",
          "height": 201
        },
        "id": "22qTTxmH9QhO",
        "outputId": "90e46168-807d-47e1-9929-40b791e942b5"
      },
      "execution_count": null,
      "outputs": [
        {
          "output_type": "error",
          "ename": "AttributeError",
          "evalue": "ignored",
          "traceback": [
            "\u001b[0;31m---------------------------------------------------------------------------\u001b[0m",
            "\u001b[0;31mAttributeError\u001b[0m                            Traceback (most recent call last)",
            "\u001b[0;32m<ipython-input-29-f63e5c9e24b3>\u001b[0m in \u001b[0;36m<module>\u001b[0;34m\u001b[0m\n\u001b[1;32m      5\u001b[0m \u001b[0mip\u001b[0m \u001b[0;34m=\u001b[0m \u001b[0;34m\"Hi, how are you Doing? I am Doing good.\"\u001b[0m\u001b[0;34m\u001b[0m\u001b[0;34m\u001b[0m\u001b[0m\n\u001b[1;32m      6\u001b[0m \u001b[0ma\u001b[0m \u001b[0;34m=\u001b[0m \u001b[0mre\u001b[0m\u001b[0;34m.\u001b[0m\u001b[0msearch\u001b[0m\u001b[0;34m(\u001b[0m\u001b[0;34mr\"\\bz\\w+\"\u001b[0m\u001b[0;34m,\u001b[0m \u001b[0mip\u001b[0m\u001b[0;34m)\u001b[0m\u001b[0;34m\u001b[0m\u001b[0;34m\u001b[0m\u001b[0m\n\u001b[0;32m----> 7\u001b[0;31m \u001b[0mprint\u001b[0m\u001b[0;34m(\u001b[0m\u001b[0ma\u001b[0m\u001b[0;34m.\u001b[0m\u001b[0mspan\u001b[0m\u001b[0;34m(\u001b[0m\u001b[0;34m)\u001b[0m\u001b[0;34m)\u001b[0m\u001b[0;34m\u001b[0m\u001b[0;34m\u001b[0m\u001b[0m\n\u001b[0m",
            "\u001b[0;31mAttributeError\u001b[0m: 'NoneType' object has no attribute 'span'"
          ]
        }
      ]
    },
    {
      "cell_type": "code",
      "source": [
        "import re\n",
        "\n",
        "#string returns the string passed into the function.\n",
        "\n",
        "ip = \"Hi, how are you Doing? I am Doing good.\"\n",
        "a = re.search(r\"\\bD\\w+\", ip)\n",
        "print(a)\n",
        "print(a.string)"
      ],
      "metadata": {
        "colab": {
          "base_uri": "https://localhost:8080/"
        },
        "id": "VL1vZOk79fi6",
        "outputId": "dcc7b710-3ec1-48c4-a6d2-a180bc0d6e3a"
      },
      "execution_count": null,
      "outputs": [
        {
          "output_type": "stream",
          "name": "stdout",
          "text": [
            "<re.Match object; span=(16, 21), match='Doing'>\n",
            "Hi, how are you Doing? I am Doing good.\n"
          ]
        }
      ]
    },
    {
      "cell_type": "code",
      "source": [
        "import re\n",
        "\n",
        "#Search for an upper case \"D\" character in the beginning of a word, and print its position:\n",
        "\n",
        "ip = \"Hi, how are you Doing? I am Doing good.\"\n",
        "a = re.search(r\"\\bD\\w+\", ip)\n",
        "print(a.group())"
      ],
      "metadata": {
        "colab": {
          "base_uri": "https://localhost:8080/"
        },
        "id": "dLAS1Q2w9nfv",
        "outputId": "0ffedce1-52ac-41a1-833f-48b9e20a5266"
      },
      "execution_count": null,
      "outputs": [
        {
          "output_type": "stream",
          "name": "stdout",
          "text": [
            "Doing\n"
          ]
        }
      ]
    },
    {
      "cell_type": "code",
      "source": [
        "import re\n",
        "\n",
        "#Search for an upper case \"D\" character in the beginning of a word, and print its position:\n",
        "\n",
        "ip = \"Hi, how are you Doing? I am Doing good.\"\n",
        "a = re.search(r\"\\bz\\w+\", ip)\n",
        "print(a.group())"
      ],
      "metadata": {
        "colab": {
          "base_uri": "https://localhost:8080/",
          "height": 201
        },
        "id": "EJQzUcv690_T",
        "outputId": "5b3b7c2c-5423-4d83-fae2-6d5619e0c984"
      },
      "execution_count": null,
      "outputs": [
        {
          "output_type": "error",
          "ename": "AttributeError",
          "evalue": "ignored",
          "traceback": [
            "\u001b[0;31m---------------------------------------------------------------------------\u001b[0m",
            "\u001b[0;31mAttributeError\u001b[0m                            Traceback (most recent call last)",
            "\u001b[0;32m<ipython-input-32-9f917d39674a>\u001b[0m in \u001b[0;36m<module>\u001b[0;34m\u001b[0m\n\u001b[1;32m      5\u001b[0m \u001b[0mip\u001b[0m \u001b[0;34m=\u001b[0m \u001b[0;34m\"Hi, how are you Doing? I am Doing good.\"\u001b[0m\u001b[0;34m\u001b[0m\u001b[0;34m\u001b[0m\u001b[0m\n\u001b[1;32m      6\u001b[0m \u001b[0ma\u001b[0m \u001b[0;34m=\u001b[0m \u001b[0mre\u001b[0m\u001b[0;34m.\u001b[0m\u001b[0msearch\u001b[0m\u001b[0;34m(\u001b[0m\u001b[0;34mr\"\\bz\\w+\"\u001b[0m\u001b[0;34m,\u001b[0m \u001b[0mip\u001b[0m\u001b[0;34m)\u001b[0m\u001b[0;34m\u001b[0m\u001b[0;34m\u001b[0m\u001b[0m\n\u001b[0;32m----> 7\u001b[0;31m \u001b[0mprint\u001b[0m\u001b[0;34m(\u001b[0m\u001b[0ma\u001b[0m\u001b[0;34m.\u001b[0m\u001b[0mgroup\u001b[0m\u001b[0;34m(\u001b[0m\u001b[0;34m)\u001b[0m\u001b[0;34m)\u001b[0m\u001b[0;34m\u001b[0m\u001b[0;34m\u001b[0m\u001b[0m\n\u001b[0m",
            "\u001b[0;31mAttributeError\u001b[0m: 'NoneType' object has no attribute 'group'"
          ]
        }
      ]
    },
    {
      "cell_type": "markdown",
      "source": [
        "**MetaCharacters\tDescription**\n",
        "\n",
        "*   []\tRepresent a character class\n",
        "*   \\\tUsed to drop the special meaning of character following it\n",
        "*   . Matches any character except newline\n",
        "*   ^\tMatches the beginning\n",
        "*   $\tMatches the end\n",
        "*   |\tMeans OR (Matches with any of the characters separated by it.\n",
        "*   ?\tMatches zero or one occurrence\n",
        "*   (*)\tAny number of occurrences (including 0 occurrences)\n",
        "*   (+)\tOne or more occurrences\n",
        "*   {}\tIndicate the number of occurrences of a preceding regex to match.\n",
        "*   ()\tEnclose a group of Regex"
      ],
      "metadata": {
        "id": "uQy-z0evMszW"
      }
    },
    {
      "cell_type": "code",
      "source": [
        "import re\n",
        "\n",
        "txt = \"Python is a high-level, cross-platform, and open-sourced programming language released under a GPL-compatible license.\"\n",
        "\n",
        "#Find all lower case characters alphabetically between \"a\" and \"m\":\n",
        "\n",
        "x = re.findall(\"[a-m]\", txt)\n",
        "print(x)\n"
      ],
      "metadata": {
        "colab": {
          "base_uri": "https://localhost:8080/"
        },
        "id": "gwIw_L8WApTp",
        "outputId": "f91ae729-ebb4-473b-dd3c-bcc26758f5b7"
      },
      "execution_count": null,
      "outputs": [
        {
          "output_type": "stream",
          "name": "stdout",
          "text": [
            "['h', 'i', 'a', 'h', 'i', 'g', 'h', 'l', 'e', 'e', 'l', 'c', 'l', 'a', 'f', 'm', 'a', 'd', 'e', 'c', 'e', 'd', 'g', 'a', 'm', 'm', 'i', 'g', 'l', 'a', 'g', 'a', 'g', 'e', 'e', 'l', 'e', 'a', 'e', 'd', 'd', 'e', 'a', 'c', 'm', 'a', 'i', 'b', 'l', 'e', 'l', 'i', 'c', 'e', 'e']\n"
          ]
        }
      ]
    },
    {
      "cell_type": "code",
      "source": [
        "import re\n",
        "\n",
        "txt = \"Python was created by Guido van Rossum, and released in 1991.\"\n",
        "\n",
        "#Find all digit characters:\n",
        "\n",
        "x = re.findall(\"\\d\", txt)\n",
        "y = re.findall(\"\\.\", txt)\n",
        "print(x)\n",
        "print(y)\n"
      ],
      "metadata": {
        "colab": {
          "base_uri": "https://localhost:8080/"
        },
        "id": "FL72zD9nBQ5J",
        "outputId": "b5b31d81-1caf-49f6-8282-bfbb38aa1f59"
      },
      "execution_count": null,
      "outputs": [
        {
          "output_type": "stream",
          "name": "stdout",
          "text": [
            "['1', '9', '9', '1']\n",
            "['.', '.']\n"
          ]
        }
      ]
    },
    {
      "cell_type": "code",
      "source": [
        "import re\n",
        " \n",
        "sentence = 'Hi Hello. World!'\n",
        " \n",
        "# without using \\\n",
        "match = re.search(r'.', sentence)\n",
        "print(match)\n",
        " \n",
        "# using \\\n",
        "match = re.search(r'\\.', sentence)\n",
        "print(match)"
      ],
      "metadata": {
        "colab": {
          "base_uri": "https://localhost:8080/"
        },
        "id": "YRLLukAbTmrW",
        "outputId": "9065ea25-f72c-4c24-a288-46afea21da73"
      },
      "execution_count": null,
      "outputs": [
        {
          "output_type": "stream",
          "name": "stdout",
          "text": [
            "<re.Match object; span=(0, 1), match='H'>\n",
            "<re.Match object; span=(8, 9), match='.'>\n"
          ]
        }
      ]
    },
    {
      "cell_type": "code",
      "source": [
        "import re\n",
        "\n",
        "txt = \"hello world\"\n",
        "\n",
        "#Check if the string starts with 'hello':\n",
        "\n",
        "x = re.findall(\"^hello\", txt)\n",
        "print(x)\n",
        "if x:\n",
        "  print(\"Yes, the string starts with 'hello'\")\n",
        "else:\n",
        "  print(\"No match\")"
      ],
      "metadata": {
        "colab": {
          "base_uri": "https://localhost:8080/"
        },
        "id": "R0-4wESwOTCx",
        "outputId": "13f63f39-d672-4e8e-b54d-9a1d5a3ab622"
      },
      "execution_count": null,
      "outputs": [
        {
          "output_type": "stream",
          "name": "stdout",
          "text": [
            "['hello']\n",
            "Yes, the string starts with 'hello'\n"
          ]
        }
      ]
    },
    {
      "cell_type": "code",
      "source": [
        "import re\n",
        "\n",
        "txt = \"hello world\"\n",
        "\n",
        "#Check if the string starts with 'hello':\n",
        "\n",
        "x = re.findall(\"world$\", txt)\n",
        "print(x)\n",
        "if x:\n",
        "  print(\"Yes, the string ends with 'world'\")\n",
        "else:\n",
        "  print(\"No match\")"
      ],
      "metadata": {
        "colab": {
          "base_uri": "https://localhost:8080/"
        },
        "id": "2mbvZBp1OcBv",
        "outputId": "06b72562-7393-4f9a-c454-8aa45abe4361"
      },
      "execution_count": null,
      "outputs": [
        {
          "output_type": "stream",
          "name": "stdout",
          "text": [
            "[]\n",
            "No match\n"
          ]
        }
      ]
    },
    {
      "cell_type": "code",
      "source": [
        "import re\n",
        "\n",
        "txt = \"hello hi world\"\n",
        "\n",
        "#\n",
        "\n",
        "x = re.findall(\"he.*o\", txt)\n",
        "\n",
        "print(x)"
      ],
      "metadata": {
        "colab": {
          "base_uri": "https://localhost:8080/"
        },
        "id": "1lxrgSFWPTii",
        "outputId": "e0e8fd98-a70c-4924-f8fa-75c5bbff4aec"
      },
      "execution_count": null,
      "outputs": [
        {
          "output_type": "stream",
          "name": "stdout",
          "text": [
            "['hello hi wo']\n"
          ]
        }
      ]
    },
    {
      "cell_type": "code",
      "source": [
        "import re\n",
        "\n",
        "txt = \"hello hi world\"\n",
        "\n",
        "#Search for a sequence that starts with \"he\", followed by 1 or more  (any) characters, and an \"o\":\n",
        "\n",
        "x = re.findall(\"he.+o\", txt)\n",
        "\n",
        "print(x)"
      ],
      "metadata": {
        "colab": {
          "base_uri": "https://localhost:8080/"
        },
        "id": "xlQnZ7Q8PvJU",
        "outputId": "5cf2f67d-4cb3-4903-e68d-f1c13f7a6ff5"
      },
      "execution_count": null,
      "outputs": [
        {
          "output_type": "stream",
          "name": "stdout",
          "text": [
            "['hello hi wo']\n"
          ]
        }
      ]
    },
    {
      "cell_type": "code",
      "source": [
        "import re\n",
        "\n",
        "txt = \"hello world\"\n",
        "\n",
        "#Search for a sequence that starts with \"he\", followed by 0 or 1  (any) character, and an \"o\":\n",
        "\n",
        "x = re.findall(\"hel.?o\", txt)\n",
        "\n",
        "print(x)\n",
        "\n",
        "#This time we got no match, because there were not zero, not one, but two characters between \"he\" and the \"o\"\n"
      ],
      "metadata": {
        "colab": {
          "base_uri": "https://localhost:8080/"
        },
        "id": "aT04CWPtQAVs",
        "outputId": "b3fc9e39-5eb4-4311-d51e-063e27c2735a"
      },
      "execution_count": null,
      "outputs": [
        {
          "output_type": "stream",
          "name": "stdout",
          "text": [
            "['hello']\n"
          ]
        }
      ]
    },
    {
      "cell_type": "code",
      "source": [
        "import re\n",
        "\n",
        "txt = \"hello world\"\n",
        "\n",
        "#Search for a sequence that starts with \"he\", followed excactly 1 (any) characters, and an \"o\":\n",
        "\n",
        "x = re.findall(\"he.{2}o\", txt)\n",
        "\n",
        "print(x)\n"
      ],
      "metadata": {
        "colab": {
          "base_uri": "https://localhost:8080/"
        },
        "id": "Sb_ZO_ErQgEy",
        "outputId": "0d2ab9e0-6e0d-4d92-805c-efb1494b08e0"
      },
      "execution_count": null,
      "outputs": [
        {
          "output_type": "stream",
          "name": "stdout",
          "text": [
            "['hello']\n"
          ]
        }
      ]
    },
    {
      "cell_type": "code",
      "source": [
        "import re\n",
        "\n",
        "txt = \"Python supports object-oriented programming concepts such as class, inheritance, objects, module, namespace etc.\"\n",
        "\n",
        "#Check if the string contains either \"class\" or \"object\":\n",
        "\n",
        "x = re.findall(\"class|object\", txt)\n",
        "\n",
        "print(x)\n",
        "\n",
        "if x:\n",
        "  print(\"Yes, there is at least one match!\")\n",
        "else:\n",
        "  print(\"No match\")"
      ],
      "metadata": {
        "colab": {
          "base_uri": "https://localhost:8080/"
        },
        "id": "45IUzh1YQyYh",
        "outputId": "504609c7-84d6-4710-d737-d853d507fb73"
      },
      "execution_count": null,
      "outputs": [
        {
          "output_type": "stream",
          "name": "stdout",
          "text": [
            "['object', 'class', 'object']\n",
            "Yes, there is at least one match!\n"
          ]
        }
      ]
    },
    {
      "cell_type": "markdown",
      "source": [
        "**Python RegEx - Special sequences**\n",
        "\n",
        "\\A\tReturns a match if the specified characters are at the beginning of the string\n",
        "\n",
        "\\d The sequence checks if there are any digits in the given string. (numbers from 0-9)\t\"\\d\"\t\n",
        "\n",
        "\\D\tReturns a match where the string DOES NOT contain digits\t\"\\D\"\t\n",
        "\n",
        "The \\s sequence returns a match when the string contains white space characters.\t\n",
        "\n",
        "\\S\tReturns a match where the string DOES NOT contain a white space character\t\"\\S\"\t\n",
        "\n",
        "The \\w sequence returns a match at every word character. (characters from a to Z, digits from 0-9, and the underscore _ character)\t\"\\w\"\t\n",
        "\n",
        "\\W\tReturns a match where the string DOES NOT contain any word characters\t\"\\W\"\n",
        "\n"
      ],
      "metadata": {
        "id": "OOZAS6a5Z4Af"
      }
    },
    {
      "cell_type": "code",
      "source": [
        "import re\n",
        "\n",
        "txt = \"Extensive basic data types are supported, Variables can be strongly typed as well as dynamic typed\"\n",
        "\n",
        "#Check if the string starts with \"Extensive\":\n",
        "\n",
        "x = re.findall(\"\\AExtensive\", txt)\n",
        "\n",
        "print(x)\n",
        "\n",
        "if x:\n",
        "  print(\"Yes, there is a match!\")\n",
        "else:\n",
        "  print(\"No match\")"
      ],
      "metadata": {
        "colab": {
          "base_uri": "https://localhost:8080/"
        },
        "id": "y4wkp_EEZ4a4",
        "outputId": "fbdf2307-eef4-46b2-f2f4-d24accd02783"
      },
      "execution_count": null,
      "outputs": [
        {
          "output_type": "stream",
          "name": "stdout",
          "text": [
            "['Extensive']\n",
            "Yes, there is a match!\n"
          ]
        }
      ]
    },
    {
      "cell_type": "code",
      "source": [
        "import re\n",
        "\n",
        "txt = \"Extensive basic The data types are supported, Variables can be strongly typed as well as dynamic typed\"\n",
        "\n",
        "#Check if \"The\" is present in the given input:\n",
        "x = re.findall(r\"\\bThe\", txt)\n",
        "\n",
        "print(x)\n",
        "\n",
        "if x:\n",
        "  print(\"Yes, there is a match!\")\n",
        "else:\n",
        "  print(\"No match\")\n",
        "\n"
      ],
      "metadata": {
        "colab": {
          "base_uri": "https://localhost:8080/"
        },
        "id": "6CdVbuAxN1Zo",
        "outputId": "0b742822-ffb2-42c9-bfb8-532efe3589bb"
      },
      "execution_count": null,
      "outputs": [
        {
          "output_type": "stream",
          "name": "stdout",
          "text": [
            "['The']\n",
            "Yes, there is a match!\n"
          ]
        }
      ]
    },
    {
      "cell_type": "code",
      "source": [
        "import re\n",
        "\n",
        "txt = \"Extensive basic data types are supported, Variables can be strongly typed as well as dynamic typed\"\n",
        "\n",
        "#Check if \"ic\" is present at the end of a WORD:\n",
        "x = re.findall(r\"ic\\b\", txt)\n",
        "\n",
        "print(x)\n",
        "\n",
        "if x:\n",
        "  print(\"Yes, there is a match!\")\n",
        "else:\n",
        "  print(\"No match\")\n",
        "\n"
      ],
      "metadata": {
        "colab": {
          "base_uri": "https://localhost:8080/"
        },
        "id": "jSSexFTfvfOU",
        "outputId": "d2fa4a0f-1723-41b6-9803-23c0de8adcf7"
      },
      "execution_count": null,
      "outputs": [
        {
          "output_type": "stream",
          "name": "stdout",
          "text": [
            "['ic', 'ic']\n",
            "Yes, there is a match!\n"
          ]
        }
      ]
    },
    {
      "cell_type": "code",
      "source": [
        "import re\n",
        "\n",
        "txt = \"Python was created by Guido van Rossum, and released in 1991.\"\n",
        "\n",
        "#Find all digit characters:\n",
        "\n",
        "x = re.findall(\"\\d\", txt)\n",
        "print(x)"
      ],
      "metadata": {
        "colab": {
          "base_uri": "https://localhost:8080/"
        },
        "id": "g4B5urpH4b9d",
        "outputId": "c466b80b-4cca-4fdf-e196-3ebf2665c86b"
      },
      "execution_count": null,
      "outputs": [
        {
          "output_type": "stream",
          "name": "stdout",
          "text": [
            "['1', '9', '9', '1']\n"
          ]
        }
      ]
    },
    {
      "cell_type": "code",
      "source": [
        "import re\n",
        "\n",
        "txt = \"Python was created by Guido van Rossum, and released in 1991.\"\n",
        "\n",
        "#Return a match at every no-digit character:\n",
        "\n",
        "x = re.findall(\"\\D\", txt)\n",
        "print(x)"
      ],
      "metadata": {
        "colab": {
          "base_uri": "https://localhost:8080/"
        },
        "id": "uJ_b_NsV4hTp",
        "outputId": "a8a903ab-eeca-4615-d178-a31d9eb5c0d2"
      },
      "execution_count": null,
      "outputs": [
        {
          "output_type": "stream",
          "name": "stdout",
          "text": [
            "['P', 'y', 't', 'h', 'o', 'n', ' ', 'w', 'a', 's', ' ', 'c', 'r', 'e', 'a', 't', 'e', 'd', ' ', 'b', 'y', ' ', 'G', 'u', 'i', 'd', 'o', ' ', 'v', 'a', 'n', ' ', 'R', 'o', 's', 's', 'u', 'm', ',', ' ', 'a', 'n', 'd', ' ', 'r', 'e', 'l', 'e', 'a', 's', 'e', 'd', ' ', 'i', 'n', ' ', '.']\n"
          ]
        }
      ]
    },
    {
      "cell_type": "code",
      "source": [
        "import re\n",
        "\n",
        "txt = \"Python was created by Guido van Rossum, and released in 1991.\"\n",
        "\n",
        "#Return a match at every white-space character:\n",
        "\n",
        "x = re.findall(\"\\s\", txt)\n",
        "print(x)"
      ],
      "metadata": {
        "colab": {
          "base_uri": "https://localhost:8080/"
        },
        "id": "oEVSyUOw535z",
        "outputId": "6a27172a-2a22-4b7e-a35a-0be1a1995ba3"
      },
      "execution_count": null,
      "outputs": [
        {
          "output_type": "stream",
          "name": "stdout",
          "text": [
            "[' ', ' ', ' ', ' ', ' ', ' ', ' ', ' ', ' ', ' ']\n"
          ]
        }
      ]
    },
    {
      "cell_type": "code",
      "source": [
        "import re\n",
        "\n",
        "txt = \"Python was created by Guido van Rossum, and released in 1991.\"\n",
        "\n",
        "#Return a match at every NON white-space character:\n",
        "\n",
        "x = re.findall(\"\\S\", txt)\n",
        "print(x)"
      ],
      "metadata": {
        "colab": {
          "base_uri": "https://localhost:8080/"
        },
        "id": "GqWs_P786LlR",
        "outputId": "e677eb74-9507-4a34-d299-a2e925b6b724"
      },
      "execution_count": null,
      "outputs": [
        {
          "output_type": "stream",
          "name": "stdout",
          "text": [
            "['P', 'y', 't', 'h', 'o', 'n', 'w', 'a', 's', 'c', 'r', 'e', 'a', 't', 'e', 'd', 'b', 'y', 'G', 'u', 'i', 'd', 'o', 'v', 'a', 'n', 'R', 'o', 's', 's', 'u', 'm', ',', 'a', 'n', 'd', 'r', 'e', 'l', 'e', 'a', 's', 'e', 'd', 'i', 'n', '1', '9', '9', '1', '.']\n"
          ]
        }
      ]
    },
    {
      "cell_type": "code",
      "source": [
        "import re\n",
        "\n",
        "txt = \"Python was created by Guido van Rossum, and released in 1991.\"\n",
        "\n",
        "#Return a match at every word character (characters from a to Z, digits from 0-9, and the underscore _ character):\n",
        "\n",
        "x = re.findall(\"\\w\", txt)\n",
        "print(x)"
      ],
      "metadata": {
        "colab": {
          "base_uri": "https://localhost:8080/"
        },
        "id": "jg2Mgv7o6Twd",
        "outputId": "5dc1cb42-6c37-4852-e250-d7ce2254b7e6"
      },
      "execution_count": null,
      "outputs": [
        {
          "output_type": "stream",
          "name": "stdout",
          "text": [
            "['P', 'y', 't', 'h', 'o', 'n', 'w', 'a', 's', 'c', 'r', 'e', 'a', 't', 'e', 'd', 'b', 'y', 'G', 'u', 'i', 'd', 'o', 'v', 'a', 'n', 'R', 'o', 's', 's', 'u', 'm', 'a', 'n', 'd', 'r', 'e', 'l', 'e', 'a', 's', 'e', 'd', 'i', 'n', '1', '9', '9', '1']\n"
          ]
        }
      ]
    },
    {
      "cell_type": "code",
      "source": [
        "import re\n",
        "\n",
        "txt = \"Python was created by Guido van Rossum, and released in 1991.\"\n",
        "\n",
        "#Return a match at every NON word character (characters NOT between a and Z. Like \"!\", \"?\" white-space etc.):\n",
        "\n",
        "x = re.findall(\"\\W\", txt)\n",
        "print(x)"
      ],
      "metadata": {
        "colab": {
          "base_uri": "https://localhost:8080/"
        },
        "id": "LQl8UBKo6hO4",
        "outputId": "debb3dfe-a66b-44e9-88a6-a0b7557fca16"
      },
      "execution_count": null,
      "outputs": [
        {
          "output_type": "stream",
          "name": "stdout",
          "text": [
            "[' ', ' ', ' ', ' ', ' ', ' ', ',', ' ', ' ', ' ', ' ', '.']\n"
          ]
        }
      ]
    },
    {
      "cell_type": "code",
      "source": [
        "import re\n",
        "\n",
        "txt = \"Python was created by Guido van Rossum, and released in 1991.\"\n",
        "\n",
        "#Check if the string ends with \"1991.\":\n",
        "\n",
        "x = re.findall(\"1991.\\Z\", txt)\n",
        "print(x)"
      ],
      "metadata": {
        "colab": {
          "base_uri": "https://localhost:8080/"
        },
        "id": "obhnXbV_65I5",
        "outputId": "5824c294-8f61-44b7-8346-743ae702aa24"
      },
      "execution_count": null,
      "outputs": [
        {
          "output_type": "stream",
          "name": "stdout",
          "text": [
            "['1991.']\n"
          ]
        }
      ]
    },
    {
      "cell_type": "markdown",
      "source": [
        "**Python RegEx - Sets**"
      ],
      "metadata": {
        "id": "fkyMhIi98NrS"
      }
    },
    {
      "cell_type": "code",
      "source": [
        "import re\n",
        "\n",
        "txt = \"Python was created by Guido van Rossum, and released in 1991.\"\n",
        "\n",
        "#Returns a match when any of the mentioned characters is present\n",
        "\n",
        "x = re.findall(\"[abc]\", txt)\n",
        "print(x)"
      ],
      "metadata": {
        "colab": {
          "base_uri": "https://localhost:8080/"
        },
        "id": "LSoeDFqy8RGI",
        "outputId": "9b335993-6424-4bee-af2b-6da709588ada"
      },
      "execution_count": null,
      "outputs": [
        {
          "output_type": "stream",
          "name": "stdout",
          "text": [
            "['a', 'c', 'a', 'b', 'a', 'a', 'a']\n"
          ]
        }
      ]
    },
    {
      "cell_type": "code",
      "source": [
        "import re\n",
        "\n",
        "txt = \"Python was created by Guido van Rossum, and released in 1991.\"\n",
        "\n",
        "#Returns a match when any of the mentioned characters [a to c] is present\n",
        "\n",
        "x = re.findall(\"[a-c]\", txt)\n",
        "print(x)"
      ],
      "metadata": {
        "colab": {
          "base_uri": "https://localhost:8080/"
        },
        "id": "cfvHAIg88l4B",
        "outputId": "4b00caca-ef54-4290-d08e-6364c87b5ab7"
      },
      "execution_count": null,
      "outputs": [
        {
          "output_type": "stream",
          "name": "stdout",
          "text": [
            "['a', 'c', 'a', 'b', 'a', 'a', 'a']\n"
          ]
        }
      ]
    },
    {
      "cell_type": "code",
      "source": [
        "import re\n",
        "\n",
        "txt = \"Python was created by Guido van Rossum, and released in 1991.\"\n",
        "\n",
        "##Returns a match when any of the mentioned characters is not present\n",
        "\n",
        "x = re.findall(\"[^abc]\", txt)\n",
        "print(x)"
      ],
      "metadata": {
        "colab": {
          "base_uri": "https://localhost:8080/"
        },
        "id": "FZwbkof38s3F",
        "outputId": "340570f8-7c3c-4f4c-e93b-7aad503416ca"
      },
      "execution_count": null,
      "outputs": [
        {
          "output_type": "stream",
          "name": "stdout",
          "text": [
            "['P', 'y', 't', 'h', 'o', 'n', ' ', 'w', 's', ' ', 'r', 'e', 't', 'e', 'd', ' ', 'y', ' ', 'G', 'u', 'i', 'd', 'o', ' ', 'v', 'n', ' ', 'R', 'o', 's', 's', 'u', 'm', ',', ' ', 'n', 'd', ' ', 'r', 'e', 'l', 'e', 's', 'e', 'd', ' ', 'i', 'n', ' ', '1', '9', '9', '1', '.']\n"
          ]
        }
      ]
    },
    {
      "cell_type": "code",
      "source": [
        "import re\n",
        "\n",
        "txt = \"Python was created by Guido van Rossum, and released in 1991.\"\n",
        "\n",
        "#Check if the string has any 0, 1, 2, 3, 4 or 5 digits:\n",
        "\n",
        "x = re.findall(\"[012345]\", txt)\n",
        "#x = re.findall(\"[0-5]\", txt)\n",
        "print(x)"
      ],
      "metadata": {
        "colab": {
          "base_uri": "https://localhost:8080/"
        },
        "id": "BreC1HRt8xcx",
        "outputId": "35985ad5-3da6-45a3-b0d6-6f1e9e54cf89"
      },
      "execution_count": null,
      "outputs": [
        {
          "output_type": "stream",
          "name": "stdout",
          "text": [
            "['1', '1']\n"
          ]
        }
      ]
    },
    {
      "cell_type": "code",
      "source": [
        "import re\n",
        "\n",
        "txt = \"Python was created by Guido van Rossum, and released in 1991.\"\n",
        "\n",
        "#Check if the string has any numbers between 0, to 9 digits:\n",
        "\n",
        "x = re.findall(\"[0-9]\", txt)\n",
        "print(x)"
      ],
      "metadata": {
        "colab": {
          "base_uri": "https://localhost:8080/"
        },
        "id": "PRUshuXR9N1T",
        "outputId": "e2c70c53-a911-4600-e0d3-0578cc71ca52"
      },
      "execution_count": null,
      "outputs": [
        {
          "output_type": "stream",
          "name": "stdout",
          "text": [
            "['1', '9', '9', '1']\n"
          ]
        }
      ]
    },
    {
      "cell_type": "code",
      "source": [
        "import re\n",
        "\n",
        "txt = \"Python was created by Guido van Rossum, and released in 1991. Jan 16 12:00 PM\"\n",
        "\n",
        "#Check if the string has any two-digit numbers, from 00 to 99:\n",
        "\n",
        "x = re.findall(\"[0-9][0-9]\", txt)\n",
        "print(x)"
      ],
      "metadata": {
        "colab": {
          "base_uri": "https://localhost:8080/"
        },
        "id": "v1wcOT0U-WHM",
        "outputId": "46f87318-b9d5-4b80-cb4e-f2e0d501f796"
      },
      "execution_count": null,
      "outputs": [
        {
          "output_type": "stream",
          "name": "stdout",
          "text": [
            "['19', '91', '16', '12', '00']\n"
          ]
        }
      ]
    },
    {
      "cell_type": "code",
      "source": [
        "import re\n",
        "\n",
        "txt = \"Python was created by Guido van Rossum, and released in 1991. Jan 16 12:00 PM\"\n",
        "\n",
        "#Check if the string has any two-digit numbers, from 00 to 99:\n",
        "\n",
        "x = re.findall(\"[0-9][0-9][0-9][0-9]\", txt)\n",
        "print(x)"
      ],
      "metadata": {
        "colab": {
          "base_uri": "https://localhost:8080/"
        },
        "id": "kzdHkRfr-9l9",
        "outputId": "186926c4-bf79-444b-80bb-38d3c06902f6"
      },
      "execution_count": null,
      "outputs": [
        {
          "output_type": "stream",
          "name": "stdout",
          "text": [
            "['1991']\n"
          ]
        }
      ]
    },
    {
      "cell_type": "code",
      "source": [
        "import re\n",
        "\n",
        "txt = \"Python was created by Guido van Rossum, and released in 1991. Jan 16 12:00 PM\"\n",
        "\n",
        "#Check if the string has any characters from a to z lower case, and A to Z upper case:\n",
        "\n",
        "x = re.findall(\"[a-zA-Z]\", txt)\n",
        "print(x)"
      ],
      "metadata": {
        "colab": {
          "base_uri": "https://localhost:8080/"
        },
        "id": "noipguke-n9_",
        "outputId": "f04ae586-f90e-4354-a968-c82861c6b2b9"
      },
      "execution_count": null,
      "outputs": [
        {
          "output_type": "stream",
          "name": "stdout",
          "text": [
            "['P', 'y', 't', 'h', 'o', 'n', 'w', 'a', 's', 'c', 'r', 'e', 'a', 't', 'e', 'd', 'b', 'y', 'G', 'u', 'i', 'd', 'o', 'v', 'a', 'n', 'R', 'o', 's', 's', 'u', 'm', 'a', 'n', 'd', 'r', 'e', 'l', 'e', 'a', 's', 'e', 'd', 'i', 'n', 'J', 'a', 'n', 'P', 'M']\n"
          ]
        }
      ]
    },
    {
      "cell_type": "code",
      "source": [
        "import re\n",
        "\n",
        "txt = \"Python was created by Guido van Rossum, and released in 1991 & Jan 16 12:00 PM\"\n",
        "\n",
        "#Check if the string has any characters from a to z lower case, and A to Z upper case:\n",
        "\n",
        "x = re.findall(\"[&]\", txt)\n",
        "print(x)"
      ],
      "metadata": {
        "colab": {
          "base_uri": "https://localhost:8080/"
        },
        "id": "QihVC51P--Xv",
        "outputId": "eea489db-697e-40bc-d362-fa3910cbdcfd"
      },
      "execution_count": null,
      "outputs": [
        {
          "output_type": "stream",
          "name": "stdout",
          "text": [
            "['&']\n"
          ]
        }
      ]
    },
    {
      "cell_type": "markdown",
      "source": [
        "**email address validation using Python Regx**"
      ],
      "metadata": {
        "id": "QgYWlykLMxaF"
      }
    },
    {
      "cell_type": "code",
      "source": [
        "ip = 'python support email id is ravichandranr@outlook.com'\n",
        "match1 = re.search(r'[\\w.+-]', ip)\n",
        "print(match1)\n",
        "match2 = re.search(r'[\\w.+-]+@[\\w-]', ip)\n",
        "print(match2)\n",
        "match = re.search(r'[\\w.+-]+@[\\w-]+\\.[\\w.-]+', ip)\n",
        "\n",
        "print(match)\n",
        "print(match.group(0))"
      ],
      "metadata": {
        "colab": {
          "base_uri": "https://localhost:8080/"
        },
        "id": "DMkTPi7lnjgo",
        "outputId": "2c5acc15-d35c-4f33-fc4b-2617a73c7578"
      },
      "execution_count": null,
      "outputs": [
        {
          "output_type": "stream",
          "name": "stdout",
          "text": [
            "<re.Match object; span=(0, 1), match='p'>\n",
            "<re.Match object; span=(27, 42), match='ravichandranr@o'>\n",
            "<re.Match object; span=(27, 52), match='ravichandranr@outlook.com'>\n",
            "ravichandranr@outlook.com\n"
          ]
        }
      ]
    },
    {
      "cell_type": "code",
      "source": [
        "import re\n",
        "\n",
        "def check(s):\n",
        "    pat = r'\\b[A-Za-z0-9._%+-]+@[A-Za-z0-9.-]+\\.[A-Z|a-z]{2,}\\b'\n",
        "    if re.match(pat,s):\n",
        "        print(\"Valid Email\")\n",
        "    else:\n",
        "        print(\"Invalid Email\")\n",
        "\n",
        "email = \"test321@gmail.com\"\n",
        "result = check(email)\n",
        "print(result)"
      ],
      "metadata": {
        "colab": {
          "base_uri": "https://localhost:8080/"
        },
        "id": "A_ppH0SkWQ0w",
        "outputId": "9fd09ae2-10f1-4e16-a390-4fc33a59f12a"
      },
      "execution_count": null,
      "outputs": [
        {
          "output_type": "stream",
          "name": "stdout",
          "text": [
            "Valid Email\n",
            "None\n"
          ]
        }
      ]
    },
    {
      "cell_type": "code",
      "source": [
        "import re\n",
        "\n",
        "txt = \"Python released in 1991 & Jan 16 12:00 ._PM\"\n",
        "txt1 = 'hi test_email@gmail.com'\n",
        "\n",
        "txt2 = 'hi test_email@outlook.com'\n",
        "#x = re.findall(\"\\b[a-z]\", txt)\n",
        "\n",
        "match1 = re.findall(r\"[A-Za-z0-9._%+-]\", txt1)\n",
        "match2 = re.findall(r\"@[A-Za-z0-9.-]{2,6}\", txt1)\n",
        "match3 = re.findall(r\"\\.[A-Za-z]\", txt1)\n",
        "\n",
        "print(match1)\n",
        "print(match2)\n",
        "print(match3)\n",
        "\n",
        "reg1 = re.findall(r\"[A-Za-z0-9._%+-]+@[A-Za-z0-9.-]\", txt2)\n",
        "print(reg1)\n",
        "\n",
        "reg2 = re.findall(r\"[A-Za-z0-9._%+-]+\"\n",
        "                  r\"@[A-Za-z0-9.-]+\"\n",
        "                  r\"\\.[A-Za-z]{2,4}\", txt2)\n",
        "print(reg2)"
      ],
      "metadata": {
        "colab": {
          "base_uri": "https://localhost:8080/"
        },
        "id": "KncTSA7YX16t",
        "outputId": "5a25d73c-686c-40c9-ce86-c3708ee5e0bf"
      },
      "execution_count": null,
      "outputs": [
        {
          "output_type": "stream",
          "name": "stdout",
          "text": [
            "['h', 'i', 't', 'e', 's', 't', '_', 'e', 'm', 'a', 'i', 'l', 'g', 'm', 'a', 'i', 'l', '.', 'c', 'o', 'm']\n",
            "['@gmail.']\n",
            "['.c']\n",
            "['test_email@o']\n",
            "['test_email@outlook.com']\n"
          ]
        }
      ]
    }
  ]
}