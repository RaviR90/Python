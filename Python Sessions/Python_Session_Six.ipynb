{
  "nbformat": 4,
  "nbformat_minor": 0,
  "metadata": {
    "colab": {
      "provenance": []
    },
    "kernelspec": {
      "name": "python3",
      "display_name": "Python 3"
    },
    "language_info": {
      "name": "python"
    }
  },
  "cells": [
    {
      "cell_type": "markdown",
      "source": [
        "# Python - if, elif, else Conditions:\n",
        "\n",
        "**Python uses the if keyword to implement decision control.**\n",
        "\n",
        "*   Equals: a == b\n",
        "*   Not Equals: a != b\n",
        "*   Less than: a < b\n",
        "*   Less than or equal to: a <= b\n",
        "*   Greater than: a > b\n",
        "*   Greater than or equal to: a >= b\n",
        "\n",
        "**Python is recommended to use 4 spaces or a tab as the default indentation level for more readability.**\n"
      ],
      "metadata": {
        "id": "4rbymdM2i37b"
      }
    },
    {
      "cell_type": "code",
      "source": [
        "salary = 5000\n",
        "\n",
        "if salary < 10000:\n",
        "    print(\"salary is less than 10000\")"
      ],
      "metadata": {
        "colab": {
          "base_uri": "https://localhost:8080/"
        },
        "id": "1q72d28mngYk",
        "outputId": "32f6880a-6ebf-4b1a-9148-9e05e94b5537"
      },
      "execution_count": null,
      "outputs": [
        {
          "output_type": "stream",
          "name": "stdout",
          "text": [
            "salary is less than 10000\n"
          ]
        }
      ]
    },
    {
      "cell_type": "code",
      "source": [
        "salary = 5000\n",
        "months = 5\n",
        "if salary * months < 50000:\n",
        "    print(\"5 months salary is less than 50000\")\n",
        "    print(\"salary = \", salary)\n",
        "    print(\"months = \", months)"
      ],
      "metadata": {
        "colab": {
          "base_uri": "https://localhost:8080/"
        },
        "id": "OxFkAyiVrLKH",
        "outputId": "d2328976-954a-4e90-e162-e38dd8f906f2"
      },
      "execution_count": null,
      "outputs": [
        {
          "output_type": "stream",
          "name": "stdout",
          "text": [
            "5 months salary is less than 50000\n",
            "salary =  5000\n",
            "months =  5\n"
          ]
        }
      ]
    },
    {
      "cell_type": "markdown",
      "source": [
        "**Multiple if Conditions**"
      ],
      "metadata": {
        "id": "DTA2XsMisKhv"
      }
    },
    {
      "cell_type": "code",
      "source": [
        "salary = 10000\n",
        "\n",
        "if salary > 10000:\n",
        " print(\"salary is greater than\" + str(salary))\n",
        " print(\"salary is greater than\" + str(salary))\n",
        "\n",
        "print(\"salary is greater than\" + str(salary))\n",
        "\n",
        "if salary == 10000:\n",
        "  print(\"salary is 10000\")\n",
        "\n",
        "if salary < 100000:\n",
        "    print(\"salary is less than 100000\")\n",
        "\n",
        "\n",
        "#nested if condition\n",
        "if salary == 10000:\n",
        "  print(\"salary is 10000\")\n",
        "  if salary < 100000:\n",
        "    print(\"salary is less than 100000\")\n",
        "\n"
      ],
      "metadata": {
        "colab": {
          "base_uri": "https://localhost:8080/"
        },
        "id": "kFgcpKEAsLoR",
        "outputId": "ee70d341-558e-46bb-b9ce-573c8985908b"
      },
      "execution_count": null,
      "outputs": [
        {
          "output_type": "stream",
          "name": "stdout",
          "text": [
            "salary is 10000\n",
            "salary is less than 100000\n",
            "salary is 10000\n",
            "salary is less than 100000\n"
          ]
        }
      ]
    },
    {
      "cell_type": "markdown",
      "source": [
        "**else Condition**\n",
        "\n",
        "The else keyword catches anything which isn't caught by the preceding conditions.\n",
        "\n",
        "the else condition can be optionally used to define an alternate block of statements"
      ],
      "metadata": {
        "id": "gc8OB3wus4vr"
      }
    },
    {
      "cell_type": "code",
      "source": [
        "x = 200\n",
        "y = 100\n",
        "if y > x:\n",
        "  print(\"y is greater than x\")\n",
        "else:\n",
        "  print(\"y is not greater than x\")\n",
        "\n",
        "print('Hi')"
      ],
      "metadata": {
        "colab": {
          "base_uri": "https://localhost:8080/"
        },
        "id": "rilNC-1us6Ne",
        "outputId": "b14bc004-df78-4fb5-e655-4ccf6d6c448b"
      },
      "execution_count": null,
      "outputs": [
        {
          "output_type": "stream",
          "name": "stdout",
          "text": [
            "y is not greater than x\n",
            "Hi\n"
          ]
        }
      ]
    },
    {
      "cell_type": "code",
      "source": [
        "salary = 50000\n",
        "\n",
        "if salary < 10000:\n",
        "    print(\"salary is less than 10000\")\n",
        "else:\n",
        "    print(\"salary is greater than 10000\")"
      ],
      "metadata": {
        "colab": {
          "base_uri": "https://localhost:8080/"
        },
        "id": "VVE1L1DOuBLD",
        "outputId": "4e6d35b0-e5a4-4935-e33f-c2f93efdd1d2"
      },
      "execution_count": null,
      "outputs": [
        {
          "output_type": "stream",
          "name": "stdout",
          "text": [
            "salary is greater than 10000\n"
          ]
        }
      ]
    },
    {
      "cell_type": "markdown",
      "source": [
        "**elif Condition**\n",
        "\n",
        "elif condition is used to inclde multiple conditional expressions after the if condition or between the if and else conditions.\n",
        "\n",
        "Syntax\n",
        "\n",
        "if [boolean expression]:\n",
        "\n",
        "    [statements]\n",
        "\n",
        "elif [boolean expresion]:\n",
        "\n",
        "    [statements]\n",
        "\n",
        "elif [boolean expresion]:\n",
        "\n",
        "    [statements]\n",
        "\n",
        "else:\n",
        "\n",
        "    [statements]\n"
      ],
      "metadata": {
        "id": "liAHUM1bvurh"
      }
    },
    {
      "cell_type": "code",
      "source": [
        "x, y = 100, 100\n",
        "if y > x:\n",
        "  print(\"y is greater than x\")\n",
        "elif x == y:\n",
        "  print(\"x and y are equal\")"
      ],
      "metadata": {
        "colab": {
          "base_uri": "https://localhost:8080/"
        },
        "id": "dR-mhWFWwFBS",
        "outputId": "f291c802-7589-43b4-9b5f-7b9cacb40b07"
      },
      "execution_count": 2,
      "outputs": [
        {
          "output_type": "stream",
          "name": "stdout",
          "text": [
            "x and y are equal\n"
          ]
        }
      ]
    },
    {
      "cell_type": "code",
      "source": [
        "salary = 10000\n",
        "\n",
        "if salary > 10000:\n",
        "    print(\"salary is greater than 10000\")\n",
        "elif salary != 10000:\n",
        "    print(\"salary is 10000\")\n",
        "elif salary < 100000:\n",
        "    print(\"salary is less than 100000\")"
      ],
      "metadata": {
        "colab": {
          "base_uri": "https://localhost:8080/"
        },
        "id": "HFyRhbEjwi6n",
        "outputId": "16e2e1d1-0d4c-4adf-d07c-b0e04e5bb6d1"
      },
      "execution_count": null,
      "outputs": [
        {
          "output_type": "stream",
          "name": "stdout",
          "text": [
            "salary is less than 100000\n"
          ]
        }
      ]
    },
    {
      "cell_type": "code",
      "source": [
        "#short if\n",
        "#This technique is known as Ternary Operators, or Conditional Expressions.\n",
        "x, y = 200, 100\n",
        "if x > y: print(\"x is greater than y\")\n",
        "\n",
        "##Normal if condition\n",
        "if x > y:\n",
        "  print(\"x is greater than y\")"
      ],
      "metadata": {
        "colab": {
          "base_uri": "https://localhost:8080/"
        },
        "id": "P-AtZTqXwvsF",
        "outputId": "3204b0c7-77bd-4525-c82c-0eeda6141a92"
      },
      "execution_count": null,
      "outputs": [
        {
          "output_type": "stream",
          "name": "stdout",
          "text": [
            "x is greater than y\n"
          ]
        }
      ]
    },
    {
      "cell_type": "code",
      "source": [
        "x, y = 200, 100\n",
        "#short hand if ... else\n",
        "print(\"X\") if x > y else print(\"Y\")"
      ],
      "metadata": {
        "colab": {
          "base_uri": "https://localhost:8080/"
        },
        "id": "qv-cTfdEw_sM",
        "outputId": "cd0abdc9-a693-4252-ac47-05af450132c6"
      },
      "execution_count": null,
      "outputs": [
        {
          "output_type": "stream",
          "name": "stdout",
          "text": [
            "X\n"
          ]
        }
      ]
    },
    {
      "cell_type": "code",
      "source": [
        "x = 100\n",
        "y = 100\n",
        "if y > x:\n",
        "  print(\"y is greater than x\")\n",
        "elif x == y:\n",
        "  print(\"x and y are equal\")\n",
        "\n",
        "print(\"X\") if x > y else print(\"=\") if x == y else print(\"Y\")"
      ],
      "metadata": {
        "colab": {
          "base_uri": "https://localhost:8080/"
        },
        "id": "A5J3TRoIx_0v",
        "outputId": "57a37bb3-ef48-4dcc-aed5-a07934d1d9cc"
      },
      "execution_count": null,
      "outputs": [
        {
          "output_type": "stream",
          "name": "stdout",
          "text": [
            "x and y are equal\n",
            "=\n"
          ]
        }
      ]
    },
    {
      "cell_type": "markdown",
      "source": [
        "**Logical Operators with if conditions**"
      ],
      "metadata": {
        "id": "GNkv7B_tyem9"
      }
    },
    {
      "cell_type": "code",
      "source": [
        "#and\n",
        "x = 300\n",
        "y = 200\n",
        "z = 500\n",
        "if x > y and z > x:\n",
        "  print(\"Both conditions are True\")\n",
        "\n",
        "if x > y & z > x:\n",
        "  print(\"Both conditions are True\")"
      ],
      "metadata": {
        "colab": {
          "base_uri": "https://localhost:8080/"
        },
        "id": "GtM4rmxXykUs",
        "outputId": "8eae487e-0b10-432b-e212-d5e362e8a5be"
      },
      "execution_count": null,
      "outputs": [
        {
          "output_type": "stream",
          "name": "stdout",
          "text": [
            "Both conditions are True\n"
          ]
        }
      ]
    },
    {
      "cell_type": "code",
      "source": [
        "#or\n",
        "x = 100\n",
        "y = 200\n",
        "z = 500\n",
        "\n",
        "if x > y or z > x:\n",
        "    print('test or logical operator')\n",
        "    print('test or logical operator')\n"
      ],
      "metadata": {
        "colab": {
          "base_uri": "https://localhost:8080/"
        },
        "id": "miLoMHPozAbl",
        "outputId": "aaa9e9e9-9272-4924-ab45-9158341f07ba"
      },
      "execution_count": null,
      "outputs": [
        {
          "output_type": "stream",
          "name": "stdout",
          "text": [
            "test or logical operator\n",
            "test or logical operator\n"
          ]
        }
      ]
    },
    {
      "cell_type": "markdown",
      "source": [
        "# Python Loops\n",
        "\n",
        "\n",
        "*   while loops\n",
        "*   for loops\n",
        "\n",
        "while loop we can execute a set of statements as long as a condition is true.\n",
        "\n",
        "**remember to increment i, or else the loop will continue forever.**"
      ],
      "metadata": {
        "id": "VFC6yJfMzadg"
      }
    },
    {
      "cell_type": "code",
      "source": [
        "num = 0\n",
        "\n",
        "while num < 5:\n",
        "    # num += 1 is same as num = num + 1\n",
        "    num += 1\n",
        "    print('num = ', num)"
      ],
      "metadata": {
        "colab": {
          "base_uri": "https://localhost:8080/"
        },
        "id": "T8tZrbEq1lOs",
        "outputId": "54359dbd-882f-4cee-e74e-48ccc8b7aa38"
      },
      "execution_count": null,
      "outputs": [
        {
          "output_type": "stream",
          "name": "stdout",
          "text": [
            "num =  1\n",
            "num =  2\n",
            "num =  3\n",
            "num =  4\n",
            "num =  5\n"
          ]
        }
      ]
    },
    {
      "cell_type": "markdown",
      "source": [
        "**Exit from the While Loop**"
      ],
      "metadata": {
        "id": "A1izN26c2JUd"
      }
    },
    {
      "cell_type": "code",
      "source": [
        "num = 0\n",
        "\n",
        "while num < 5:\n",
        "    num += 1\n",
        "    print('num = ', num)\n",
        "    if num == 3: # condition before exiting a loop\n",
        "        break"
      ],
      "metadata": {
        "colab": {
          "base_uri": "https://localhost:8080/"
        },
        "id": "KFTgnij82Kpi",
        "outputId": "5aab41a3-c417-43c9-8587-b761d67bd4a7"
      },
      "execution_count": null,
      "outputs": [
        {
          "output_type": "stream",
          "name": "stdout",
          "text": [
            "num =  1\n",
            "num =  2\n",
            "num =  3\n"
          ]
        }
      ]
    },
    {
      "cell_type": "markdown",
      "source": [
        "**Continue Next Iteration**"
      ],
      "metadata": {
        "id": "JyAIxubm2UlQ"
      }
    },
    {
      "cell_type": "code",
      "source": [
        "num = 0\n",
        "\n",
        "while num < 5:\n",
        "\tnum += 1\n",
        "\tif num == 3: # condition before exiting a loop\n",
        "\t\tcontinue\n",
        "\tprint('num = ', num)"
      ],
      "metadata": {
        "colab": {
          "base_uri": "https://localhost:8080/"
        },
        "id": "d3Vpruxy2V5B",
        "outputId": "0a08b235-acf1-425e-fd66-8845d32e1606"
      },
      "execution_count": null,
      "outputs": [
        {
          "output_type": "stream",
          "name": "stdout",
          "text": [
            "num =  1\n",
            "num =  2\n",
            "num =  4\n",
            "num =  5\n"
          ]
        }
      ]
    },
    {
      "cell_type": "code",
      "source": [
        "num = 0\n",
        "\n",
        "while num < 5:\n",
        "\tnum += 1\n",
        "\tif num > 3: # condition before exiting a loop\n",
        "\t\tcontinue\n",
        "\tprint('num = ', num)"
      ],
      "metadata": {
        "colab": {
          "base_uri": "https://localhost:8080/"
        },
        "id": "LJef8xsM36Mq",
        "outputId": "151325b0-cd5e-49de-8814-0a442f528cff"
      },
      "execution_count": null,
      "outputs": [
        {
          "output_type": "stream",
          "name": "stdout",
          "text": [
            "num =  1\n",
            "num =  2\n",
            "num =  3\n"
          ]
        }
      ]
    },
    {
      "cell_type": "code",
      "source": [
        "num = 0\n",
        "\n",
        "while num < 5:\n",
        "\tnum += 1\n",
        "\tif num < 3: # condition before exiting a loop\n",
        "\t\tcontinue\n",
        "\tprint('num = ', num)"
      ],
      "metadata": {
        "colab": {
          "base_uri": "https://localhost:8080/"
        },
        "id": "d0LZJhej39Q8",
        "outputId": "8c71a1ba-c428-4687-9366-1ffeda2e5541"
      },
      "execution_count": null,
      "outputs": [
        {
          "output_type": "stream",
          "name": "stdout",
          "text": [
            "num =  3\n",
            "num =  4\n",
            "num =  5\n"
          ]
        }
      ]
    },
    {
      "cell_type": "markdown",
      "source": [
        "**While loop with else Statement**\n",
        "\n",
        "else statement we can run a block of code once when the condition no longer is true:"
      ],
      "metadata": {
        "id": "aIy6qq6T4pUF"
      }
    },
    {
      "cell_type": "code",
      "source": [
        "x = 1\n",
        "while x < 6:\n",
        "  print(x)\n",
        "  x += 1\n",
        "else:\n",
        "  print(\"x is grater than 6\")\n",
        "  print(\"x is grater than 6\")\n",
        "  print(\"x is grater than 6\")\n",
        "  print(\"x is grater than 6\")"
      ],
      "metadata": {
        "colab": {
          "base_uri": "https://localhost:8080/"
        },
        "id": "Xlu9YLmP4std",
        "outputId": "ee5781ca-8207-4a5f-9b99-9727c21eceae"
      },
      "execution_count": 3,
      "outputs": [
        {
          "output_type": "stream",
          "name": "stdout",
          "text": [
            "1\n",
            "2\n",
            "3\n",
            "4\n",
            "5\n",
            "x is grater than 6\n",
            "x is grater than 6\n",
            "x is grater than 6\n",
            "x is grater than 6\n"
          ]
        }
      ]
    },
    {
      "cell_type": "markdown",
      "source": [
        "# Python For Loops\n",
        "\n",
        "\n",
        "*   A for loop is used for iterating over a sequence.\n",
        "*   The for loop is used with sequence types such as list, tuple, set, range, etc."
      ],
      "metadata": {
        "id": "0_nt82yR5_nY"
      }
    },
    {
      "cell_type": "code",
      "source": [
        "#List\n",
        "nums = [10, 20, 30, 40, 50]\n",
        "\n",
        "for i in nums:\n",
        "  print(i)\n",
        "\n",
        "for x in range(len(nums)):\n",
        "  print(nums[x])\n",
        "\n",
        "# for i in range(5):\n",
        "#   print(i)\n",
        "\n",
        "#Tuple\n",
        "names=(\"Ram\", \"Raja\", \"Arun\", \"Nagesh\")\n",
        "\n",
        "for j in names:\n",
        "  print(j)\n",
        "\n",
        "\n",
        "for x in range(len(names)):\n",
        "  print(names[x])\n",
        "\n",
        "#set\n",
        "set_ex = {1, 2, 3, 4, 5}\n",
        "\n",
        "for iter in set_ex:\n",
        "  print(iter)\n"
      ],
      "metadata": {
        "colab": {
          "base_uri": "https://localhost:8080/"
        },
        "id": "2QkJEL_v6W59",
        "outputId": "1dd0b4be-f7c2-474f-f9e6-b135fea4fd74"
      },
      "execution_count": null,
      "outputs": [
        {
          "output_type": "stream",
          "name": "stdout",
          "text": [
            "10\n",
            "20\n",
            "30\n",
            "40\n",
            "50\n",
            "10\n",
            "20\n",
            "30\n",
            "40\n",
            "50\n",
            "Ram\n",
            "Raja\n",
            "Arun\n",
            "Nagesh\n",
            "Ram\n",
            "Raja\n",
            "Arun\n",
            "Nagesh\n",
            "1\n",
            "2\n",
            "3\n",
            "4\n",
            "5\n"
          ]
        }
      ]
    },
    {
      "cell_type": "code",
      "source": [
        "#Tuple\n",
        "names=(\"Ram\", \"Raja\", \"Arun\", \"Nagesh\")\n",
        "\n",
        "for abc in names:\n",
        "  print(abc)\n"
      ],
      "metadata": {
        "colab": {
          "base_uri": "https://localhost:8080/"
        },
        "id": "Om2ckcXRs1yY",
        "outputId": "2e6a4b8e-4e26-4cf3-c9d6-98c2208d8532"
      },
      "execution_count": null,
      "outputs": [
        {
          "output_type": "stream",
          "name": "stdout",
          "text": [
            "Ram\n",
            "Raja\n",
            "Arun\n",
            "Nagesh\n"
          ]
        }
      ]
    },
    {
      "cell_type": "code",
      "source": [
        "#string\n",
        "x = 'hello world'\n",
        "for i in x:\n",
        "  print(i)"
      ],
      "metadata": {
        "colab": {
          "base_uri": "https://localhost:8080/"
        },
        "id": "mhhQia0O62Kh",
        "outputId": "2c04b942-038b-4591-eab6-42e6f91751b1"
      },
      "execution_count": null,
      "outputs": [
        {
          "output_type": "stream",
          "name": "stdout",
          "text": [
            "h\n",
            "e\n",
            "l\n",
            "l\n",
            "o\n",
            " \n",
            "w\n",
            "o\n",
            "r\n",
            "l\n",
            "d\n"
          ]
        }
      ]
    },
    {
      "cell_type": "code",
      "source": [
        "y = 100000\n",
        "for x in y:\n",
        "  print(x)"
      ],
      "metadata": {
        "colab": {
          "base_uri": "https://localhost:8080/",
          "height": 201
        },
        "id": "6q265_Zm6czv",
        "outputId": "aaee898e-0952-4284-a6ed-5ca779a8a096"
      },
      "execution_count": null,
      "outputs": [
        {
          "output_type": "error",
          "ename": "TypeError",
          "evalue": "ignored",
          "traceback": [
            "\u001b[0;31m---------------------------------------------------------------------------\u001b[0m",
            "\u001b[0;31mTypeError\u001b[0m                                 Traceback (most recent call last)",
            "\u001b[0;32m<ipython-input-8-e9da7977a064>\u001b[0m in \u001b[0;36m<module>\u001b[0;34m\u001b[0m\n\u001b[1;32m      1\u001b[0m \u001b[0my\u001b[0m \u001b[0;34m=\u001b[0m \u001b[0;36m100000\u001b[0m\u001b[0;34m\u001b[0m\u001b[0;34m\u001b[0m\u001b[0m\n\u001b[0;32m----> 2\u001b[0;31m \u001b[0;32mfor\u001b[0m \u001b[0mx\u001b[0m \u001b[0;32min\u001b[0m \u001b[0my\u001b[0m\u001b[0;34m:\u001b[0m\u001b[0;34m\u001b[0m\u001b[0;34m\u001b[0m\u001b[0m\n\u001b[0m\u001b[1;32m      3\u001b[0m   \u001b[0mprint\u001b[0m\u001b[0;34m(\u001b[0m\u001b[0mx\u001b[0m\u001b[0;34m)\u001b[0m\u001b[0;34m\u001b[0m\u001b[0;34m\u001b[0m\u001b[0m\n",
            "\u001b[0;31mTypeError\u001b[0m: 'int' object is not iterable"
          ]
        }
      ]
    },
    {
      "cell_type": "code",
      "source": [
        "y = 100000\n",
        "for x in str(y):\n",
        "  print(x)"
      ],
      "metadata": {
        "colab": {
          "base_uri": "https://localhost:8080/"
        },
        "id": "WVBPS_t-Y5dY",
        "outputId": "4492425a-311b-47ed-ec12-d6453bfd0d5a"
      },
      "execution_count": null,
      "outputs": [
        {
          "output_type": "stream",
          "name": "stdout",
          "text": [
            "1\n",
            "0\n",
            "0\n",
            "0\n",
            "0\n",
            "0\n"
          ]
        }
      ]
    },
    {
      "cell_type": "code",
      "source": [
        "ex_set = {10, 'Raja', 100.5, True}\n",
        "for y in ex_set:\n",
        "  print(y)\n"
      ],
      "metadata": {
        "colab": {
          "base_uri": "https://localhost:8080/"
        },
        "id": "8Q83JLPI9dGp",
        "outputId": "1b8f38bc-e9ac-4d83-a157-c05b5c7cd9e4"
      },
      "execution_count": null,
      "outputs": [
        {
          "output_type": "stream",
          "name": "stdout",
          "text": [
            "Raja\n",
            "10\n",
            "100.5\n",
            "True\n"
          ]
        }
      ]
    },
    {
      "cell_type": "code",
      "source": [
        "roman_nums = {'I':1, 'II':2, 'III':3, 'IV':4, 'V':5} # string key, int value\n",
        "for a in roman_nums.keys():\n",
        "  print(a)\n",
        "\n",
        "# for i in roman_nums:\n",
        "#   print(i)\n",
        "\n",
        "for value in roman_nums.values():\n",
        "  print(value)\n",
        "\n",
        "for k,v in roman_nums.items():\n",
        "    print(\"key = \", k , \", value =\", v)\n",
        "\n",
        "for i in roman_nums:\n",
        "  print(i)\n"
      ],
      "metadata": {
        "colab": {
          "base_uri": "https://localhost:8080/"
        },
        "id": "HLVurhTT9mWf",
        "outputId": "560e0bf2-26ec-4016-8c36-3373e55d2677"
      },
      "execution_count": null,
      "outputs": [
        {
          "output_type": "stream",
          "name": "stdout",
          "text": [
            "I\n",
            "II\n",
            "III\n",
            "IV\n",
            "V\n",
            "1\n",
            "2\n",
            "3\n",
            "4\n",
            "5\n",
            "key =  I , value = 1\n",
            "key =  II , value = 2\n",
            "key =  III , value = 3\n",
            "key =  IV , value = 4\n",
            "key =  V , value = 5\n",
            "I\n",
            "II\n",
            "III\n",
            "IV\n",
            "V\n"
          ]
        }
      ]
    },
    {
      "cell_type": "markdown",
      "source": [
        "**break**"
      ],
      "metadata": {
        "id": "l5y0BpjS-MjG"
      }
    },
    {
      "cell_type": "code",
      "source": [
        "#break\n",
        "for i in range(10):\n",
        "    print(i)\n",
        "    if i == 2:\n",
        "        break"
      ],
      "metadata": {
        "colab": {
          "base_uri": "https://localhost:8080/"
        },
        "id": "vw6Lj51-8TUQ",
        "outputId": "9b2afd32-4fe3-406d-bb64-499836447c39"
      },
      "execution_count": null,
      "outputs": [
        {
          "output_type": "stream",
          "name": "stdout",
          "text": [
            "0\n",
            "1\n",
            "2\n"
          ]
        }
      ]
    },
    {
      "cell_type": "code",
      "source": [
        "#break\n",
        "num = 0\n",
        "for i in range(10):\n",
        "    num += 1\n",
        "    if num == 8:\n",
        "        break\n",
        "    print(\"The num has value:\", num)\n",
        "\n",
        "\n",
        "print(\"Out of loop\")"
      ],
      "metadata": {
        "colab": {
          "base_uri": "https://localhost:8080/"
        },
        "id": "BLqLsWPM9H2k",
        "outputId": "8b83be8f-e148-49ae-dda6-1329a4bdfda2"
      },
      "execution_count": null,
      "outputs": [
        {
          "output_type": "stream",
          "name": "stdout",
          "text": [
            "The num has value: 1\n",
            "The num has value: 2\n",
            "The num has value: 3\n",
            "The num has value: 4\n",
            "The num has value: 5\n",
            "The num has value: 6\n",
            "The num has value: 7\n",
            "Out of loop\n"
          ]
        }
      ]
    },
    {
      "cell_type": "markdown",
      "source": [
        "**continue**"
      ],
      "metadata": {
        "id": "Qo-0NG9w-PEJ"
      }
    },
    {
      "cell_type": "code",
      "source": [
        "for i in range(1, 11):\n",
        "\n",
        "    # If i is equals to 6,\n",
        "    # continue to next iteration\n",
        "    # without printing\n",
        "    lst = [6, 9, 10]\n",
        "    if i in lst:\n",
        "        continue\n",
        "    else:\n",
        "        # otherwise print the value\n",
        "        # of i\n",
        "        print(i, end=\" \")"
      ],
      "metadata": {
        "colab": {
          "base_uri": "https://localhost:8080/"
        },
        "id": "WDYGHs0n4Vpq",
        "outputId": "87932ee7-9dde-45eb-f923-2a3604817707"
      },
      "execution_count": null,
      "outputs": [
        {
          "output_type": "stream",
          "name": "stdout",
          "text": [
            "1 2 3 4 5 7 8 "
          ]
        }
      ]
    },
    {
      "cell_type": "code",
      "source": [
        "for i in range(1, 5):\n",
        "    if i > 3:\n",
        "        continue\n",
        "    print(i)"
      ],
      "metadata": {
        "colab": {
          "base_uri": "https://localhost:8080/"
        },
        "id": "SVERn9fb-Toj",
        "outputId": "cef57e8c-a452-4380-a72c-f4e709b8272e"
      },
      "execution_count": null,
      "outputs": [
        {
          "output_type": "stream",
          "name": "stdout",
          "text": [
            "1\n",
            "2\n",
            "3\n"
          ]
        }
      ]
    },
    {
      "cell_type": "code",
      "source": [
        "for i in range(1, 5):\n",
        "    if i < 3:\n",
        "        continue\n",
        "    print(i)"
      ],
      "metadata": {
        "colab": {
          "base_uri": "https://localhost:8080/"
        },
        "id": "i_hU3n8VW52j",
        "outputId": "52c37977-81f2-4b7d-a0d1-31f2705139c1"
      },
      "execution_count": null,
      "outputs": [
        {
          "output_type": "stream",
          "name": "stdout",
          "text": [
            "3\n",
            "4\n"
          ]
        }
      ]
    },
    {
      "cell_type": "markdown",
      "source": [
        "**else**"
      ],
      "metadata": {
        "id": "PPXlq_zU-Ztm"
      }
    },
    {
      "cell_type": "code",
      "source": [
        "for i in range(5):\n",
        "    print(i)\n",
        "else:\n",
        "     print('End of for loop')"
      ],
      "metadata": {
        "colab": {
          "base_uri": "https://localhost:8080/"
        },
        "id": "lP79CGVU-Yi-",
        "outputId": "a292bef5-97cc-4570-d4d8-f4fb4134d2fc"
      },
      "execution_count": null,
      "outputs": [
        {
          "output_type": "stream",
          "name": "stdout",
          "text": [
            "0\n",
            "1\n",
            "2\n",
            "3\n",
            "4\n",
            "End of for loop\n"
          ]
        }
      ]
    },
    {
      "cell_type": "markdown",
      "source": [
        "**Nested for Loop**"
      ],
      "metadata": {
        "id": "EIDfLtYq-g7d"
      }
    },
    {
      "cell_type": "code",
      "source": [
        "for x in range(1,5):\n",
        "  #1,2,3,4\n",
        "    for y in range(1,3):\n",
        "      #1,2\n",
        "        print('x = ', x, ', y = ', y)"
      ],
      "metadata": {
        "colab": {
          "base_uri": "https://localhost:8080/"
        },
        "id": "XMzUGARs-iBP",
        "outputId": "c4474c6d-6e21-4efa-ec96-0837171dbb21"
      },
      "execution_count": null,
      "outputs": [
        {
          "output_type": "stream",
          "name": "stdout",
          "text": [
            "x =  1 , y =  1\n",
            "x =  1 , y =  2\n",
            "x =  2 , y =  1\n",
            "x =  2 , y =  2\n",
            "x =  3 , y =  1\n",
            "x =  3 , y =  2\n",
            "x =  4 , y =  1\n",
            "x =  4 , y =  2\n"
          ]
        }
      ]
    },
    {
      "cell_type": "code",
      "source": [
        "for y in range(1,3):\n",
        "  print(y)"
      ],
      "metadata": {
        "colab": {
          "base_uri": "https://localhost:8080/"
        },
        "id": "SLcRrtEBoP-y",
        "outputId": "271179c6-4b6a-4a2f-d5b4-35ff1ff4f221"
      },
      "execution_count": null,
      "outputs": [
        {
          "output_type": "stream",
          "name": "stdout",
          "text": [
            "1\n",
            "2\n"
          ]
        }
      ]
    },
    {
      "cell_type": "markdown",
      "source": [
        "**loop with conditions**"
      ],
      "metadata": {
        "id": "UorMHNmi-zwC"
      }
    },
    {
      "cell_type": "code",
      "source": [
        "names=(\"Ram\", \"Raja\", \"Arun\", \"Nagesh\")\n",
        "for x in names:\n",
        "  print(x)\n",
        "  if x == \"Arun\":\n",
        "    break"
      ],
      "metadata": {
        "colab": {
          "base_uri": "https://localhost:8080/"
        },
        "id": "d6NxwdcF-46G",
        "outputId": "609b3b2e-d56b-4369-eb6f-037d0318a8f9"
      },
      "execution_count": null,
      "outputs": [
        {
          "output_type": "stream",
          "name": "stdout",
          "text": [
            "Ram\n",
            "Raja\n",
            "Arun\n"
          ]
        }
      ]
    },
    {
      "cell_type": "code",
      "source": [
        "names=(\"Ram\", \"Raja\", \"Arun\", \"Nagesh\")\n",
        "for x in names:\n",
        "  if x == \"Arun\":\n",
        "    break\n",
        "  print(x)"
      ],
      "metadata": {
        "colab": {
          "base_uri": "https://localhost:8080/"
        },
        "id": "Qs9xuMYr_Ht8",
        "outputId": "93f7182e-04c5-4a7f-b65d-aff1b4ef9e0a"
      },
      "execution_count": null,
      "outputs": [
        {
          "output_type": "stream",
          "name": "stdout",
          "text": [
            "Ram\n",
            "Raja\n"
          ]
        }
      ]
    }
  ]
}