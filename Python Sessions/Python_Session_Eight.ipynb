{
  "nbformat": 4,
  "nbformat_minor": 0,
  "metadata": {
    "colab": {
      "provenance": []
    },
    "kernelspec": {
      "name": "python3",
      "display_name": "Python 3"
    },
    "language_info": {
      "name": "python"
    }
  },
  "cells": [
    {
      "cell_type": "markdown",
      "source": [
        "**Python - Public, Protected, Private Members**\n",
        "\n",
        "Public Members:\n",
        "\n",
        "All members in a Python class are public by default. Any member can be accessed from outside the class environment.\n"
      ],
      "metadata": {
        "id": "MMLHoRhQJtp6"
      }
    },
    {
      "cell_type": "code",
      "source": [
        "# class\n",
        "class Base(object):\n",
        "\n",
        "\t# __init__ is known as the constructor\n",
        "\tdef __init__(self, name, idnumber):\n",
        "\t\tself.name = name\n",
        "\t\tself.idnumber = idnumber\n",
        "\n",
        "\tdef display(self):\n",
        "\t\tprint(self.name)\n",
        "\t\tprint(self.idnumber)\n",
        "\n",
        "\tdef details(self):\n",
        "\t\tprint(\"My name is {}\".format(self.name))\n",
        "\t\tprint(\"IdNumber: {}\".format(self.idnumber))\n",
        "\n",
        "C1 = Base('Eluri', '25')\n",
        "C1.display()\n",
        "C1.idnumber = 30\n",
        "C1.details()"
      ],
      "metadata": {
        "colab": {
          "base_uri": "https://localhost:8080/"
        },
        "id": "UGb2br1zKerw",
        "outputId": "a0b43a00-53ed-4b53-cd7d-5044b793512f"
      },
      "execution_count": null,
      "outputs": [
        {
          "output_type": "stream",
          "name": "stdout",
          "text": [
            "Eluri\n",
            "25\n",
            "My name is Eluri\n",
            "IdNumber: 30\n"
          ]
        }
      ]
    },
    {
      "cell_type": "markdown",
      "source": [
        "**Protected Members:**\n",
        "\n",
        "Python's convention to make an instance variable protected is to add a prefix **_ (single underscore)** to it.\n",
        "\n",
        "This members of a class are accessible from within the class and are also available to its sub-classes."
      ],
      "metadata": {
        "id": "cQeWijOMK6xv"
      }
    },
    {
      "cell_type": "code",
      "source": [
        "# program to illustrate protected access modifier in a class\n",
        "\n",
        "# super class\n",
        "class Student:\n",
        "\n",
        "\t# protected data members\n",
        "\t_name = None\n",
        "\t_roll = None\n",
        "\t_branch = None\n",
        "\n",
        "\t# constructor\n",
        "\tdef __init__(self, name, roll, branch):\n",
        "\t\tself._name = name\n",
        "\t\tself._roll = roll\n",
        "\t\tself._branch = branch\n",
        "\n",
        "\t# protected member function\n",
        "\tdef _displayRollAndBranch(self):\n",
        "\n",
        "\t\t# accessing protected data members\n",
        "\t\tprint(\"Roll: \", self._roll)\n",
        "\t\tprint(\"Branch: \", self._branch)\n",
        "\n",
        "\n",
        "# derived class\n",
        "class ChildClass(Student):\n",
        "\n",
        "\t# constructor\n",
        "\tdef __init__(self, name, roll, branch):\n",
        "\t\t\t\tStudent.__init__(self, name, roll, branch)\n",
        "\n",
        "\t# public member function\n",
        "\tdef displayDetails(self):\n",
        "\n",
        "\t\t\t\t# accessing protected data members of super class\n",
        "\t\t\t\tprint(\"Name: \", self._name)\n",
        "\n",
        "\t\t\t\t# accessing protected member functions of super class\n",
        "\t\t\t\tself._displayRollAndBranch()\n",
        "\n",
        "# creating objects of the derived class\n",
        "obj = ChildClass(\"R2J\", 1706256, \"Information Technology\")\n",
        "\n",
        "# calling public member functions of the class\n",
        "obj.displayDetails()\n",
        "print(obj._name)\n",
        "obj._displayRollAndBranch()\n",
        "\n",
        "\n",
        "# super class\n",
        "class Student1(object):\n",
        "\t\t# constructor\n",
        "\tdef __init__(self, name, roll, branch):\n",
        "\t\t\t\tStudent.__init__(self, name)\n",
        "\tprint()\n",
        "\n",
        "\n"
      ],
      "metadata": {
        "colab": {
          "base_uri": "https://localhost:8080/"
        },
        "id": "sk0tTVqoK8kQ",
        "outputId": "f8d67a95-d53f-4539-af6b-5f7531ba8bec"
      },
      "execution_count": null,
      "outputs": [
        {
          "output_type": "stream",
          "name": "stdout",
          "text": [
            "Name:  R2J\n",
            "Roll:  1706256\n",
            "Branch:  Information Technology\n",
            "R2J\n",
            "Roll:  1706256\n",
            "Branch:  Information Technology\n"
          ]
        }
      ]
    },
    {
      "cell_type": "markdown",
      "source": [
        "# Private Access Modifier: (Useful to page redirection with params)\n",
        "\n",
        "The members of a class that are declared private are accessible within the class only, **private access modifier is the most secure access modifier**. Data members of a class are declared private by adding a double underscore ‘__’ symbol before the data member of that class."
      ],
      "metadata": {
        "id": "9WMgOx2WkriI"
      }
    },
    {
      "cell_type": "code",
      "source": [
        "# program to illustrate private access modifier in a class\n",
        "\n",
        "class MyClass:\n",
        "\n",
        "     # private members\n",
        "     __name = None\n",
        "     __roll = None\n",
        "     __branch = None\n",
        "\n",
        "     # constructor\n",
        "     def __init__(self, name, roll, branch):\n",
        "          self.__name = name\n",
        "          self.__roll = roll\n",
        "          self.__branch = branch\n",
        "\n",
        "     # private member function\n",
        "     def __displayDetails(self):\n",
        "\n",
        "           # accessing private data members\n",
        "           print(\"Name: \", self.__name)\n",
        "           print(\"Roll: \", self.__roll)\n",
        "           print(\"Branch: \", self.__branch)\n",
        "\n",
        "     # public member function\n",
        "     def accessPrivateFunction(self):\n",
        "\n",
        "           # accessing private member function\n",
        "           self.__displayDetails()\n",
        "\n",
        "# creating object\n",
        "obj = MyClass(\"Makesh\", 3069, \"Computer Science\")\n",
        "\n",
        "# calling public member function of the class\n",
        "#obj.__displayDetails()\n",
        "obj.accessPrivateFunction()"
      ],
      "metadata": {
        "colab": {
          "base_uri": "https://localhost:8080/"
        },
        "id": "7Nv6WHsYkA-S",
        "outputId": "519c9c2c-5af4-4fbd-c0d3-9d800e917230"
      },
      "execution_count": null,
      "outputs": [
        {
          "output_type": "stream",
          "name": "stdout",
          "text": [
            "Name:  Makesh\n",
            "Roll:  3069\n",
            "Branch:  Computer Science\n"
          ]
        }
      ]
    },
    {
      "cell_type": "markdown",
      "source": [
        "**Python - Magic or Dunder Methods**\n",
        "\n",
        "Magic methods in Python are the special methods that start and end with the double underscores. They are also called dunder methods.\n",
        "\n",
        "examples for magic methods are: __init__, __add__, __len__, __repr__ etc.\n",
        "\n"
      ],
      "metadata": {
        "id": "WxkxqN-MGTpj"
      }
    },
    {
      "cell_type": "code",
      "source": [
        "# declare String class\n",
        "class String:\n",
        "\n",
        "\t# magic method to initiate object\n",
        "\tdef __init__(self, string):\n",
        "\t\tself.string = string\n",
        "\n",
        "  # print our string object(represent)\n",
        "\tdef __repr__(self):\n",
        "\t\treturn 'Object: {}'.format(self.string)\n",
        "\n",
        "# Driver Code\n",
        "if __name__ == '__main__':\n",
        "\n",
        "\t# object creation\n",
        "\tstring1 = String('Hello World')\n",
        "\n",
        "\t# print object location\n",
        "\tprint(string1)\n"
      ],
      "metadata": {
        "colab": {
          "base_uri": "https://localhost:8080/"
        },
        "id": "n0Z9nREoIBtn",
        "outputId": "246be330-ebc3-493e-c644-372a5e38b5c5"
      },
      "execution_count": null,
      "outputs": [
        {
          "output_type": "stream",
          "name": "stdout",
          "text": [
            "Object: Hello World\n"
          ]
        }
      ]
    },
    {
      "cell_type": "code",
      "source": [
        "print(5+3)"
      ],
      "metadata": {
        "colab": {
          "base_uri": "https://localhost:8080/"
        },
        "id": "K7uO7xi29Lt7",
        "outputId": "4a36f2f4-79ce-4e4b-b454-35c21864ac8b"
      },
      "execution_count": null,
      "outputs": [
        {
          "output_type": "stream",
          "name": "stdout",
          "text": [
            "8\n"
          ]
        }
      ]
    },
    {
      "cell_type": "code",
      "source": [
        "# declare our own string class\n",
        "class String:\n",
        "\n",
        "\t# magic method to initiate object\n",
        "\tdef __init__(self, string):\n",
        "\t\tself.string = string\n",
        "\n",
        "\t# print our string object\n",
        "\tdef __repr__(self):\n",
        "\t\treturn 'Object: {}'.format(self.string)\n",
        "\n",
        "\tdef __add__(self, input):\n",
        "\t\treturn self.string + input\n",
        "\n",
        "# Driver Code\n",
        "if __name__ == '__main__':\n",
        "\n",
        "\t# object creation\n",
        "\tstring1 = String('Hello')\n",
        "\n",
        "\t# concatenate String object and a string\n",
        "\tprint(string1 +' World')\n"
      ],
      "metadata": {
        "colab": {
          "base_uri": "https://localhost:8080/"
        },
        "id": "7TLKWOCoJua9",
        "outputId": "f528fa68-f464-4569-b16f-33f3283bd78d"
      },
      "execution_count": null,
      "outputs": [
        {
          "output_type": "stream",
          "name": "stdout",
          "text": [
            "Hello World\n"
          ]
        }
      ]
    },
    {
      "cell_type": "markdown",
      "source": [
        "The __new__() magic method is implicitly called before the __init__() method. The __new__() method returns a new object, which is then initialized by __init__()."
      ],
      "metadata": {
        "id": "Y1MnfVbzKK6h"
      }
    },
    {
      "cell_type": "code",
      "source": [
        "class Employee:\n",
        "\n",
        "    def __init__(self):\n",
        "      print (\"__init__ magic method is called\")\n",
        "      self.name='Sandi'\n",
        "\n",
        "    def __new__(cls):\n",
        "      print (\"__new__ magic method is called\")\n",
        "      inst = object.__new__(cls)\n",
        "      return inst\n",
        "    def print_fun(self):\n",
        "      print(self.name)\n",
        "\n",
        "ObjEmp = Employee()\n",
        "#print(ObjEmp)\n",
        "ObjEmp.print_fun()\n"
      ],
      "metadata": {
        "colab": {
          "base_uri": "https://localhost:8080/"
        },
        "id": "SkhHTT9XHffG",
        "outputId": "c06a20f5-bf51-44b4-e892-e263a6458bd9"
      },
      "execution_count": null,
      "outputs": [
        {
          "output_type": "stream",
          "name": "stdout",
          "text": [
            "__new__ magic method is called\n",
            "__init__ magic method is called\n",
            "Sandi\n"
          ]
        }
      ]
    },
    {
      "cell_type": "code",
      "source": [
        "class Employee:\n",
        "    def __init__(self):\n",
        "        self.name='Sandi'\n",
        "        self.salary=100000\n",
        "    def __str__(self):\n",
        "        return 'name='+self.name+' salary=$'+str(self.salary)\n",
        "Emp1 = Employee()\n",
        "print(Emp1)"
      ],
      "metadata": {
        "colab": {
          "base_uri": "https://localhost:8080/"
        },
        "id": "5YkeXgYJLPzC",
        "outputId": "939578c9-5932-46f1-b01d-626963e06118"
      },
      "execution_count": null,
      "outputs": [
        {
          "output_type": "stream",
          "name": "stdout",
          "text": [
            "name=Sandi salary=$100000\n"
          ]
        }
      ]
    },
    {
      "cell_type": "markdown",
      "source": [
        "**Python super()**\n",
        "\n",
        "The Python super() function returns objects represented in the parent’s class and is very useful in  multiple and multilevel inheritances to find which class the child class is extending first.\n",
        "\n",
        "The super() function is used to give access to methods and properties of a parent or sibling class.\n",
        "\n",
        "\n",
        "The super() function returns an object that represents the parent class."
      ],
      "metadata": {
        "id": "dVVsoS-RO85Y"
      }
    },
    {
      "cell_type": "code",
      "source": [
        "# code\n",
        "class Person:\n",
        "\n",
        "\t# Constructor\n",
        "\tdef __init__(self, name, id):\n",
        "\t\tself.name = name\n",
        "\t\tself.id = id\n",
        "\n",
        "\t# To check if this person is an employee\n",
        "\tdef Display(self):\n",
        "\t\tprint(self.name, self.id)\n",
        "\n",
        "\n",
        "class Employee(Person):\n",
        "\n",
        "\tdef __init__(self, name, id):\n",
        "\t\tself.name1 = name\n",
        "\t\t#Person.__init__()\n",
        "\n",
        "\tdef Print(self):\n",
        "\t\tprint(\"Employee class called\")\n",
        "\n",
        "Emp_info = Employee(\"Eluri\", 100)\n",
        "\n",
        "# calling parent class function\n",
        "Emp_info.name1, Emp_info.name\n"
      ],
      "metadata": {
        "colab": {
          "base_uri": "https://localhost:8080/",
          "height": 201
        },
        "id": "yvLVDdGBPMLj",
        "outputId": "2ff04d6a-5af1-4d76-89a3-cc4682966ba5"
      },
      "execution_count": null,
      "outputs": [
        {
          "output_type": "error",
          "ename": "AttributeError",
          "evalue": "ignored",
          "traceback": [
            "\u001b[0;31m---------------------------------------------------------------------------\u001b[0m",
            "\u001b[0;31mAttributeError\u001b[0m                            Traceback (most recent call last)",
            "\u001b[0;32m<ipython-input-34-205f41fe7bb5>\u001b[0m in \u001b[0;36m<module>\u001b[0;34m\u001b[0m\n\u001b[1;32m     23\u001b[0m \u001b[0;34m\u001b[0m\u001b[0m\n\u001b[1;32m     24\u001b[0m \u001b[0;31m# calling parent class function\u001b[0m\u001b[0;34m\u001b[0m\u001b[0;34m\u001b[0m\u001b[0;34m\u001b[0m\u001b[0m\n\u001b[0;32m---> 25\u001b[0;31m \u001b[0mEmp_info\u001b[0m\u001b[0;34m.\u001b[0m\u001b[0mname1\u001b[0m\u001b[0;34m,\u001b[0m \u001b[0mEmp_info\u001b[0m\u001b[0;34m.\u001b[0m\u001b[0mname\u001b[0m\u001b[0;34m\u001b[0m\u001b[0;34m\u001b[0m\u001b[0m\n\u001b[0m",
            "\u001b[0;31mAttributeError\u001b[0m: 'Employee' object has no attribute 'name'"
          ]
        }
      ]
    },
    {
      "cell_type": "code",
      "source": [
        "#Base Class\n",
        "class Employee():\n",
        "\tdef __init__(self, id, name, Add):\n",
        "\t\tself.id = id\n",
        "\t\tself.name = name\n",
        "\t\tself.Add = Add\n",
        "\n",
        "#Child Class inherits with EMP\n",
        "class ChildClass(Employee):\n",
        "\tdef __init__(self, id, name, Add, Emails):\n",
        "\t\tsuper().__init__(id, name, Add)\n",
        "\t\tself.Emails = Emails\n",
        "\n",
        "Emp = ChildClass(10, \"Eluri\", \"Hyderabad\" , \"Eluri@gmail.com\")\n",
        "print('The ID is:', Emp.id)\n",
        "print('The Name is:', Emp.name)\n",
        "print('The Location is:', Emp.Add)\n",
        "print('The Emails is:', Emp.Emails)\n"
      ],
      "metadata": {
        "colab": {
          "base_uri": "https://localhost:8080/"
        },
        "id": "ZjzCAY3TzSw2",
        "outputId": "9ec41695-3383-4e61-f2fb-9c891c7cb8b9"
      },
      "execution_count": null,
      "outputs": [
        {
          "output_type": "stream",
          "name": "stdout",
          "text": [
            "The ID is: 10\n",
            "The Name is: Eluri\n",
            "The Location is: Hyderabad\n",
            "The Emails is: Eluri@gmail.com\n"
          ]
        }
      ]
    },
    {
      "cell_type": "code",
      "source": [
        "# code\n",
        "class Person:\n",
        "\n",
        "\t# Constructor\n",
        "\tdef __init__(self, name, id):\n",
        "\t\tself.name = name\n",
        "\t\tself.id = id\n",
        "\n",
        "\t# To check if this person is an employee\n",
        "\tdef Display(self):\n",
        "\t\tprint(self.name, self.id)\n",
        "\n",
        "\n",
        "class Employee(Person):\n",
        "\n",
        "\tdef __init__(self, name, id):\n",
        "\t\tself.name1 = name\n",
        "\t\tsuper().__init__(name, id)\n",
        "\n",
        "\n",
        "\tdef Print(self):\n",
        "\t\tprint(\"Employee class called\")\n",
        "\n",
        "Emp_info = Employee(\"Eluri\", 100)\n",
        "\n",
        "# calling parent class function\n",
        "Emp_info.name1, Emp_info.name\n"
      ],
      "metadata": {
        "colab": {
          "base_uri": "https://localhost:8080/"
        },
        "id": "T_ZZaOIh1AWm",
        "outputId": "26c4374e-ff22-4c15-bc87-49ccd148aa96"
      },
      "execution_count": null,
      "outputs": [
        {
          "output_type": "execute_result",
          "data": {
            "text/plain": [
              "('Eluri', 'Eluri')"
            ]
          },
          "metadata": {},
          "execution_count": 8
        }
      ]
    },
    {
      "cell_type": "markdown",
      "source": [
        "**Decorators in Python** (**Preferable for Web applications**)\n",
        "\n",
        "Decorator is a design pattern that adds additional responsibilities to an object dynamically.\n",
        "\n",
        "Decorator in Python adds additional responsibilities/functionalities to a function dynamically without modifying a function."
      ],
      "metadata": {
        "id": "lIJHvfRv7YBX"
      }
    },
    {
      "cell_type": "markdown",
      "source": [
        "**About Functions:**\n",
        "\n",
        "A function is an instance of the Object type.\n",
        "\n",
        "You can store the function in a variable.\n",
        "\n",
        "You can pass the function as a parameter to another function.\n",
        "\n",
        "You can return the function from a function.\n",
        "\n",
        "You can store them in data structures such as hash tables, lists, …"
      ],
      "metadata": {
        "id": "fBswAqsNHEe7"
      }
    },
    {
      "cell_type": "code",
      "source": [
        "#Treating the functions as objects\n",
        "\n",
        "# Python program to illustrate functions\n",
        "# can be treated as objects\n",
        "def myfunct(text):\n",
        "    return text.upper()\n",
        "\n",
        "print(myfunct('Hello World'))\n",
        "\n",
        "myfunct('Hello World')\n",
        "\n",
        "objmyfunc = myfunct\n",
        "\n",
        "print(objmyfunc('Hello World'))"
      ],
      "metadata": {
        "id": "gq3Rsd9J7ZTk",
        "colab": {
          "base_uri": "https://localhost:8080/"
        },
        "outputId": "62c61dc4-abb1-4709-f75a-e6582be4c970"
      },
      "execution_count": null,
      "outputs": [
        {
          "output_type": "stream",
          "name": "stdout",
          "text": [
            "HELLO WORLD\n",
            "HELLO WORLD\n"
          ]
        }
      ]
    },
    {
      "cell_type": "code",
      "source": [
        "def add_test(a, b):\n",
        "  c = a + b\n",
        "\n",
        "print(add_test(1,2))"
      ],
      "metadata": {
        "colab": {
          "base_uri": "https://localhost:8080/"
        },
        "id": "x30RaK59gKTV",
        "outputId": "15c2dadd-a2d4-4c1d-9309-4e6da0135e76"
      },
      "execution_count": null,
      "outputs": [
        {
          "output_type": "stream",
          "name": "stdout",
          "text": [
            "None\n"
          ]
        }
      ]
    },
    {
      "cell_type": "code",
      "source": [
        "#Passing the function as an argument\n",
        "\n",
        "# Python program to illustrate functions\n",
        "# can be passed as arguments to other functions\n",
        "def myfunupper(text):\n",
        "\treturn text.upper()\n",
        "\n",
        "def myfunlower(text):\n",
        "\treturn text.lower()\n",
        "\n",
        "def myfun(func):\n",
        "\tprint('test')\n",
        "\t# storing the function in a variable\n",
        "\tgreeting = func(\"\"\"Hi, I am created by a function passed as an argument.\"\"\")\n",
        "\tprint(greeting)\n",
        "\n",
        "\n",
        "myfun(myfunupper)\n",
        "#myfunupper(\"\"\"Hi, I am created by a function passed as an argument.\"\"\")\n",
        "#myfun(myfunlower)\n",
        "#greeting = myfunlower(\"\"\"Hi, I am created by a function passed as an argument.\"\"\")\n"
      ],
      "metadata": {
        "colab": {
          "base_uri": "https://localhost:8080/"
        },
        "id": "a614JD70Hyb-",
        "outputId": "f4b308cf-8df5-4ea3-f9cf-5cfb1d258a2a"
      },
      "execution_count": null,
      "outputs": [
        {
          "output_type": "stream",
          "name": "stdout",
          "text": [
            "test\n",
            "HI, I AM CREATED BY A FUNCTION PASSED AS AN ARGUMENT.\n"
          ]
        }
      ]
    },
    {
      "cell_type": "code",
      "source": [
        "#Returning functions from another function.\n",
        "\n",
        "# Functions can return another function\n",
        "\n",
        "def create_adder(x):\n",
        "\tprint('test')\n",
        "\t#adder = 0\n",
        "\tprint(x)\n",
        "\tdef adder(y):\n",
        "\t\tprint(y)\n",
        "\t\tprint(x + y)\n",
        "\t\treturn x+x\n",
        "\n",
        "\treturn adder\n",
        "\n",
        "add = create_adder(5)\n",
        "#print(add())\n",
        "print(add(20))\n"
      ],
      "metadata": {
        "colab": {
          "base_uri": "https://localhost:8080/"
        },
        "id": "V6uMq_LmInbA",
        "outputId": "eaf6002f-612a-483f-9870-011968ed7acf"
      },
      "execution_count": null,
      "outputs": [
        {
          "output_type": "stream",
          "name": "stdout",
          "text": [
            "test\n",
            "5\n",
            "20\n",
            "25\n",
            "10\n"
          ]
        }
      ]
    },
    {
      "cell_type": "code",
      "source": [
        "# defining a decorator\n",
        "def hello_decorator(func):\n",
        "\tprint('test')\n",
        "\t# inner1 is a Wrapper function in\n",
        "\t# which the argument is called\n",
        "\n",
        "\t# inner function can access the outer local\n",
        "\t# functions like in this case \"func\"\n",
        "\tdef inner1():\n",
        "\t\tprint(\"Hello, this is before function execution\")\n",
        "\n",
        "\t\t# calling the actual function now\n",
        "\t\t# inside the wrapper function.\n",
        "\t\tfunc()\n",
        "\n",
        "\t\tprint(\"This is after function execution\")\n",
        "\n",
        "\treturn inner1\n",
        "\n",
        "\n",
        "# defining a function, to be called inside wrapper\n",
        "def function_to_be_used():\n",
        "\tprint(\"This is inside the function !!\")\n",
        "\n",
        "\n",
        "# passing 'function_to_be_used' inside the\n",
        "# decorator to control its behaviour\n",
        "function_to_be_used1 = hello_decorator(function_to_be_used)\n",
        "\n",
        "\n",
        "# calling the function\n",
        "function_to_be_used1()\n"
      ],
      "metadata": {
        "colab": {
          "base_uri": "https://localhost:8080/"
        },
        "id": "7u2t8XEfPR2H",
        "outputId": "6e8fe093-5edd-4038-a92b-a3ff66641dca"
      },
      "execution_count": null,
      "outputs": [
        {
          "output_type": "stream",
          "name": "stdout",
          "text": [
            "test\n",
            "Hello, this is before function execution\n",
            "This is inside the function !!\n",
            "This is after function execution\n"
          ]
        }
      ]
    },
    {
      "cell_type": "code",
      "source": [
        "# importing libraries\n",
        "import time\n",
        "import math\n",
        "\n",
        "# decorator to calculate duration\n",
        "# taken by any function.\n",
        "def calculate_time(func):\n",
        "\tprint('test')\n",
        "\t# added arguments inside the inner1,\n",
        "\t# if function takes any arguments,\n",
        "\t# can be added like this.\n",
        "\tdef inner1(*args, **kwargs):\n",
        "\n",
        "\t\tprint('reached inner1 function')\n",
        "\t\t# storing time before function execution\n",
        "\t\tbegin = time.time()\n",
        "\n",
        "\t\tfunc(*args, **kwargs)\n",
        "\n",
        "\t\t# storing time after function execution\n",
        "\t\tend = time.time()\n",
        "\t\tprint(\"Total time taken in : \", func.__name__, end - begin)\n",
        "\n",
        "\treturn inner1\n",
        "\n",
        "\n",
        "\n",
        "# this can be added to any function present,\n",
        "# in this case to calculate a factorial\n",
        "@calculate_time\n",
        "def factorial(num):\n",
        "\n",
        "\t# sleep 2 seconds because it takes very less time\n",
        "\t# so that you can see the actual difference\n",
        "\tprint('factorial function')\n",
        "\ttime.sleep(2)\n",
        "\tprint(math.factorial(num))\n",
        "\n",
        "# calling the function.\n",
        "factorial(10)\n"
      ],
      "metadata": {
        "colab": {
          "base_uri": "https://localhost:8080/"
        },
        "id": "XWaFAjxoRXo8",
        "outputId": "0ee8fa6e-f883-4fde-a57c-a89d8f9e2d87"
      },
      "execution_count": null,
      "outputs": [
        {
          "output_type": "stream",
          "name": "stdout",
          "text": [
            "test\n",
            "reached inner1 function\n",
            "factorial function\n",
            "3628800\n",
            "Total time taken in :  factorial 2.0025382041931152\n"
          ]
        }
      ]
    },
    {
      "cell_type": "code",
      "source": [
        "def hello_decorator(func):\n",
        "\tprint('test')\n",
        "\n",
        "\tdef inner1(*args, **kwargs):\n",
        "\n",
        "\t\tprint(\"before Execution\")\n",
        "\n",
        "\t\t# getting the returned value\n",
        "\t\treturned_value = func(*args, **kwargs)\n",
        "\t\tprint(\"after Execution\")\n",
        "\n",
        "\t\t# returning the value to the original frame\n",
        "\t\treturn returned_value\n",
        "\n",
        "\treturn inner1\n",
        "\n",
        "\n",
        "# adding decorator to the function\n",
        "@hello_decorator\n",
        "def sum_two_numbers(a, b):\n",
        "\tprint(\"Inside the function\")\n",
        "\treturn a + b\n",
        "\n",
        "a, b = 1, 2\n",
        "\n",
        "# getting the value through return of the function\n",
        "print(\"Sum =\", sum_two_numbers(a, b))\n"
      ],
      "metadata": {
        "colab": {
          "base_uri": "https://localhost:8080/"
        },
        "id": "1BLLblyfT_CJ",
        "outputId": "d1efb5e6-3c85-4607-bad3-a8bd1a77ac37"
      },
      "execution_count": null,
      "outputs": [
        {
          "output_type": "stream",
          "name": "stdout",
          "text": [
            "test\n",
            "before Execution\n",
            "Inside the function\n",
            "after Execution\n",
            "Sum = 3\n"
          ]
        }
      ]
    },
    {
      "cell_type": "code",
      "source": [
        "# code for testing decorator chaining\n",
        "def decor1(func):\n",
        "\tprint('test')\n",
        "\tdef inner():\n",
        "\t\tprint('inner function from decor1')\n",
        "\t\tx = func()\n",
        "\t\tprint('decor1 inner funct', x)\n",
        "\t\treturn x * x\n",
        "\treturn inner\n",
        "\n",
        "def decor2(func):\n",
        "\tdef inner():\n",
        "\t\tprint('inner function from decor')\n",
        "\t\tx = func()\n",
        "\t\tprint(x)\n",
        "\t\tprint('decor inner funct', x)\n",
        "\t\treturn 2 * x\n",
        "\treturn inner\n",
        "\n",
        "@decor1\n",
        "@decor2\n",
        "def num():\n",
        "\treturn 10\n",
        "\n",
        "print(num())\n",
        "\n",
        "#decor1(decor(num))\n"
      ],
      "metadata": {
        "colab": {
          "base_uri": "https://localhost:8080/"
        },
        "id": "xE3JXrCsUTdZ",
        "outputId": "598e91f3-62ec-418f-e954-ec96f635af41"
      },
      "execution_count": null,
      "outputs": [
        {
          "output_type": "stream",
          "name": "stdout",
          "text": [
            "test\n",
            "inner function from decor1\n",
            "inner function from decor\n",
            "10\n",
            "decor inner funct 10\n",
            "decor1 inner funct 20\n",
            "400\n"
          ]
        }
      ]
    },
    {
      "cell_type": "markdown",
      "source": [
        "**Generators in Python (Usefule Python backend job scheduling, improves the performance efficiently by memory.)**\n",
        "\n",
        "Generator is used to create own iterator function.\n",
        "\n",
        "A generator is a special type of function which does not return a single value, instead, it returns an iterator object with a sequence of values.\n",
        "\n",
        "In a generator function, a **yield** statement is used rather than a return statement."
      ],
      "metadata": {
        "id": "MzDF4aWPctF7"
      }
    },
    {
      "cell_type": "code",
      "source": [
        "lst = [1, 2, 3, 4]\n",
        "for i in lst:\n",
        "  print(i)"
      ],
      "metadata": {
        "colab": {
          "base_uri": "https://localhost:8080/"
        },
        "id": "K5rO_BIkhS8L",
        "outputId": "683fcc64-24e1-470f-c065-86ccd04e24d8"
      },
      "execution_count": null,
      "outputs": [
        {
          "output_type": "stream",
          "name": "stdout",
          "text": [
            "1\n",
            "2\n",
            "3\n",
            "4\n"
          ]
        }
      ]
    },
    {
      "cell_type": "code",
      "source": [
        "def square_of_sequence(x):\n",
        "    for i in range(x):\n",
        "        yield i*i\n",
        "\n",
        "print('##next function output###')\n",
        "seq = square_of_sequence(5)\n",
        "print(seq)\n",
        "print(next(seq))\n",
        "print(next(seq))\n",
        "print(next(seq))\n",
        "print(next(seq))\n",
        "\n",
        "print('##iterator using while loop###')\n",
        "gen = square_of_sequence(10)\n",
        "while True:\n",
        "    try:\n",
        "        print (\"Received on next(): \", next(gen))\n",
        "    except StopIteration:\n",
        "        break\n",
        "\n",
        "print('##iterator using for loop###')\n",
        "squres = square_of_sequence(5)\n",
        "for sqr in squres:\n",
        "    print(sqr)"
      ],
      "metadata": {
        "colab": {
          "base_uri": "https://localhost:8080/"
        },
        "id": "FYx4yU9wdQeg",
        "outputId": "00405b16-69dd-421b-beee-1c667087d339"
      },
      "execution_count": null,
      "outputs": [
        {
          "output_type": "stream",
          "name": "stdout",
          "text": [
            "##next function output###\n",
            "<generator object square_of_sequence at 0x7f045d722eb0>\n",
            "0\n",
            "1\n",
            "4\n",
            "9\n",
            "##iterator using while loop###\n",
            "Received on next():  0\n",
            "Received on next():  1\n",
            "Received on next():  4\n",
            "Received on next():  9\n",
            "Received on next():  16\n",
            "Received on next():  25\n",
            "Received on next():  36\n",
            "Received on next():  49\n",
            "Received on next():  64\n",
            "Received on next():  81\n",
            "##iterator using for loop###\n",
            "0\n",
            "1\n",
            "4\n",
            "9\n",
            "16\n"
          ]
        }
      ]
    },
    {
      "cell_type": "code",
      "source": [
        "# A generator function that yields 1 for first time,\n",
        "# 2 second time and 3 third time\n",
        "def simpleGeneratorFun():\n",
        "\tyield 1\n",
        "\tyield 2\n",
        "\tyield 3\n",
        "\n",
        "# Driver code to check above generator function\n",
        "for value in simpleGeneratorFun():\n",
        "\tprint(value)\n"
      ],
      "metadata": {
        "colab": {
          "base_uri": "https://localhost:8080/"
        },
        "id": "Ly9l4UDJer5O",
        "outputId": "0f120f84-e1d0-47cf-efab-a84a9fcdb3b8"
      },
      "execution_count": null,
      "outputs": [
        {
          "output_type": "stream",
          "name": "stdout",
          "text": [
            "1\n",
            "2\n",
            "3\n"
          ]
        }
      ]
    },
    {
      "cell_type": "markdown",
      "source": [
        "**Recursion in Python** (**puzzle games, Factorial function, Fibonacci Sequence, Reverse a string, Sum of numbers from 1 to n ..etc**)\n",
        "\n",
        "A function that calls itself is a recursive function. This method is used when a certain problem is defined in terms of itself.\n",
        "\n",
        "Mathematically factorial is : n! = n * (n-1)!\n",
        "\n",
        "\n",
        "5! = 5 X 4!\n",
        "\n",
        "     5 X4 X 3!\n",
        "\n",
        "     5 X4 X 3 X 2!\n",
        "\n",
        "     5 X4 X 3 X  2 X 1!\n",
        "\n",
        "     5 X4 X 3 X  2 X 1\n",
        "     \n",
        "   = 120\n",
        "   "
      ],
      "metadata": {
        "id": "0tkvHBCMfMxL"
      }
    },
    {
      "cell_type": "markdown",
      "source": [
        "**Drawbacks in recursive functions:**\n",
        "\n",
        "Recursive functions can be inefficient as they take up a lot of memory and time.\n",
        "\n",
        "In addition to that, sometimes the logic behind recursion is hard to follow making debugging problems difficult."
      ],
      "metadata": {
        "id": "f0Gk6oHSBGTD"
      }
    },
    {
      "cell_type": "code",
      "source": [
        "def factorial(n):\n",
        "    if n == 1:\n",
        "        print(n)\n",
        "        return 1\n",
        "    else:\n",
        "        print (n,'*', end=' ')\n",
        "        return n * factorial(n-1)\n",
        "\n",
        "factorial(5)"
      ],
      "metadata": {
        "colab": {
          "base_uri": "https://localhost:8080/"
        },
        "id": "FN13cE99fle7",
        "outputId": "d1a1758f-273f-4251-a88f-fdce0c4a74b5"
      },
      "execution_count": null,
      "outputs": [
        {
          "output_type": "stream",
          "name": "stdout",
          "text": [
            "5 * 4 * 3 * 2 * 1\n"
          ]
        },
        {
          "output_type": "execute_result",
          "data": {
            "text/plain": [
              "120"
            ]
          },
          "metadata": {},
          "execution_count": 5
        }
      ]
    },
    {
      "cell_type": "code",
      "source": [
        "def factorial(n):\n",
        "    if n == 1:\n",
        "        return 1\n",
        "    else:\n",
        "        return n * factorial(n-1)\n",
        "\n",
        "print(factorial(4))"
      ],
      "metadata": {
        "colab": {
          "base_uri": "https://localhost:8080/"
        },
        "id": "JFjfn_RslVsO",
        "outputId": "4e6dece5-c724-4e55-98f1-3ad382051d6c"
      },
      "execution_count": null,
      "outputs": [
        {
          "output_type": "stream",
          "name": "stdout",
          "text": [
            "24\n"
          ]
        }
      ]
    },
    {
      "cell_type": "markdown",
      "source": [
        "The **Fibonacci numbers** are the numbers in the following integer sequence.\n",
        "0, 1, 1, 2, 3, 5, 8, 13, 21, 34, 55, 89, 144, ……..\n",
        "In mathematical terms, the sequence Fn of Fibonacci numbers is defined by the recurrence relation\n",
        "\n",
        "    Fn = Fn-1 + Fn-2\n",
        "with seed values  \n",
        "\n",
        "   F0 = 0 and F1 = 1."
      ],
      "metadata": {
        "id": "dbwAZNh2gkxa"
      }
    },
    {
      "cell_type": "code",
      "source": [
        "# Program to print the fibonacci series upto n_terms\n",
        "\n",
        "# Recursive function\n",
        "def recursive_fibonacci(n):\n",
        "  if n <= 1:\n",
        "    return n\n",
        "  else:\n",
        "    return(recursive_fibonacci(n-1) + recursive_fibonacci(n-2))\n",
        "\n",
        "input = 10\n",
        "\n",
        "# check if the number of terms is valid\n",
        "if input <= 0:\n",
        "  print(\"Invalid input ! Please input a positive value\")\n",
        "else:\n",
        "  print(\"Fibonacci series:\")\n",
        "\n",
        "for i in range(input):\n",
        "\tprint(recursive_fibonacci(i))\n"
      ],
      "metadata": {
        "id": "OdPtba7HgGrX",
        "colab": {
          "base_uri": "https://localhost:8080/"
        },
        "outputId": "9e8b03c5-ec19-46d1-b94d-495ab91e8738"
      },
      "execution_count": null,
      "outputs": [
        {
          "output_type": "stream",
          "name": "stdout",
          "text": [
            "Fibonacci series:\n",
            "0\n",
            "1\n",
            "1\n",
            "2\n",
            "3\n",
            "5\n",
            "8\n",
            "13\n",
            "21\n",
            "34\n"
          ]
        }
      ]
    }
  ]
}