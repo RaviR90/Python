{
  "nbformat": 4,
  "nbformat_minor": 0,
  "metadata": {
    "colab": {
      "provenance": []
    },
    "kernelspec": {
      "name": "python3",
      "display_name": "Python 3"
    },
    "language_info": {
      "name": "python"
    }
  },
  "cells": [
    {
      "cell_type": "markdown",
      "source": [
        "**Python - List**\n",
        "\n",
        "*   It is a mutable sequence type.\n",
        "*   A list object contains one or more items of different data types in the square brackets [] separated by a comma.\n",
        "*   List items are ordered, changeable, and allow duplicate values.\n",
        "*   List items are indexed, the first item has index [0], the second item has index [1] etc.\n",
        "*   A list can contain unlimited data depending upon the limitation of computer's memory."
      ],
      "metadata": {
        "id": "f0JDseJEEWit"
      }
    },
    {
      "cell_type": "markdown",
      "source": [
        "**List Declaration**"
      ],
      "metadata": {
        "id": "Xu4Dow6_Ix4f"
      }
    },
    {
      "cell_type": "code",
      "source": [
        "emp_list = [] # empty list\n",
        "emp_list1 = list() #empty list\n",
        "\n",
        "print(emp_list)\n",
        "\n",
        "names=[\"Ram\", \"Raja\", \"Arun\", \"Nagesh\"] # string list\n",
        "print(names)\n",
        "\n",
        "item=[1, \"my\", \"Computer\", 20.50, True] # list with heterogeneous data\n",
        "print(item)\n",
        "\n",
        "dup_lst = [\"apple\", \"banana\", \"orange\", \"apple\", \"orange\"]\n",
        "print(dup_lst)\n",
        "\n",
        "print(names[0])\n",
        "\n",
        "print(names[-1])\n",
        "\n",
        "print(names[0:2])\n",
        "\n",
        "print(names[:2])\n",
        "print(names[2:])\n",
        "\n",
        "print(names[7])"
      ],
      "metadata": {
        "colab": {
          "base_uri": "https://localhost:8080/",
          "height": 357
        },
        "id": "pKnO0vCtFFq4",
        "outputId": "75f7ea1e-c8e3-413c-fc24-f457a776aa42"
      },
      "execution_count": null,
      "outputs": [
        {
          "output_type": "stream",
          "name": "stdout",
          "text": [
            "[]\n",
            "['Ram', 'Raja', 'Arun', 'Nagesh']\n",
            "[1, 'my', 'Computer', 20.5, True]\n",
            "['apple', 'banana', 'orange', 'apple', 'orange']\n",
            "Ram\n",
            "Nagesh\n",
            "['Ram', 'Raja']\n",
            "['Ram', 'Raja']\n",
            "['Arun', 'Nagesh']\n"
          ]
        },
        {
          "output_type": "error",
          "ename": "IndexError",
          "evalue": "ignored",
          "traceback": [
            "\u001b[0;31m---------------------------------------------------------------------------\u001b[0m",
            "\u001b[0;31mIndexError\u001b[0m                                Traceback (most recent call last)",
            "\u001b[0;32m<ipython-input-1-6fd97022782d>\u001b[0m in \u001b[0;36m<module>\u001b[0;34m\u001b[0m\n\u001b[1;32m     20\u001b[0m \u001b[0mprint\u001b[0m\u001b[0;34m(\u001b[0m\u001b[0mnames\u001b[0m\u001b[0;34m[\u001b[0m\u001b[0;36m2\u001b[0m\u001b[0;34m:\u001b[0m\u001b[0;34m]\u001b[0m\u001b[0;34m)\u001b[0m\u001b[0;34m\u001b[0m\u001b[0;34m\u001b[0m\u001b[0m\n\u001b[1;32m     21\u001b[0m \u001b[0;34m\u001b[0m\u001b[0m\n\u001b[0;32m---> 22\u001b[0;31m \u001b[0mprint\u001b[0m\u001b[0;34m(\u001b[0m\u001b[0mnames\u001b[0m\u001b[0;34m[\u001b[0m\u001b[0;36m7\u001b[0m\u001b[0;34m]\u001b[0m\u001b[0;34m)\u001b[0m\u001b[0;34m\u001b[0m\u001b[0;34m\u001b[0m\u001b[0m\n\u001b[0m",
            "\u001b[0;31mIndexError\u001b[0m: list index out of range"
          ]
        }
      ]
    },
    {
      "cell_type": "markdown",
      "source": [
        "**List Iteration and Comprehension**"
      ],
      "metadata": {
        "id": "PkDNOjkwJCei"
      }
    },
    {
      "cell_type": "code",
      "source": [
        "lst = [1,'2',3,'4']\n",
        "#List comprehension is a shorter syntax, when you want to create a new list based on the values of an existing list or string.\n",
        "lst1 = [str(i) for i in lst]\n",
        "print(lst1)\n",
        "\n",
        "#List Iteration\n",
        "for j in lst:\n",
        "  print(j)\n",
        "\n",
        "iter_lst = []\n",
        "for i in lst:\n",
        "  iter_lst.append(str(i))\n",
        "\n",
        "print(iter_lst)\n",
        "\n",
        "\n",
        "lst_even = [i for i in range(21) if i % 2 == 0]\n",
        "#[0,1,2,3,...20]\n",
        "#[0, 4, 8, 12, 16, 20]\n",
        "print(lst_even)\n",
        "\n",
        "lst_even_4 = [i for i in range(0, 21, 4) if i % 2 == 0]\n",
        "#0, 1, 2, 3, 4, 5, 6, 7, 8, ... 20\n",
        "#(0, 21, 4) # 0, 4, 8, 12, 16, 20\n",
        "print(lst_even_4)"
      ],
      "metadata": {
        "colab": {
          "base_uri": "https://localhost:8080/"
        },
        "id": "J5xtOIkiLj12",
        "outputId": "d45d1427-6eff-4e9f-a7b0-1a82e1dfd407"
      },
      "execution_count": null,
      "outputs": [
        {
          "output_type": "stream",
          "name": "stdout",
          "text": [
            "[1, '2', 3, '4']\n",
            "1\n",
            "2\n",
            "3\n",
            "4\n",
            "['1', '2', '3', '4']\n",
            "[0, 2, 4, 6, 8, 10, 12, 14, 16, 18, 20]\n",
            "[0, 4, 8, 12, 16, 20]\n"
          ]
        }
      ]
    },
    {
      "cell_type": "code",
      "source": [
        "lst = [1,'2',3,'4']\n",
        "\n",
        "for i in lst:\n",
        "  print(i)"
      ],
      "metadata": {
        "colab": {
          "base_uri": "https://localhost:8080/"
        },
        "id": "23kvfR_YTJrd",
        "outputId": "2e182120-53fe-42ea-f7b3-cc55bc5ae4fa"
      },
      "execution_count": null,
      "outputs": [
        {
          "output_type": "stream",
          "name": "stdout",
          "text": [
            "1\n",
            "2\n",
            "3\n",
            "4\n"
          ]
        }
      ]
    },
    {
      "cell_type": "code",
      "source": [
        "lst = [1,'2',3,'4']\n",
        "\n",
        "iter_lst = []\n",
        "for i in lst:\n",
        "  iter_lst.append(i)\n",
        "\n",
        "print(iter_lst)"
      ],
      "metadata": {
        "colab": {
          "base_uri": "https://localhost:8080/"
        },
        "id": "lIqkXCGeiVVn",
        "outputId": "49048df8-69d1-4e5f-d8d4-f3d0322f6753"
      },
      "execution_count": null,
      "outputs": [
        {
          "output_type": "stream",
          "name": "stdout",
          "text": [
            "[1, '2', 3, '4']\n"
          ]
        }
      ]
    },
    {
      "cell_type": "code",
      "source": [
        "for a in range(10):\n",
        "  print(a)"
      ],
      "metadata": {
        "colab": {
          "base_uri": "https://localhost:8080/"
        },
        "id": "DMTb9JYLwVRn",
        "outputId": "d193cef9-b4ef-42ad-c222-0c85de7f8a28"
      },
      "execution_count": null,
      "outputs": [
        {
          "output_type": "stream",
          "name": "stdout",
          "text": [
            "0\n",
            "1\n",
            "2\n",
            "3\n",
            "4\n",
            "5\n",
            "6\n",
            "7\n",
            "8\n",
            "9\n"
          ]
        }
      ]
    },
    {
      "cell_type": "code",
      "source": [
        "avg_lst = [i for i in range(5)]\n",
        "print(avg_lst)\n",
        "lst_even = [i for i in avg_lst if i % 2 == 0]\n",
        "print(lst_even)"
      ],
      "metadata": {
        "colab": {
          "base_uri": "https://localhost:8080/"
        },
        "id": "qYGLDZ6Hkac_",
        "outputId": "b5acb7d5-1097-4285-e050-293738465f06"
      },
      "execution_count": null,
      "outputs": [
        {
          "output_type": "stream",
          "name": "stdout",
          "text": [
            "[0, 1, 2, 3, 4]\n",
            "[0, 2, 4]\n"
          ]
        }
      ]
    },
    {
      "cell_type": "markdown",
      "source": [
        "**We use the list() constructor to convert from other sequence types such as tuple, set, dictionary, string to list.**"
      ],
      "metadata": {
        "id": "m-rJDU9iFsie"
      }
    },
    {
      "cell_type": "code",
      "source": [
        "nums=[1,2,3,4]\n",
        "print(type(nums))\n",
        "\n",
        "mylist=list('Hello') #from string\n",
        "print(mylist)\n",
        "\n",
        "nums=list({1:'one', 2:'two'}) #from dictionary\n",
        "print(nums)\n",
        "\n",
        "nums=list((10, 20, 30)) #from tuple\n",
        "print(nums)\n",
        "\n",
        "nums=list({100, 200, 300}) #from set\n",
        "print(nums)"
      ],
      "metadata": {
        "colab": {
          "base_uri": "https://localhost:8080/"
        },
        "id": "Hx7EO-XIFxuo",
        "outputId": "c899321e-977e-49ee-f763-1d1a93b83856"
      },
      "execution_count": null,
      "outputs": [
        {
          "output_type": "stream",
          "name": "stdout",
          "text": [
            "<class 'list'>\n",
            "['H', 'e', 'l', 'l', 'o']\n",
            "[1, 2]\n",
            "[10, 20, 30]\n",
            "[200, 100, 300]\n"
          ]
        }
      ]
    },
    {
      "cell_type": "markdown",
      "source": [
        "**List Update**"
      ],
      "metadata": {
        "id": "6pA3EZB-JKpy"
      }
    },
    {
      "cell_type": "code",
      "source": [
        "#Check if Item Exists\n",
        "\n",
        "lst = [\"a\", \"b\", \"c\", \"d\"]\n",
        "\n",
        "if \"a\" in lst:\n",
        "  print(\"Yes, 'a' is in the list\")\n",
        "\n",
        "#update\n",
        "lst[1] = 'z'\n",
        "print(lst)\n",
        "\n",
        "lst[1:3] = [\"x\", \"y\"]\n",
        "\n",
        "print(lst)\n",
        "\n",
        "\n",
        "lst1 = [1, 2, 3, 4, 5]\n",
        "print(lst1[1:2])\n",
        "print(lst1[1])\n",
        "lst1[1:2] = 9, 8\n",
        "print(lst1)\n",
        "\n",
        "lst1[1] = '6'\n",
        "print(lst1)\n",
        "lst1[1:5] = '6','6','6'\n",
        "print(lst1)"
      ],
      "metadata": {
        "colab": {
          "base_uri": "https://localhost:8080/"
        },
        "id": "dtYGzFcpGHLm",
        "outputId": "8c28398a-78c9-4ba0-d890-930916c85011"
      },
      "execution_count": null,
      "outputs": [
        {
          "output_type": "stream",
          "name": "stdout",
          "text": [
            "Yes, 'a' is in the list\n",
            "['a', 'z', 'c', 'd']\n",
            "['a', 'x', 'y', 'd']\n",
            "[2]\n",
            "2\n",
            "[1, 9, 8, 3, 4, 5]\n",
            "[1, '6', 8, 3, 4, 5]\n",
            "[1, '6', '6', '6', 5]\n"
          ]
        }
      ]
    },
    {
      "cell_type": "code",
      "source": [
        "#['one', 'two', 'three', 'four', 'five']\n",
        "#0:one, 1:two, 2:three\n",
        "#[1, 9, 8, 3, 4, 5]\n",
        "\n",
        "#[1,'6','6','6',5]\n",
        "\n",
        "\n",
        "#0:1, 1:9: 2:8\n"
      ],
      "metadata": {
        "id": "Q3nNmNEVqHQl"
      },
      "execution_count": null,
      "outputs": []
    },
    {
      "cell_type": "markdown",
      "source": [
        "**List Add**"
      ],
      "metadata": {
        "id": "k2jq7CVhIUvv"
      }
    },
    {
      "cell_type": "code",
      "source": [
        "#insert()\n",
        "insert_lst = [\"a\", \"b\", \"c\"]\n",
        "insert_lst.insert(2, \"z\")\n",
        "insert_lst.insert(5, \"z\")\n",
        "print(insert_lst)\n",
        "\n",
        "\n",
        "#append()\n",
        "insert_lst.append(\"abcd\") # adds new item at the end\n",
        "print(insert_lst)\n",
        "\n",
        "#extend()\n",
        "a_lst = [\"apple\", \"banana\", \"cherry\"]\n",
        "b_lst = [\"mango\", \"pineapple\", \"papaya\"]\n",
        "a_lst.extend(b_lst)\n",
        "print(a_lst)"
      ],
      "metadata": {
        "colab": {
          "base_uri": "https://localhost:8080/"
        },
        "id": "dY235WThHbb6",
        "outputId": "41f53678-96db-47a1-f189-dcc778c60d34"
      },
      "execution_count": null,
      "outputs": [
        {
          "output_type": "stream",
          "name": "stdout",
          "text": [
            "['a', 'b', 'z', 'c', 'z']\n",
            "['a', 'b', 'z', 'c', 'z', 'abcd']\n",
            "['apple', 'banana', 'cherry', 'mango', 'pineapple', 'papaya']\n"
          ]
        }
      ]
    },
    {
      "cell_type": "markdown",
      "source": [
        "**Deleting List Items**"
      ],
      "metadata": {
        "id": "qkpRjDFxH_iA"
      }
    },
    {
      "cell_type": "code",
      "source": [
        "names=[\"Ram\", \"Raja\", \"Mani\", \"Arun\"]\n",
        "del names[0]# removes item at index 0\n",
        "print(\"After del names[0]: \", names)\n",
        "\n",
        "names.remove(\"Raja\") # removes \"Raja\"\n",
        "print(\"After names.remove(\\\"Raja\\\"): \", names)\n",
        "\n",
        "print(names.pop(0)) # return and removes item at index 0\n",
        "print(\"After names.pop(0): \", names)\n",
        "\n",
        "names.pop() # return removes item at last index\n",
        "print(\"After names.pop(): \", names)\n",
        "\n",
        "names.clear() #empty list\n",
        "\n",
        "del names # removes entire list object\n",
        "print(names)"
      ],
      "metadata": {
        "colab": {
          "base_uri": "https://localhost:8080/",
          "height": 287
        },
        "id": "v85xd6C2H-Gv",
        "outputId": "171439c3-72c1-4602-c3d2-678164702bcf"
      },
      "execution_count": null,
      "outputs": [
        {
          "output_type": "stream",
          "name": "stdout",
          "text": [
            "After del names[0]:  ['Raja', 'Mani', 'Arun']\n",
            "After names.remove(\"Raja\"):  ['Mani', 'Arun']\n",
            "Mani\n",
            "After names.pop(0):  ['Arun']\n",
            "After names.pop():  []\n"
          ]
        },
        {
          "output_type": "error",
          "ename": "NameError",
          "evalue": "ignored",
          "traceback": [
            "\u001b[0;31m---------------------------------------------------------------------------\u001b[0m",
            "\u001b[0;31mNameError\u001b[0m                                 Traceback (most recent call last)",
            "\u001b[0;32m<ipython-input-15-937a1f178b50>\u001b[0m in \u001b[0;36m<module>\u001b[0;34m\u001b[0m\n\u001b[1;32m     13\u001b[0m \u001b[0;34m\u001b[0m\u001b[0m\n\u001b[1;32m     14\u001b[0m \u001b[0;32mdel\u001b[0m \u001b[0mnames\u001b[0m \u001b[0;31m# removes entire list object\u001b[0m\u001b[0;34m\u001b[0m\u001b[0;34m\u001b[0m\u001b[0m\n\u001b[0;32m---> 15\u001b[0;31m \u001b[0mprint\u001b[0m\u001b[0;34m(\u001b[0m\u001b[0mnames\u001b[0m\u001b[0;34m)\u001b[0m\u001b[0;34m\u001b[0m\u001b[0;34m\u001b[0m\u001b[0m\n\u001b[0m",
            "\u001b[0;31mNameError\u001b[0m: name 'names' is not defined"
          ]
        }
      ]
    },
    {
      "cell_type": "markdown",
      "source": [
        "**List Operators**"
      ],
      "metadata": {
        "id": "y1tw6zWBJXHk"
      }
    },
    {
      "cell_type": "code",
      "source": [
        "L1=[1,2,3]\n",
        "L2=[4,5,6]\n",
        "print('list addition', L1+L2)\n",
        "print('list multiplication', L1*3)\n",
        "print('condition check', 3 in L1)\n",
        "print('condition check', 4 not in L1)"
      ],
      "metadata": {
        "colab": {
          "base_uri": "https://localhost:8080/"
        },
        "id": "vNENh9eDJYXs",
        "outputId": "a722f527-c60b-4f1a-d3b2-7c5a8d540f07"
      },
      "execution_count": null,
      "outputs": [
        {
          "output_type": "stream",
          "name": "stdout",
          "text": [
            "list addition [1, 2, 3, 4, 5, 6]\n",
            "list multiplication [1, 2, 3, 1, 2, 3, 1, 2, 3]\n",
            "condition check True\n",
            "condition check True\n"
          ]
        }
      ]
    },
    {
      "cell_type": "markdown",
      "source": [
        "**List Sorting**"
      ],
      "metadata": {
        "id": "W-ilPKa4MIba"
      }
    },
    {
      "cell_type": "code",
      "source": [
        "##Sort Ascending\n",
        "sort_lst = [\"o\", \"m\", \"k\", \"p\", \"b\"]\n",
        "sort_lst.sort()\n",
        "print(sort_lst)\n",
        "\n",
        "sort_lst1 = [10, 50, 60, 80, 20]\n",
        "sort_lst1.sort()\n",
        "print(sort_lst1)\n"
      ],
      "metadata": {
        "colab": {
          "base_uri": "https://localhost:8080/"
        },
        "id": "61FlZr_zMLAB",
        "outputId": "38078a09-5e57-4077-efd7-d3268bb384f2"
      },
      "execution_count": null,
      "outputs": [
        {
          "output_type": "stream",
          "name": "stdout",
          "text": [
            "['b', 'k', 'm', 'o', 'p']\n",
            "[10, 20, 50, 60, 80]\n"
          ]
        }
      ]
    },
    {
      "cell_type": "code",
      "source": [
        "##Sort Descending\n",
        "sort_lst = [\"o\", \"m\", \"k\", \"p\", \"b\"]\n",
        "sort_lst.sort(reverse = True)\n",
        "print(sort_lst)\n",
        "\n",
        "sort_lst1 = [10, 50, 60, 80, 20]\n",
        "sort_lst1.sort(reverse = True)\n",
        "print(sort_lst1)\n"
      ],
      "metadata": {
        "colab": {
          "base_uri": "https://localhost:8080/"
        },
        "id": "WgPjMpFkNYye",
        "outputId": "5e09ca98-488b-4218-9ad3-5948fbb108cb"
      },
      "execution_count": null,
      "outputs": [
        {
          "output_type": "stream",
          "name": "stdout",
          "text": [
            "['p', 'o', 'm', 'k', 'b']\n",
            "[80, 60, 50, 20, 10]\n"
          ]
        }
      ]
    },
    {
      "cell_type": "markdown",
      "source": [
        "# List Methods:"
      ],
      "metadata": {
        "id": "uh7hJo4uOZ9P"
      }
    },
    {
      "cell_type": "markdown",
      "source": [
        "\n",
        "*   **list.append()**\tAdds a new item at the end of the list.\n",
        "\n",
        "*   **list.clear()**\tRemoves all the items from the list and make it empty.\n",
        "\n",
        "*   **list.copy()**\tReturns a shallow copy of a list.\n",
        "\n",
        "*   **list.count()**\tReturns the number of times an element occurs in the list.\n",
        "\n",
        "*   **list.extend()**\tAdds all the items of the specified iterable (list, tuple, set, dictionary, string) to the end of the list.\n",
        "\n",
        "*   **list.index()**\tReturns the index position of the first occurance of the specified item. Raises a ValueError if there is no item found.\n",
        "\n",
        "*   **list.insert()**\tInserts an item at a given position.\n",
        "\n",
        "*   **list.pop()**\tReturns an item from the specified index position and also removes it from the list. If no index is specified, the list.pop() method removes and returns the last item in the list.\n",
        "\n",
        "*   **list.remove()**\tRemoves the first occurance of the specified item from the list. It the specified item not found then throws a ValueError.\n",
        "\n",
        "*   **list.reverse()**\tReverses the index positions of the elements in the list. The first element will be at the last index, the second element will be at second last index and so on.\n",
        "\n",
        "*   **list.sort()**\tSorts the list items in ascending, descending, or in custom order."
      ],
      "metadata": {
        "id": "8Ss_SeykK5OZ"
      }
    },
    {
      "cell_type": "markdown",
      "source": [
        "# copy in Python (Deep Copy and Shallow Copy):\n",
        "\n",
        "Assignment statements do not copy objects, they create bindings between a target and an object. When we use the = operator, It only creates a new variable that shares the reference of the original object. In order to create “real copies” or “clones” of these objects, we can use the copy module in Python."
      ],
      "metadata": {
        "id": "aNHAtEjQPFTa"
      }
    },
    {
      "cell_type": "code",
      "source": [
        "a = '1'\n",
        "b = a\n",
        "print(id(b))\n",
        "print(id(a))"
      ],
      "metadata": {
        "colab": {
          "base_uri": "https://localhost:8080/"
        },
        "id": "6haCAG2xPWSo",
        "outputId": "5f9128d6-d2c9-4fcb-dca5-fc9ea1b8706a"
      },
      "execution_count": null,
      "outputs": [
        {
          "output_type": "stream",
          "name": "stdout",
          "text": [
            "140441737408112\n",
            "140441737408112\n"
          ]
        }
      ]
    },
    {
      "cell_type": "markdown",
      "source": [
        "**Syntax of Shallow copy:**\n",
        "\n",
        "Syntax: copy.copy(x)\n",
        "\n",
        "**Syntax of Deep copy:**\n",
        "\n",
        "Syntax: copy.deepcopy(x)"
      ],
      "metadata": {
        "id": "_d69meVYPox0"
      }
    },
    {
      "cell_type": "code",
      "source": [
        "# importing copy module\n",
        "import copy\n",
        "\n",
        "list1 = [1, 2, [3,4], 5, 6]\n",
        "print(list1)\n",
        "# using copy for shallow copy\n",
        "list2 = copy.copy(list1)\n",
        "print(list2[2])\n",
        "list2[2][0] = 0\n",
        "print(list2)\n",
        "print(list1)\n"
      ],
      "metadata": {
        "colab": {
          "base_uri": "https://localhost:8080/"
        },
        "id": "6WOOWrlBUk2z",
        "outputId": "0ea0617a-09cb-4577-addd-6bca43f8bc24"
      },
      "execution_count": null,
      "outputs": [
        {
          "output_type": "stream",
          "name": "stdout",
          "text": [
            "[1, 2, [3, 4], 5, 6]\n",
            "[3, 4]\n",
            "[1, 2, [0, 4], 5, 6]\n",
            "[1, 2, [0, 4], 5, 6]\n"
          ]
        }
      ]
    },
    {
      "cell_type": "code",
      "source": [
        "# importing copy module\n",
        "import copy\n",
        "\n",
        "list1 = [1, 2, [3,4], 5, 6]\n",
        "print(list1)\n",
        "# using copy for shallow copy\n",
        "list2 = copy.copy(list1)\n",
        "print(list2[2])\n",
        "list2[1] = 0\n",
        "print(list1)"
      ],
      "metadata": {
        "colab": {
          "base_uri": "https://localhost:8080/"
        },
        "id": "Erij6TLYwGkJ",
        "outputId": "bd265991-bd1d-4b4c-c257-2afbb0282b81"
      },
      "execution_count": null,
      "outputs": [
        {
          "output_type": "stream",
          "name": "stdout",
          "text": [
            "[1, 2, [3, 4], 5, 6]\n",
            "[3, 4]\n",
            "[1, 2, [3, 4], 5, 6]\n"
          ]
        }
      ]
    },
    {
      "cell_type": "code",
      "source": [
        "# importing copy module\n",
        "import copy\n",
        "\n",
        "list3 = [1, 2, [3, 4], 5]\n",
        "print(list3)\n",
        "# using deepcopy for deepcopy\n",
        "list4 = copy.deepcopy(list3)\n",
        "list4[2][0] = 0\n",
        "print(list3)\n",
        "print(list4)\n"
      ],
      "metadata": {
        "colab": {
          "base_uri": "https://localhost:8080/"
        },
        "id": "RDbaJmUVP1u1",
        "outputId": "03fb08ec-5b61-4241-b46a-e7ebebd28b2b"
      },
      "execution_count": null,
      "outputs": [
        {
          "output_type": "stream",
          "name": "stdout",
          "text": [
            "[1, 2, [3, 4], 5]\n",
            "[1, 2, [3, 4], 5]\n",
            "[1, 2, [0, 4], 5]\n"
          ]
        }
      ]
    },
    {
      "cell_type": "markdown",
      "source": [
        "# Python - List Comprehension"
      ],
      "metadata": {
        "id": "v4si_jHcRp35"
      }
    },
    {
      "cell_type": "markdown",
      "source": [
        "List comprehension in Python is an easy and compact syntax for creating a list from a string or another list."
      ],
      "metadata": {
        "id": "1KjHp9_PRuYM"
      }
    },
    {
      "cell_type": "code",
      "source": [
        "lst = [n for n in [1, 2, 3]]\n",
        "print(lst)\n",
        "\n",
        "#Create List of Even Numbers with List Comprehension\n",
        "even_nums = [x for x in range(21) if x%2 == 0]\n",
        "print(even_nums)\n",
        "\n",
        "even_nums1 = [x for x in range(0, 21, 4) if x%2 == 0]\n",
        "print(even_nums1)\n",
        "\n",
        "\n",
        "#List Comprehension with String List\n",
        "names = ['Ram', 'Raja', 'Mani', 'Mohan', 'Arun']\n",
        "names2 = [name for name in names if 'a' in name]\n",
        "print(names2)\n",
        "\n",
        "squares = [i*i for i in range(11)]\n",
        "print(squares)\n",
        "\n",
        "\n",
        "nos1 = [1, 2, 3]\n",
        "nos2 = [4, 5, 6]\n",
        "nos=[(x,y) for x in nos1 for y in nos2]\n",
        "print(nos)\n",
        "\n",
        "#List Comprehension with Multiple if Conditions\n",
        "nums = [x for x in range(21) if x%2==0 if x%5==0]\n",
        "print(nums)\n",
        "\n",
        "odd_even_list = [\"Even\" if i%2==0 else \"Odd\" for i in range(5)]\n",
        "print(odd_even_list)\n",
        "odd_even_list = [str(i) + '=Even' if i%2==0 else str(i) + \"=Odd\" for i in range(5)]\n",
        "print(odd_even_list)\n",
        "\n",
        "#Flatten List\n",
        "matrix=[[1, 2, 3], [4, 5, 6], [7, 8, 9]] #nested list\n",
        "\n",
        "#converting from nested list to flatten list\n",
        "flatList=[num for row in matrix for num in row]\n",
        "print(flatList)\n"
      ],
      "metadata": {
        "colab": {
          "base_uri": "https://localhost:8080/"
        },
        "id": "5h3G4Yu5SEJa",
        "outputId": "97ecfca1-151c-461b-dc7c-ded3e3b5b199"
      },
      "execution_count": 1,
      "outputs": [
        {
          "output_type": "stream",
          "name": "stdout",
          "text": [
            "[1, 2, 3]\n",
            "[0, 2, 4, 6, 8, 10, 12, 14, 16, 18, 20]\n",
            "[0, 4, 8, 12, 16, 20]\n",
            "['Ram', 'Raja', 'Mani', 'Mohan']\n",
            "[0, 1, 4, 9, 16, 25, 36, 49, 64, 81, 100]\n",
            "[(1, 4), (1, 5), (1, 6), (2, 4), (2, 5), (2, 6), (3, 4), (3, 5), (3, 6)]\n",
            "[0, 10, 20]\n",
            "['Even', 'Odd', 'Even', 'Odd', 'Even']\n",
            "['0=Even', '1=Odd', '2=Even', '3=Odd', '4=Even']\n",
            "[1, 2, 3, 4, 5, 6, 7, 8, 9]\n"
          ]
        }
      ]
    },
    {
      "cell_type": "code",
      "source": [
        "# Getting square of from 1 to 10\n",
        "squares = [n**2 for n in range(1, 11)]\n",
        "\n",
        "# Display square of even numbers\n",
        "print(squares)\n",
        "\n",
        "\n",
        "\n",
        "lis = [num for num in range(100) if num % 5 == 0 if num % 10 == 0]\n",
        "print(lis)\n",
        "\n",
        "\n",
        "# Reverse each string in tuple\n",
        "List = [string[::-1] for string in ('Hi', 'Hello', 'World')]\n",
        "\n",
        "# Display list\n",
        "print(List)"
      ],
      "metadata": {
        "colab": {
          "base_uri": "https://localhost:8080/"
        },
        "id": "0m2VEVtgZgCH",
        "outputId": "90bca400-9ebb-4ac3-f534-1ad95594ac06"
      },
      "execution_count": null,
      "outputs": [
        {
          "output_type": "stream",
          "name": "stdout",
          "text": [
            "[1, 4, 9, 16, 25, 36, 49, 64, 81, 100]\n",
            "[0, 10, 20, 30, 40, 50, 60, 70, 80, 90]\n",
            "['iH', 'olleH', 'dlroW']\n"
          ]
        }
      ]
    },
    {
      "cell_type": "code",
      "source": [
        "a = 'malayalam'\n",
        "print(a[::-1])\n",
        "print(a[::4])\n",
        "print(a[::1])"
      ],
      "metadata": {
        "colab": {
          "base_uri": "https://localhost:8080/"
        },
        "id": "almx-_55fWmF",
        "outputId": "8d1a6ce0-a33c-4da7-b58a-f8833dfcaec3"
      },
      "execution_count": null,
      "outputs": [
        {
          "output_type": "stream",
          "name": "stdout",
          "text": [
            "malayalam\n",
            "mym\n",
            "malayalam\n"
          ]
        }
      ]
    },
    {
      "cell_type": "code",
      "source": [
        "name = 'abc'\n",
        "print(name[::-1])"
      ],
      "metadata": {
        "colab": {
          "base_uri": "https://localhost:8080/"
        },
        "id": "cUrGreYLKkUC",
        "outputId": "5f1d1887-7cd5-4b6a-acf3-c0ce812a62a4"
      },
      "execution_count": 2,
      "outputs": [
        {
          "output_type": "stream",
          "name": "stdout",
          "text": [
            "cba\n"
          ]
        }
      ]
    }
  ]
}